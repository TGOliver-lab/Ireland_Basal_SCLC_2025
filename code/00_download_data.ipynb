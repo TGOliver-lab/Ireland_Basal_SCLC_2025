{
 "cells": [
  {
   "cell_type": "markdown",
   "metadata": {},
   "source": [
    "# Downloading necessary data for Ireland et al., 2025\n",
    "### Data have been deposited to Zenodo (doi: 10.5281/zenodo.15857302)\n",
    "Files can be downloaded manually from [Zenodo](https://zenodo.org/records/15857303) but for the code in this repository to run without modification, the data must be in the `../data` directory.  \n",
    "\n",
    "This notebook downloads any missing data files from the Zenodo archive directly into the `../data` directory. "
   ]
  },
  {
   "cell_type": "code",
   "execution_count": null,
   "metadata": {},
   "outputs": [],
   "source": [
    "import os\n",
    "import csv\n",
    "import requests\n",
    "import time\n",
    "from pathlib import Path\n",
    "from concurrent.futures import ThreadPoolExecutor, as_completed\n",
    "from tqdm import tqdm"
   ]
  },
  {
   "cell_type": "code",
   "execution_count": null,
   "id": "b6666576",
   "metadata": {},
   "outputs": [],
   "source": [
    "# Configuration\n",
    "ZENODO_RECORD_ID = \"15857303\"\n",
    "DATA_DIR = Path(\"../data\")\n",
    "MANIFEST_FILE = Path(\"../data/zenodo_manifest.csv\")\n",
    "ERROR_LOG_FILE = \"download_errors.log\"\n",
    "BASE_URL = f\"https://zenodo.org/records/{ZENODO_RECORD_ID}/files\"\n",
    "MAX_RETRIES = 3\n",
    "THREADS = 4  # You can increase based on bandwidth/CPU\n",
    "\n"
   ]
  },
  {
   "cell_type": "code",
   "execution_count": null,
   "id": "70e4e104",
   "metadata": {},
   "outputs": [],
   "source": [
    "# Ensure data directory exists\n",
    "assert DATA_DIR.exists(), f\"Could not find data directory; unsure this notebook is being executed from the code directory\"\n",
    "\n",
    "# Load filenames from manifest\n",
    "with open(MANIFEST_FILE, newline=\"\") as csvfile:\n",
    "    reader = csv.reader(csvfile)\n",
    "    filenames = [row[0].strip() for row in reader if row]\n",
    "\n",
    "# Filter files that are already present\n",
    "missing_files = [f for f in filenames if not Path(DATA_DIR, f).exists()]\n",
    "\n",
    "# Prepare error log\n",
    "with open(ERROR_LOG_FILE, \"w\") as log:\n",
    "    log.write(\"Download errors:\\n\")\n",
    "\n",
    "# Download function with retry and progress bar\n",
    "def download_file(filename):\n",
    "    url = f\"{BASE_URL}/{filename}?download=1\"\n",
    "    target_path = DATA_DIR / filename\n",
    "\n",
    "    for attempt in range(1, MAX_RETRIES + 1):\n",
    "        try:\n",
    "            with requests.get(url, stream=True, timeout=30) as response:\n",
    "                response.raise_for_status()\n",
    "                total = int(response.headers.get('content-length', 0))\n",
    "                with open(target_path, \"wb\") as f, tqdm(\n",
    "                    total=total,\n",
    "                    unit='B',\n",
    "                    unit_scale=True,\n",
    "                    unit_divisor=1024,\n",
    "                    desc=filename,\n",
    "                    initial=0,\n",
    "                    ascii=True,\n",
    "                    leave=False\n",
    "                ) as bar:\n",
    "                    for chunk in response.iter_content(chunk_size=8192):\n",
    "                        f.write(chunk)\n",
    "                        bar.update(len(chunk))\n",
    "            return f\"✅ Downloaded: {filename}\"\n",
    "        except Exception as e:\n",
    "            if attempt < MAX_RETRIES:\n",
    "                time.sleep(2 ** attempt)  # Exponential backoff\n",
    "            else:\n",
    "                error_message = f\"❌ Failed: {filename} (after {MAX_RETRIES} attempts): {e}\"\n",
    "                with open(ERROR_LOG_FILE, \"a\") as log:\n",
    "                    log.write(error_message + \"\\n\")\n",
    "                return error_message\n",
    "\n"
   ]
  },
  {
   "cell_type": "code",
   "execution_count": null,
   "metadata": {},
   "outputs": [],
   "source": [
    "# Parallel downloading\n",
    "print(f\"⬇️  Starting downloads for {len(missing_files)} files using {THREADS} threads...\\n\")\n",
    "\n",
    "with ThreadPoolExecutor(max_workers=THREADS) as executor:\n",
    "    futures = {executor.submit(download_file, f): f for f in missing_files}\n",
    "    for future in tqdm(as_completed(futures), total=len(futures), desc=\"Overall Progress\", ascii=True):\n",
    "        result = future.result()\n",
    "        print(result)\n",
    "\n",
    "print(\"\\n✅ All downloads complete.\")"
   ]
  }
 ],
 "metadata": {
  "kernelspec": {
   "display_name": "scrnaseq312",
   "language": "python",
   "name": "python3"
  },
  "language_info": {
   "codemirror_mode": {
    "name": "ipython",
    "version": 3
   },
   "file_extension": ".py",
   "mimetype": "text/x-python",
   "name": "python",
   "nbconvert_exporter": "python",
   "pygments_lexer": "ipython3",
   "version": "3.12.10"
  }
 },
 "nbformat": 4,
 "nbformat_minor": 5
}
