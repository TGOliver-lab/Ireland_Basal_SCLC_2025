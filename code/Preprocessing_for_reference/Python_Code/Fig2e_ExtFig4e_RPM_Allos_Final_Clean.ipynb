{
 "cells": [
  {
   "cell_type": "markdown",
   "id": "0080e5e0-2f60-45e5-882d-c0e32ed13a31",
   "metadata": {},
   "source": [
    "# Analysis of  RPM basal-organoid-derived allograft tumours\n",
    "## Ireland et al 2024 BioRxiv (Accepted at Nature, 2025)\n",
    "## Updated 05.2025\n",
    "### Related to Fig. 2e (Final Fig. 1j) and Extended Data Fig. 4e"
   ]
  },
  {
   "cell_type": "code",
   "execution_count": null,
   "id": "0f81b4ae-dfe3-4481-abba-fea146a2bf28",
   "metadata": {},
   "outputs": [],
   "source": [
    "#Import other relevant packages\n",
    "import numpy as np\n",
    "import pandas as pd\n",
    "from matplotlib import rcParams\n",
    "import os\n",
    "import scanpy as sc\n",
    "\n",
    "import matplotlib as mpl\n",
    "import matplotlib.pyplot as plt\n",
    "\n",
    "#For nice color schemes\n",
    "import cmocean\n",
    "\n",
    "#For barplots\n",
    "import seaborn as sns\n",
    "\n",
    "#Import scVI\n",
    "import scvi\n",
    "from scvi.model.utils import mde\n",
    "\n",
    "scvi.settings.verbosity = 40\n",
    "\n",
    "#Import scVI\n",
    "import scvi\n",
    "from scvi.model.utils import mde\n",
    "\n",
    "scvi.settings.verbosity = 40"
   ]
  },
  {
   "cell_type": "code",
   "execution_count": null,
   "id": "28a448e0-133f-49a9-8c4d-e59a8d6c695a",
   "metadata": {},
   "outputs": [],
   "source": [
    "sc.settings.verbosity = 3             # verbosity: errors (0), warnings (1), info (2), hints (3)\n",
    "sc.logging.print_header()\n",
    "sc.settings.set_figure_params(dpi=80, facecolor='white')"
   ]
  },
  {
   "cell_type": "code",
   "execution_count": null,
   "id": "e2474e8d-4a4c-4124-9e14-757c6aa1f351",
   "metadata": {},
   "outputs": [],
   "source": [
    "# Read \n",
    "os.chdir('/work/asi16')"
   ]
  },
  {
   "cell_type": "markdown",
   "id": "c9fbc4a3-60ac-4953-8979-3069cb345c01",
   "metadata": {},
   "source": [
    "## 1. Read in RPM Allograft \"CellTagged pre-Cre\""
   ]
  },
  {
   "cell_type": "code",
   "execution_count": null,
   "id": "a3d8885b-49a0-4fa6-a496-45be8f493c47",
   "metadata": {},
   "outputs": [],
   "source": [
    "RPM_allo=sc.read_10x_mtx('MedGenome_FASTQ_123123/RPM_TBO_Allo/042024_RPM_TBO_Allo_CustomCount/filtered_feature_bc_matrix', var_names='gene_symbols', cache=True)"
   ]
  },
  {
   "cell_type": "markdown",
   "id": "beff9293-64b4-4daf-9a2b-1410d91c9e01",
   "metadata": {},
   "source": [
    "## 2. Read in RPM Allograft (\"Allo3\") \"CellTagged post-Cre\""
   ]
  },
  {
   "cell_type": "code",
   "execution_count": null,
   "id": "3cab8580-bd82-4684-a8ec-0bc2c29a0d29",
   "metadata": {},
   "outputs": [],
   "source": [
    "RPM_allo3=sc.read_10x_mtx('042225_RPM_TBO_CellTagPostCre/042225_RPMTBOAllo_CTpostCre_1/outs/filtered_feature_bc_matrix', var_names='gene_symbols', cache=True)"
   ]
  },
  {
   "cell_type": "code",
   "execution_count": null,
   "id": "0dab14e4-b6ab-4ac4-a906-3fd95e668047",
   "metadata": {},
   "outputs": [],
   "source": [
    "# Add metadata to RPMA and RPM\n",
    "RPM_allo.obs['Genotype'] = 'RPM'\n",
    "RPM_allo.obs['GenoCT'] = 'RPM_CTpreCre'\n",
    "RPM_allo.obs['Model'] = 'Allograft'\n",
    "RPM_allo.obs['Cre'] = 'CT_pre-Cre'\n",
    "RPM_allo.obs['UnID'] = 'RPM_Allo_New'\n",
    "RPM_allo.obs['Batch'] = 'RPM_Allo_New'\n",
    "\n",
    "RPM_allo3.obs['Genotype'] = 'RPM'\n",
    "RPM_allo3.obs['GenoCT'] = 'RPM_CTpostCre'\n",
    "RPM_allo3.obs['Model'] = 'Allograft'\n",
    "RPM_allo3.obs['Cre'] = 'CT_post-Cre'\n",
    "RPM_allo3.obs['UnID'] = 'RPM_Allo3'\n",
    "RPM_allo3.obs['Batch'] = 'RPM_CTpostCre'\n"
   ]
  },
  {
   "cell_type": "markdown",
   "id": "e787c1d3-8f26-4dc7-affe-09371dbb609c",
   "metadata": {},
   "source": [
    "## 3. Concatenate allograft adata objects to one adata object"
   ]
  },
  {
   "cell_type": "code",
   "execution_count": null,
   "id": "5ce38fe5-2d5c-4cfd-8696-6f05f0baaa5e",
   "metadata": {},
   "outputs": [],
   "source": [
    "# Concatenate datasets, first without the no cre old RPM sample...\n",
    "adata= RPM_allo.concatenate([RPM_allo3], \n",
    "                              index_unique=None, join=\"outer\")"
   ]
  },
  {
   "cell_type": "code",
   "execution_count": null,
   "id": "2844085b-4217-462f-af65-e1e095ba2b13",
   "metadata": {},
   "outputs": [],
   "source": [
    "adata.obs_names_make_unique()"
   ]
  },
  {
   "cell_type": "code",
   "execution_count": null,
   "id": "672f9f76-10d7-4e5d-a4e7-4ca3aa6c2281",
   "metadata": {},
   "outputs": [],
   "source": [
    "adata.obs.groupby([\"UnID\"]).apply(len)"
   ]
  },
  {
   "cell_type": "markdown",
   "id": "4635a09c-e3dd-410e-b619-92950035042f",
   "metadata": {},
   "source": [
    "## 4. Perform QC"
   ]
  },
  {
   "cell_type": "code",
   "execution_count": null,
   "id": "3dbf977a-bb12-408f-8d69-a1dff5a0030a",
   "metadata": {},
   "outputs": [],
   "source": [
    "#QC filtering\n",
    "adata.var['mito'] = adata.var_names.str.startswith('mt-')  # annotate the group of mitochondrial genes as 'mt'\n",
    "sc.pp.calculate_qc_metrics(adata, qc_vars=['mito'], percent_top=None, log1p=False, inplace=True)\n",
    "\n",
    "sc.pp.filter_cells(adata, min_genes=200)\n",
    "#sc.pp.filter_genes(orgs_all, min_cells=3)\n",
    "\n",
    "adata.var['mito'] = adata.var_names.str.startswith('mt-')  # annotate the group of mitochondrial genes as 'mt'\n",
    "sc.pp.calculate_qc_metrics(adata, qc_vars=['mito'], percent_top=None, log1p=False, inplace=True)"
   ]
  },
  {
   "cell_type": "code",
   "execution_count": null,
   "id": "ce5057a6-97b1-41f7-bd21-9163d981463b",
   "metadata": {},
   "outputs": [],
   "source": [
    "sc.pl.violin(adata, ['n_genes_by_counts', 'total_counts', 'pct_counts_mito'],\n",
    "             jitter=0.4, multi_panel=True)\n",
    "sc.pl.scatter(adata, x='total_counts', y='pct_counts_mito')\n",
    "sc.pl.scatter(adata, x='total_counts', y='n_genes_by_counts')"
   ]
  },
  {
   "cell_type": "code",
   "execution_count": null,
   "id": "63b8f48c-e460-4f10-991f-91caf4a614bb",
   "metadata": {},
   "outputs": [],
   "source": [
    "#Filter data by slicing anndata object\n",
    "adata = adata[adata.obs.n_genes_by_counts < 9000, :]\n",
    "adata = adata[adata.obs.n_genes_by_counts > 500, :]\n",
    "adata = adata[adata.obs.total_counts > 2000, :]\n",
    "adata = adata[adata.obs.pct_counts_mito < 15, :]"
   ]
  },
  {
   "cell_type": "code",
   "execution_count": null,
   "id": "9694bcd8-2d2d-4c55-af5d-668c389d5897",
   "metadata": {},
   "outputs": [],
   "source": [
    "adata.obs.groupby([\"UnID\"]).apply(len)"
   ]
  },
  {
   "cell_type": "code",
   "execution_count": null,
   "id": "205244e5-8384-46a0-bd62-461e42df8c57",
   "metadata": {},
   "outputs": [],
   "source": [
    "adata.obs.groupby([\"Batch\"]).apply(len)"
   ]
  },
  {
   "cell_type": "code",
   "execution_count": null,
   "id": "87f8c308-fd9d-4e18-874b-1c549d5bc59d",
   "metadata": {},
   "outputs": [],
   "source": [
    "adata.obs.groupby([\"GenoCT\"]).apply(len)"
   ]
  },
  {
   "cell_type": "code",
   "execution_count": null,
   "id": "01c547c9-4ee4-4e7f-9fd9-5c3c20cc2856",
   "metadata": {},
   "outputs": [],
   "source": [
    "adata.obs.groupby([\"Genotype\"]).apply(len)"
   ]
  },
  {
   "cell_type": "markdown",
   "id": "c957285c-f3e8-42c4-b0c1-c8a8e7f8505d",
   "metadata": {},
   "source": [
    "## 5. ID HVGs and generate SCVI model for clustering with batch correction"
   ]
  },
  {
   "cell_type": "code",
   "execution_count": null,
   "id": "d4c46e9d-2f69-4d64-bd26-8aa776e724e8",
   "metadata": {},
   "outputs": [],
   "source": [
    "#Prep for HVG and scvi\n",
    "#log1p the data\n",
    "adata.obs[\"log1p_total_counts\"] = np.log1p(adata.obs[\"total_counts\"])\n",
    "#Create layers\n",
    "adata.layers[\"counts\"] = adata.X.copy()\n",
    "adata.layers['norm'] = adata.X.copy(); sc.pp.normalize_total(adata, target_sum=1e4, layer=\"norm\")"
   ]
  },
  {
   "cell_type": "code",
   "execution_count": null,
   "id": "87be9cad-29d8-46c9-ac41-ae9cd75530a5",
   "metadata": {
    "tags": []
   },
   "outputs": [],
   "source": [
    "#HVG via Scanpy\n",
    "#Note here that if you run with a batch_key with few cells, will get b'reciprocal condition number error\n",
    "sc.pp.highly_variable_genes(\n",
    "    adata,n_top_genes=5000,\n",
    "    subset=False,\n",
    "    layer=\"counts\",\n",
    "    flavor=\"seurat_v3\"\n",
    ")"
   ]
  },
  {
   "cell_type": "markdown",
   "id": "5a616849-ac64-49dc-ac1b-90a95ab630ff",
   "metadata": {},
   "source": [
    "## 6. Set up and train model (scvi)"
   ]
  },
  {
   "cell_type": "code",
   "execution_count": null,
   "id": "cfa49753-b668-488e-aa5e-b8bdd5f9cc38",
   "metadata": {},
   "outputs": [],
   "source": [
    "adata.var['mean_'] = np.array(adata.X.mean(0))[0]\n",
    "adata.var['frac_zero'] = 1 - np.array((adata.X > 0).sum(0))[0] / adata.shape[0]\n",
    "\n",
    "fig, ax = plt.subplots(figsize=(9,6))\n",
    "ax.scatter(adata.var.mean_, adata.var.frac_zero, s=1)\n",
    "ax.set_xscale(\"log\")"
   ]
  },
  {
   "cell_type": "code",
   "execution_count": null,
   "id": "4547de22-724b-4ec3-a116-e8c6c16199b0",
   "metadata": {},
   "outputs": [],
   "source": [
    "#Calculate Poisson gene selection\n",
    "df_poisson = scvi.data.poisson_gene_selection(\n",
    "    adata, n_top_genes=5000, batch_key=\"Batch\", inplace=False\n",
    ")\n",
    "\n",
    "df_poisson[df_poisson.highly_variable].sort_values('prob_zero_enrichment_rank')\n",
    "\n",
    "pd.crosstab(df_poisson.highly_variable, adata.var.highly_variable)\n",
    "\n",
    "is_hvg = df_poisson.highly_variable\n",
    "\n",
    "adata.varm['df_poisson']= df_poisson\n",
    "\n",
    "adata_query = adata[:, is_hvg].copy()\n",
    "print(adata_query)"
   ]
  },
  {
   "cell_type": "code",
   "execution_count": null,
   "id": "c951f343-7464-40c2-b675-0d6eedb8d769",
   "metadata": {},
   "outputs": [],
   "source": [
    "scvi.model.SCVI.setup_anndata(\n",
    "    adata_query,\n",
    "    layer=\"counts\",\n",
    "    batch_key='Batch',\n",
    "    continuous_covariate_keys=[\"pct_counts_mito\"]\n",
    ")\n",
    "\n",
    "model = scvi.model.SCVI(adata_query)"
   ]
  },
  {
   "cell_type": "code",
   "execution_count": null,
   "id": "8fcd146b-b7e4-4e9c-92a9-e782c71615eb",
   "metadata": {},
   "outputs": [],
   "source": [
    "#Train and run scvi\n",
    "\n",
    "#Training parameters\n",
    "train_kwargs = dict(\n",
    "    early_stopping=True,\n",
    "    early_stopping_patience=20,\n",
    "    enable_model_summary=True,\n",
    "    enable_progress_bar=True,\n",
    "    enable_checkpointing=True,\n",
    "    max_epochs=500\n",
    ")\n",
    "\n",
    "#Train and run model\n",
    "#Be sure GPU is enabled to run this\n",
    "model.train(**train_kwargs)"
   ]
  },
  {
   "cell_type": "code",
   "execution_count": null,
   "id": "e257e45b-5318-4f1e-a103-26d029651325",
   "metadata": {},
   "outputs": [],
   "source": [
    "#Fit model to data\n",
    "#Get latent representation of model to apply to UMAP\n",
    "latent = model.get_latent_representation()\n",
    "\n",
    "adata.obsm[\"X_scVI_1.1\"] = latent"
   ]
  },
  {
   "cell_type": "markdown",
   "id": "13bcaa8e-9867-41ba-9ca6-9fdb359c4585",
   "metadata": {},
   "source": [
    "## 7. Perform leiden clustering"
   ]
  },
  {
   "cell_type": "code",
   "execution_count": null,
   "id": "8c314f9e-27c3-4bf9-ac8d-cee19ad8c953",
   "metadata": {},
   "outputs": [],
   "source": [
    "#Calculate neighbors using scVI model input\n",
    "sc.pp.neighbors(adata, use_rep=\"X_scVI_1.1\")\n",
    "sc.tl.umap(adata, min_dist=0.5)\n",
    "\n",
    "#Run leiden clustering based on neighbors\n",
    "sc.tl.leiden(adata, key_added=\"leiden_scVI_1.1\", resolution=1)"
   ]
  },
  {
   "cell_type": "markdown",
   "id": "78a77880-e9d8-4951-91a7-32b6059ea50b",
   "metadata": {},
   "source": [
    "## 8. Visualize clustering, QC metrics, and identify cell types"
   ]
  },
  {
   "cell_type": "code",
   "execution_count": null,
   "id": "7980e2d5-67a4-4a0f-a7a5-03a2fe15d22c",
   "metadata": {},
   "outputs": [],
   "source": [
    "#QC UMAPs\n",
    "sc.pl.umap(\n",
    "    adata,\n",
    "    color=[\"n_genes_by_counts\", \"total_counts\", \"pct_counts_mito\", \"log1p_total_counts\"],\n",
    "    cmap=\"cubehelix_r\",\n",
    "    s=3,\n",
    "    ncols=2,\n",
    ")"
   ]
  },
  {
   "cell_type": "code",
   "execution_count": null,
   "id": "7c36ac48-018f-46d3-9ddc-ecb0fd65afb7",
   "metadata": {},
   "outputs": [],
   "source": [
    "fig, ax = plt.subplots(figsize=(8, 6))\n",
    "sc.pl.umap(adata, color=\"leiden_scVI_1.1\", legend_loc=\"on data\", legend_fontsize='large',ax=ax, s=30, frameon=False, save=False)\n",
    "fig, ax = plt.subplots(figsize=(8, 6))\n",
    "sc.pl.umap(adata, color=\"UnID\", legend_loc=\"right margin\", ax=ax, s=30, frameon=False, save=False)\n",
    "fig, ax = plt.subplots(figsize=(8, 6))\n",
    "sc.pl.umap(adata, color=\"Genotype\", legend_loc=\"right margin\", ax=ax, s=30, frameon=False, save=False)\n",
    "fig, ax = plt.subplots(figsize=(8, 6))\n",
    "sc.pl.umap(adata, color=\"GenoCT\", legend_loc=\"right margin\", ax=ax, s=30, frameon=False, save=False)\n",
    "\n",
    "#Additional QC bar graphs\n",
    "adata.obs['cluster'] = adata.obs[\"leiden_scVI_1.1\"].copy()\n",
    "\n",
    "#Plot Log1p total counts\n",
    "fig, ax = plt.subplots(figsize=(20,6))\n",
    "sns.boxenplot(data=adata.obs, x=\"cluster\", y=\"log1p_total_counts\", ax=ax)\n",
    "\n",
    "#Plot Pct counts mito\n",
    "fig, ax = plt.subplots(figsize=(20,6))\n",
    "sns.boxenplot(data=adata.obs, x=\"cluster\", y=\"pct_counts_mito\", ax=ax)\n"
   ]
  },
  {
   "cell_type": "code",
   "execution_count": null,
   "id": "64255d5c-01a0-4197-bd3a-0e6ed0652b3e",
   "metadata": {},
   "outputs": [],
   "source": [
    "# Dot plot key cell type markers\n",
    "more_types=[\"Col14a1\", \"Acta2\",\"Myh11\",\"Tagln\",\"Mustn1\", #fibroblast\n",
    "              \"Lpl\",\"Lipa\",\"Pparg\",\"Plin2\",\"Ear1\",\"Spp1\", #lipofibroblast/osteoblastic\n",
    "              \"Ptprc\",\"Mertk\",\"Mrc1\",\"Ly75\",\"Adgre1\",\"Itgax\",\"Cd68\",\"Csf1r\",\"Mafb\",\"Msr1\",\"Arg1\",\"Adgre4\", #Macs/Myeloid\n",
    "              \"Cx3cr1\",\"Itgam\",\"Cd14\", #Monocytes\n",
    "              \"S100a9\",\"S100a8\",\"Mmp9\",\"Csf3r\",\"Cxcr2\",\"Ly6g\", #Neuts\n",
    "              \"Batf3\",\"Xcr1\",\"Clec9a\",\"Ccl17\",\"Ccl22\", #DC\n",
    "              \"Cd3d\",\"Cd3e\",\"Cd3g\",\"Cd28\",\"Cd8a\",\"Cd4\",\"Foxp3\", # Tcell\n",
    "              \"Gzma\",\"Ncr1\",\"Gzmb\", #NK\n",
    "              \"Fcmr\",\"Cd19\",\"Fcer2a\",\"Pax5\",\"Cd22\",\"Cd79b\",\"Cd79a\", #B cells\n",
    "              \"Slamf7\", \"Prdm1\", #Plasma\n",
    "              \"Mcam\",\"Pecam1\",\"Icam2\",\"Cd36\",\"Cd93\", #Endothelial\n",
    "    \"Pdpn\",\"Cav1\",\"Cav2\",\"Hopx\",\"Timp3\",\"Sema3f\",\"Serpine1\", #AT1\n",
    "              \"Abca3\",\"Muc1\",\"Sftpa1\",\"Sftpb\",\"Sftpd\",\"Scd1\", #AT2\n",
    "              \"Scgb1a1\",\"Cyp2f2\",\"Scgb3a2\", \"Scgb3a1\",\"Lypd2\",#Club\n",
    "              \"Muc5ac\",\"Muc5b\", # Goblet\n",
    "              \"Tubb4a\",\"Foxa3\",\"Foxj1\",\"Rfx2\",\"Rfx3\",\"Trp73\", #Ciliated\n",
    "              'Krt5', 'Krt17','Krt15','Trp63','Id1','Icam1','Epas1','Aqp3','Sfn','Perp','Fxyd3','Sdc1','Gstm2','F3','Abi3bp','Adh7', # Basal\n",
    "              'Bex2','Ascl1','Meis2','Hes6','Hoxb5','Foxa2','Sox4','Rora','Isl1','Id4', 'Neurod1','Neurod4','Nhlh1','Nhlh2',#NE/neuronal\n",
    "              'Pou2f3','Trpm5','Ascl2','Ehf',\n",
    "              'Lrmp','Gng13','Ltc4s','Alox5ap','Avil','Alox5','Atp2a3','Plk2', #tuft\n",
    "              \"Cftr\",\"Ascl3\", 'Stap1','Atp6v1c2','Pparg','Rasd1','Slc12a2', #ionocyte\n",
    "              \"Gja1\",\"Nkx2-1\",\"Epcam\", # Lung lineage\n",
    "              'Yap1','Wwtr1','Sox2','Cd44','Hes1', # Stem-like\n",
    "             \"Venus\",\"fLuc\", \"Top2a\",\"Mki67\",\n",
    "            'GFP.CDS','CellTag.UTR'] # Tumor markers\n",
    "\n",
    "sc.set_figure_params(scanpy=True, fontsize=20) \n",
    "sc.pl.dotplot(\n",
    "    adata,figsize=[28,10],\n",
    "    var_names=more_types,\n",
    "    groupby='leiden_scVI_1.1',\n",
    "    use_raw=False,\n",
    "    layer=\"norm\",show=False,\n",
    "    color_map=\"cmo.dense\", var_group_rotation=35,standard_scale='var',\n",
    "    save=False)"
   ]
  },
  {
   "cell_type": "code",
   "execution_count": null,
   "id": "a79ccc93-20b5-445d-a9c9-9686c4d28f13",
   "metadata": {},
   "outputs": [],
   "source": [
    "#feature plots\n",
    "more_types=[\"Col14a1\", \"Acta2\",\"Myh11\",\"Tagln\",\"Mustn1\", #fibroblast\n",
    "              \"Lpl\",\"Lipa\",\"Pparg\",\"Plin2\",\"Ear1\",\"Fabp1\",\"Spp1\", #lipofibroblast/osteoblastic\n",
    "              \"Ptprc\",\"Mertk\",\"Marco\",\"Mrc1\",\"Ly75\",\"Adgre1\",\n",
    "            \"Itgax\",\"Cd68\",\"Csf1r\",\"Mafb\",\"Msr1\",\"Arg1\",\"Adgre4\",\"Clec4a1\", #Macs/Myeloid\n",
    "              \"Cx3cr1\",\"Itgam\",\"Cd14\", #Monocytes\n",
    "              \"S100a9\",\"S100a8\",\"Mmp9\",\"Csf3r\",\"Cxcr2\",\"Ly6g\", #Neuts\n",
    "              \"Batf3\",\"Xcr1\",\"Clec9a\",\"Ccl17\",\"Ccl22\", #DC\n",
    "              \"Cd3d\",\"Cd3e\",\"Cd3g\",\"Cd28\",\"Cd8a\",\"Cd4\",\"Foxp3\", # Tcell\n",
    "              \"Gzma\",\"Ncr1\",\"Gzmb\", #NK\n",
    "              \"Fcmr\",\"Cd19\",\"Fcer2a\",\"Pax5\",\"Cd22\",\"Cd79b\",\"Cd79a\", #B cells\n",
    "              \"Slamf7\", \"Prdm1\", #Plasma\n",
    "              \"Mcam\",\"Pecam1\",\"Icam2\",\"Cd36\",\"Cd93\"] #Endothelial\n",
    "\n",
    "sc.pl.umap(\n",
    "    adata,\n",
    "    color=more_types,\n",
    "    use_raw=False,\n",
    "    legend_loc= \"on data\",\n",
    "    color_map=\"cmo.dense\",\n",
    "    ncols=4,s=30,\n",
    "    frameon=False,\n",
    "    vmax=\"p99.5\",\n",
    "    layer=\"norm\",\n",
    "    save=False\n",
    ")"
   ]
  },
  {
   "cell_type": "code",
   "execution_count": null,
   "id": "72b60671-f6fc-4401-8905-57d2aeffb2dd",
   "metadata": {},
   "outputs": [],
   "source": [
    "adata.write_h5ad(\"042725_RPMTBOAllos_OriginalandAllo4_5kHVG.h5ad\")"
   ]
  },
  {
   "cell_type": "code",
   "execution_count": null,
   "id": "3dc5cbfa-4aed-41b8-af43-1493cb8f176c",
   "metadata": {},
   "outputs": [],
   "source": [
    "# Subsample by cluster here to maintain heterogeneity/representation of rare cell types/cell fates.\n",
    "\n",
    "# Set the number of cells you want to sample per cluster\n",
    "n_cells_per_cluster = 300  # Change this as needed\n",
    "\n",
    "# Create a list to hold the downsampled indices\n",
    "downsampled_indices = []\n",
    "\n",
    "# Loop over each unique Leiden cluster label\n",
    "for cluster in adata.obs['leiden_scVI_1.1'].unique():\n",
    "    # Get the indices of cells in this cluster\n",
    "    cluster_cells = adata.obs[adata.obs['leiden_scVI_1.1'] == cluster].index\n",
    "    \n",
    "    # If there are more than n_cells_per_cluster cells, sample randomly\n",
    "    if len(cluster_cells) > n_cells_per_cluster:\n",
    "        sampled_cells = np.random.choice(cluster_cells, size=n_cells_per_cluster, replace=False)\n",
    "    else:\n",
    "        sampled_cells = cluster_cells  # Don't downsample if the cluster has fewer cells\n",
    "    \n",
    "    # Append the sampled indices to the list\n",
    "    downsampled_indices.extend(sampled_cells)\n",
    "\n",
    "# Create a new AnnData object with just the downsampled cells\n",
    "adata_downsampled = adata[downsampled_indices, :].copy()\n",
    "\n",
    "# Print the new object size\n",
    "print(adata_downsampled)\n"
   ]
  },
  {
   "cell_type": "code",
   "execution_count": null,
   "id": "766b230b-039b-4e0d-89f3-543d219faf20",
   "metadata": {},
   "outputs": [],
   "source": [
    "# Based on gene expression and QC metrics, remove non-tumor cell clusters and low QC clusters\n",
    "# 24-endothelial 15-immune 21-qa 12-qc 11-qc 0-qc 3-qc 16-qc\n",
    "\n",
    "bad_clust=['24','15','21','12','11','0','3','16']\n",
    "\n",
    "#Filter out bad clusters\n",
    "to_keep=(~adata_downsampled.obs['leiden_scVI_1.1'].isin(bad_clust))\n",
    "\n",
    "#Copy over to new anndata object\n",
    "adata2 = adata_downsampled[to_keep].copy()"
   ]
  },
  {
   "cell_type": "markdown",
   "id": "8acc5fb4-fe8d-4693-9f90-a723b0be33d5",
   "metadata": {},
   "source": [
    "### From here, continue iterating through runs of scvi modeling until no clear low quality cell clusters or non-tumor cells are observed.\n",
    "### Start back up at \"set up and train scvi model\" and run through subsetting out \"bad clusters\".\n",
    "### Each time clusters are removed, model is run again to recluster."
   ]
  },
  {
   "cell_type": "markdown",
   "id": "5e7b6eaf-7b11-40ab-9cdf-62bd97d23931",
   "metadata": {},
   "source": [
    "## ITERATION 2"
   ]
  },
  {
   "cell_type": "code",
   "execution_count": null,
   "id": "103c9de7-01d0-4a4e-a8d9-e1606b6d7476",
   "metadata": {},
   "outputs": [],
   "source": [
    "#HVG via Scanpy\n",
    "#Note here that if you run with a batch_key with few cells, will get b'reciprocal condition number error\n",
    "sc.pp.highly_variable_genes(\n",
    "    adata2,n_top_genes=5000,\n",
    "    subset=False,\n",
    "    layer=\"counts\",\n",
    "    flavor=\"seurat_v3\"\n",
    ")"
   ]
  },
  {
   "cell_type": "code",
   "execution_count": null,
   "id": "8b055347-bbc6-4a04-b8df-465466c7d049",
   "metadata": {},
   "outputs": [],
   "source": [
    "adata2.var['mean_'] = np.array(adata2.X.mean(0))[0]\n",
    "adata2.var['frac_zero'] = 1 - np.array((adata2.X > 0).sum(0))[0] / adata2.shape[0]\n",
    "\n",
    "fig, ax = plt.subplots(figsize=(9,6))\n",
    "ax.scatter(adata2.var.mean_, adata2.var.frac_zero, s=1)\n",
    "ax.set_xscale(\"log\")"
   ]
  },
  {
   "cell_type": "code",
   "execution_count": null,
   "id": "ce67d307-76d7-4fe4-aac1-d4e027628474",
   "metadata": {},
   "outputs": [],
   "source": [
    "#Calculate Poisson gene selection\n",
    "df_poisson = scvi.data.poisson_gene_selection(\n",
    "    adata2, n_top_genes=5000, batch_key=\"Batch\", inplace=False\n",
    ")\n",
    "\n",
    "df_poisson[df_poisson.highly_variable].sort_values('prob_zero_enrichment_rank')\n",
    "\n",
    "pd.crosstab(df_poisson.highly_variable, adata2.var.highly_variable)\n",
    "\n",
    "is_hvg = df_poisson.highly_variable\n",
    "\n",
    "adata2.varm['df_poisson']= df_poisson\n",
    "\n",
    "adata_query = adata2[:, is_hvg].copy()\n",
    "print(adata_query)"
   ]
  },
  {
   "cell_type": "code",
   "execution_count": null,
   "id": "c715f43d-9f30-4b96-97fe-15c0a192be7c",
   "metadata": {},
   "outputs": [],
   "source": [
    "scvi.model.SCVI.setup_anndata(\n",
    "    adata_query,\n",
    "    layer=\"counts\",\n",
    "    batch_key='Batch',\n",
    "    continuous_covariate_keys=[\"pct_counts_mito\"]\n",
    ")\n",
    "\n",
    "model = scvi.model.SCVI(adata_query)"
   ]
  },
  {
   "cell_type": "code",
   "execution_count": null,
   "id": "e556a2d6-529d-41cb-b075-570d2f90efc9",
   "metadata": {},
   "outputs": [],
   "source": [
    "#Train and run scvi\n",
    "\n",
    "#Training parameters\n",
    "train_kwargs = dict(\n",
    "    early_stopping=True,\n",
    "    early_stopping_patience=20,\n",
    "    enable_model_summary=True,\n",
    "    enable_progress_bar=True,\n",
    "    enable_checkpointing=True,\n",
    "    max_epochs=500\n",
    ")\n",
    "\n",
    "#Train and run model\n",
    "#Be sure GPU is enabled to run this\n",
    "model.train(**train_kwargs)"
   ]
  },
  {
   "cell_type": "code",
   "execution_count": null,
   "id": "a9f085c0-9d68-4125-9e7b-3b3be6a98a64",
   "metadata": {},
   "outputs": [],
   "source": [
    "#Fit model to data\n",
    "#Get latent representation of model to apply to UMAP\n",
    "latent = model.get_latent_representation()\n",
    "\n",
    "adata2.obsm[\"X_scVI_1.2\"] = latent"
   ]
  },
  {
   "cell_type": "code",
   "execution_count": null,
   "id": "dc3ccf93-b890-4496-b3a2-7440cd3b3251",
   "metadata": {},
   "outputs": [],
   "source": [
    "#Calculate neighbors using scVI model input\n",
    "sc.pp.neighbors(adata2, use_rep=\"X_scVI_1.2\")\n",
    "sc.tl.umap(adata2, min_dist=1)\n",
    "\n",
    "#Run leiden clustering based on neighbors\n",
    "sc.tl.leiden(adata2, key_added=\"leiden_scVI_1.2\", resolution=0.5)\n"
   ]
  },
  {
   "cell_type": "code",
   "execution_count": null,
   "id": "8cf3596d-085d-4735-b286-ac7ecb2f88b3",
   "metadata": {},
   "outputs": [],
   "source": [
    "fig, ax = plt.subplots(figsize=(8, 6))\n",
    "sc.pl.umap(adata2, color=\"leiden_scVI_1.2\", legend_loc=\"on data\", legend_fontsize='large',ax=ax, s=30, frameon=False, save=False)\n",
    "fig, ax = plt.subplots(figsize=(8, 6))\n",
    "sc.pl.umap(adata2, color=\"UnID\", legend_loc=\"right margin\", ax=ax, s=30, frameon=False, save=False)\n",
    "fig, ax = plt.subplots(figsize=(8, 6))\n",
    "sc.pl.umap(adata2, color=\"GenoCT\", legend_loc=\"right margin\", ax=ax, s=30, frameon=False, save=False)\n",
    "\n",
    "#Additional QC bar graphs\n",
    "adata2.obs['cluster'] = adata2.obs[\"leiden_scVI_1.2\"].copy()\n",
    "\n",
    "#Plot Log1p total counts\n",
    "fig, ax = plt.subplots(figsize=(20,6))\n",
    "sns.boxenplot(data=adata2.obs, x=\"cluster\", y=\"log1p_total_counts\", ax=ax)\n",
    "\n",
    "#Plot Pct counts mito\n",
    "fig, ax = plt.subplots(figsize=(20,6))\n",
    "sns.boxenplot(data=adata2.obs, x=\"cluster\", y=\"pct_counts_mito\", ax=ax)\n"
   ]
  },
  {
   "cell_type": "code",
   "execution_count": null,
   "id": "88b4f5d2-81ee-4dde-aff1-4c52b93b9c17",
   "metadata": {},
   "outputs": [],
   "source": [
    "more_types=[\"Col14a1\", \"Acta2\",\"Myh11\",\"Tagln\",\"Mustn1\", #fibroblast\n",
    "              \"Lpl\",\"Lipa\",\"Pparg\",\"Plin2\",\"Ear1\",\"Spp1\", #lipofibroblast/osteoblastic\n",
    "              \"Ptprc\",\"Mertk\",\"Mrc1\",\"Ly75\",\"Adgre1\",\"Itgax\",\"Cd68\",\"Csf1r\",\"Mafb\",\"Msr1\",\"Arg1\",\"Adgre4\", #Macs/Myeloid\n",
    "              \"Cx3cr1\",\"Itgam\",\"Cd14\", #Monocytes\n",
    "              \"S100a9\",\"S100a8\",\"Mmp9\",\"Csf3r\",\"Cxcr2\",\"Ly6g\", #Neuts\n",
    "              \"Batf3\",\"Xcr1\",\"Clec9a\",\"Ccl17\",\"Ccl22\", #DC\n",
    "              \"Cd3d\",\"Cd3e\",\"Cd3g\",\"Cd28\",\"Cd8a\",\"Cd4\",\"Foxp3\", # Tcell\n",
    "              \"Gzma\",\"Ncr1\",\"Gzmb\", #NK\n",
    "              \"Fcmr\",\"Cd19\",\"Fcer2a\",\"Pax5\",\"Cd22\",\"Cd79b\",\"Cd79a\", #B cells\n",
    "              \"Slamf7\", \"Prdm1\", #Plasma\n",
    "              \"Mcam\",\"Pecam1\",\"Icam2\",\"Cd36\",\"Cd93\", #Endothelial\n",
    "    \"Pdpn\",\"Cav1\",\"Cav2\",\"Hopx\",\"Timp3\",\"Sema3f\",\"Serpine1\", #AT1\n",
    "              \"Abca3\",\"Muc1\",\"Sftpa1\",\"Sftpb\",\"Sftpd\",\"Scd1\", #AT2\n",
    "              \"Scgb1a1\",\"Cyp2f2\",\"Scgb3a2\", \"Scgb3a1\",\"Lypd2\",#Club\n",
    "              \"Muc5ac\",\"Muc5b\", # Goblet\n",
    "              \"Tubb4a\",\"Foxa3\",\"Foxj1\",\"Rfx2\",\"Rfx3\",\"Trp73\", #Ciliated\n",
    "              'Krt5', 'Krt17','Krt15','Trp63','Id1','Icam1','Epas1','Aqp3','Sfn','Perp','Fxyd3','Sdc1','Gstm2','F3','Abi3bp','Adh7', # Basal\n",
    "              'Bex2','Ascl1','Meis2','Hes6','Hoxb5','Foxa2','Sox4','Rora','Isl1','Id4', 'Neurod1','Neurod4','Nhlh1','Nhlh2',#NE/neuronal\n",
    "              'Pou2f3','Trpm5','Ascl2','Ehf',\n",
    "              'Lrmp','Gng13','Ltc4s','Alox5ap','Avil','Alox5','Atp2a3','Plk2', #tuft\n",
    "              \"Cftr\",\"Ascl3\", 'Stap1','Atp6v1c2','Pparg','Rasd1','Slc12a2', #ionocyte\n",
    "              \"Gja1\",\"Nkx2-1\",\"Epcam\", # Lung lineage\n",
    "              'Yap1','Wwtr1','Sox2','Cd44','Hes1', # Stem-like\n",
    "             \"Venus\",\"fLuc\", \"Top2a\",\"Mki67\",\n",
    "            'GFP.CDS','CellTag.UTR'] # Tumor markers\n",
    "sc.set_figure_params(scanpy=True, fontsize=20) \n",
    "sc.pl.dotplot(\n",
    "    adata2,figsize=[28,10],\n",
    "    var_names=more_types,\n",
    "    groupby='leiden_scVI_1.2',\n",
    "    use_raw=False,\n",
    "    layer=\"norm\",show=False,\n",
    "    color_map=\"cmo.dense\", var_group_rotation=35,standard_scale='var',\n",
    "    save=False)"
   ]
  },
  {
   "cell_type": "code",
   "execution_count": null,
   "id": "405262d0-b1a1-4ce9-8798-c89310cb3ac1",
   "metadata": {},
   "outputs": [],
   "source": [
    "#QC UMAPs\n",
    "sc.pl.umap(\n",
    "    adata2,\n",
    "    color=[\"n_genes_by_counts\", \"total_counts\", \"pct_counts_mito\", \"log1p_total_counts\"],\n",
    "    cmap=\"cubehelix_r\",\n",
    "    s=3,\n",
    "    ncols=2,\n",
    ")"
   ]
  },
  {
   "cell_type": "code",
   "execution_count": null,
   "id": "9633a8af-32f5-4a28-9200-6ddaa216748f",
   "metadata": {},
   "outputs": [],
   "source": [
    "adata2.write_h5ad(\"042525_RPM_TBOAllo_OriginalandAllo3_1.2_HVG5k_subsampledbycluster_300cells.h5ad\")"
   ]
  },
  {
   "cell_type": "code",
   "execution_count": null,
   "id": "7a4b2da9-814c-45a4-b7a4-df4b7f2e427b",
   "metadata": {},
   "outputs": [],
   "source": [
    "#feature plots\n",
    "genes = ['leiden_scVI_1.2', 'Trp63', 'Sox2',\n",
    "        'Mki67', 'Top2a', 'Ascl1','Atoh1',\n",
    "        'Neurod1', 'Pou2f3','Ascl2','Gng13', 'Cftr',\n",
    "        'Ptprc', 'Pecam1', 'Acta2', 'GFP.CDS','CellTag.UTR','fLuc']\n",
    "\n",
    "sc.pl.umap(\n",
    "    adata2,\n",
    "    color=genes,\n",
    "    use_raw=False,\n",
    "    legend_loc= \"on data\",\n",
    "    color_map=\"cmo.dense\",\n",
    "    ncols=4,s=60,\n",
    "    frameon=False,\n",
    "    layer=\"norm\",\n",
    "    save=False\n",
    ")"
   ]
  },
  {
   "cell_type": "code",
   "execution_count": null,
   "id": "721dc185-a7b9-44e0-8557-e871b0302cfc",
   "metadata": {},
   "outputs": [],
   "source": [
    "# Exclude cluster 10, as it is a fibroblast cluster\n",
    "bad_clust=['10']\n",
    "\n",
    "#Filter out bad clusters\n",
    "to_keep=(~adata2.obs['leiden_scVI_1.2'].isin(bad_clust))\n",
    "\n",
    "#Copy over to new anndata object\n",
    "adata3 = adata2[to_keep].copy()"
   ]
  },
  {
   "cell_type": "markdown",
   "id": "57690bb6-7721-4a8d-ae77-0e3d1f78442c",
   "metadata": {},
   "source": [
    "# ITERATION 3 \n",
    "## Final iteration for Fig. 2e (Final Fig. 1j) RPM allograft UMAP"
   ]
  },
  {
   "cell_type": "code",
   "execution_count": null,
   "id": "6ff719d0-c819-4813-a944-e5e89622a4cd",
   "metadata": {},
   "outputs": [],
   "source": [
    "#HVG via Scanpy\n",
    "#Note here that if you run with a batch_key with few cells, will get b'reciprocal condition number error\n",
    "sc.pp.highly_variable_genes(\n",
    "    adata3,n_top_genes=5000,\n",
    "    subset=False,\n",
    "    layer=\"counts\",\n",
    "    flavor=\"seurat_v3\"\n",
    ")"
   ]
  },
  {
   "cell_type": "code",
   "execution_count": null,
   "id": "63d8e668-4777-4aed-b36d-6013a81ee85d",
   "metadata": {},
   "outputs": [],
   "source": [
    "# Show the genes that were selected as highly variable\n",
    "hvg_genes = adata3.var_names[adata3.var['highly_variable']]\n",
    "hvg_genes.to_series().to_csv('highly_variable_genes.csv', index=False)"
   ]
  },
  {
   "cell_type": "code",
   "execution_count": null,
   "id": "dd0aaa02-38c1-4e61-a410-6b9074758dd1",
   "metadata": {},
   "outputs": [],
   "source": [
    "adata3.var['mean_'] = np.array(adata3.X.mean(0))[0]\n",
    "adata3.var['frac_zero'] = 1 - np.array((adata3.X > 0).sum(0))[0] / adata3.shape[0]\n",
    "\n",
    "fig, ax = plt.subplots(figsize=(9,6))\n",
    "ax.scatter(adata3.var.mean_, adata3.var.frac_zero, s=1)\n",
    "ax.set_xscale(\"log\")"
   ]
  },
  {
   "cell_type": "code",
   "execution_count": null,
   "id": "e8998e37-ec49-4eb1-9d23-3f40b78b8bed",
   "metadata": {},
   "outputs": [],
   "source": [
    "#Calculate Poisson gene selection\n",
    "df_poisson = scvi.data.poisson_gene_selection(\n",
    "    adata3, n_top_genes=5000, batch_key=\"Batch\", inplace=False\n",
    ")\n",
    "\n",
    "df_poisson[df_poisson.highly_variable].sort_values('prob_zero_enrichment_rank')\n",
    "\n",
    "pd.crosstab(df_poisson.highly_variable, adata2.var.highly_variable)\n",
    "\n",
    "is_hvg = df_poisson.highly_variable\n",
    "\n",
    "adata3.varm['df_poisson']= df_poisson\n",
    "\n",
    "adata_query = adata3[:, is_hvg].copy()\n",
    "print(adata_query)"
   ]
  },
  {
   "cell_type": "code",
   "execution_count": null,
   "id": "f45d4d4f-0c22-436d-90f5-f4ecafbf9ea0",
   "metadata": {},
   "outputs": [],
   "source": [
    "scvi.model.SCVI.setup_anndata(\n",
    "    adata_query,\n",
    "    layer=\"counts\",\n",
    "    batch_key='Batch',\n",
    "    continuous_covariate_keys=[\"pct_counts_mito\"]\n",
    ")\n",
    "\n",
    "model = scvi.model.SCVI(adata_query)"
   ]
  },
  {
   "cell_type": "code",
   "execution_count": null,
   "id": "7216f980-f711-4cd0-8eb9-bfc02ab8624a",
   "metadata": {},
   "outputs": [],
   "source": [
    "#Train and run scvi\n",
    "\n",
    "#Training parameters\n",
    "train_kwargs = dict(\n",
    "    early_stopping=True,\n",
    "    early_stopping_patience=20,\n",
    "    enable_model_summary=True,\n",
    "    enable_progress_bar=True,\n",
    "    enable_checkpointing=True,\n",
    "    max_epochs=500\n",
    ")\n",
    "\n",
    "#Train and run model\n",
    "#Be sure GPU is enabled to run this\n",
    "model.train(**train_kwargs)"
   ]
  },
  {
   "cell_type": "code",
   "execution_count": null,
   "id": "b2d17eea-bfc2-418d-9fd7-bd9d351523da",
   "metadata": {},
   "outputs": [],
   "source": [
    "#Fit model to data\n",
    "#Get latent representation of model to apply to UMAP\n",
    "latent = model.get_latent_representation()\n",
    "\n",
    "adata3.obsm[\"X_scVI_1.3\"] = latent"
   ]
  },
  {
   "cell_type": "code",
   "execution_count": null,
   "id": "56c49374-d1e3-4c57-9c09-1f6f8b81cf88",
   "metadata": {},
   "outputs": [],
   "source": [
    "#Calculate neighbors using scVI model input\n",
    "sc.pp.neighbors(adata3, use_rep=\"X_scVI_1.3\")\n",
    "sc.tl.umap(adata3, min_dist=0.5)\n",
    "\n",
    "#Run leiden clustering based on neighbors\n",
    "sc.tl.leiden(adata3, key_added=\"leiden_scVI_1.3\", resolution=1)\n"
   ]
  },
  {
   "cell_type": "markdown",
   "id": "2fb4f431-28df-4d22-8387-22b9cfdd631c",
   "metadata": {},
   "source": [
    "## Plot UMAPs of Leiden clusters and individual sample distribution\n",
    "## Visualize QC metrics"
   ]
  },
  {
   "cell_type": "code",
   "execution_count": null,
   "id": "f4d763d3-4d61-47fc-a04b-9117713ba1a4",
   "metadata": {},
   "outputs": [],
   "source": [
    "fig, ax = plt.subplots(figsize=(8, 6))\n",
    "sc.pl.umap(adata3, color=\"leiden_scVI_1.3\", legend_loc=\"on data\", legend_fontsize='large',ax=ax, s=30, frameon=False, save=False)\n",
    "fig, ax = plt.subplots(figsize=(8, 6))\n",
    "sc.pl.umap(adata3, color=\"UnID\", legend_loc=\"right margin\", ax=ax, s=30, frameon=False, save=False)\n",
    "fig, ax = plt.subplots(figsize=(8, 6))\n",
    "\n",
    "sc.pl.umap(adata3, color=\"GenoCT\", legend_loc=\"right margin\", ax=ax, s=30, frameon=False, save=False)\n",
    "\n",
    "#Additional QC bar graphs\n",
    "adata3.obs['cluster'] = adata3.obs[\"leiden_scVI_1.3\"].copy()\n",
    "\n",
    "#Plot Log1p total counts\n",
    "fig, ax = plt.subplots(figsize=(20,6))\n",
    "sns.boxenplot(data=adata3.obs, x=\"cluster\", y=\"log1p_total_counts\", ax=ax)\n",
    "\n",
    "#Plot Pct counts mito\n",
    "fig, ax = plt.subplots(figsize=(20,6))\n",
    "sns.boxenplot(data=adata3.obs, x=\"cluster\", y=\"pct_counts_mito\", ax=ax)\n"
   ]
  },
  {
   "cell_type": "markdown",
   "id": "21f35ecb-9629-412b-98f1-da6e75f9f267",
   "metadata": {},
   "source": [
    "## Calculate cluster markers for Supplementary Tables and fate identification"
   ]
  },
  {
   "cell_type": "code",
   "execution_count": null,
   "id": "b7363f88-20b8-433f-b1c9-dc7bd3fbfda2",
   "metadata": {
    "tags": []
   },
   "outputs": [],
   "source": [
    "# Find cluster markers for each leiden cluster to aid filtering\n",
    "sc.tl.rank_genes_groups(adata3, 'leiden_scVI_1.3', method='wilcoxon', layer='norm', use_raw=False)\n",
    "pd.DataFrame(adata3.uns['rank_genes_groups']['names']).head(50)\n"
   ]
  },
  {
   "cell_type": "code",
   "execution_count": null,
   "id": "3f2f16c8-ddcb-4213-85e2-18ac5e9d8ff1",
   "metadata": {},
   "outputs": [],
   "source": [
    "# Extract the ranked genes (names) for all clusters\n",
    "marker_genes = pd.DataFrame(adata3.uns['rank_genes_groups']['names'])\n",
    "\n",
    "# Save to CSV\n",
    "marker_genes.to_csv('042725_adata3_subbycluster_RPMoriginalandAllo3_cluster_marker_genes.csv', index=False)"
   ]
  },
  {
   "cell_type": "markdown",
   "id": "859e5859-2517-47a6-9858-7cd77d1ee9fd",
   "metadata": {},
   "source": [
    "## Visualize marker genes for Fig. 2e (Final Fig. 1j)"
   ]
  },
  {
   "cell_type": "code",
   "execution_count": null,
   "id": "66f61c6f-e5e0-4aab-b1fb-e27df416e6fa",
   "metadata": {},
   "outputs": [],
   "source": [
    "# Visualize marker genes\n",
    "genes = ['Ascl1','Neurod1','Pou2f3','Atoh1',\n",
    "         'Yap1','Trp63']\n",
    "\n",
    "plt.rcParams['figure.figsize'] = [10, 8]\n",
    "sc.set_figure_params(scanpy=True, fontsize=20)\n",
    "\n",
    "# Plot without showing immediately\n",
    "g = sc.pl.umap(\n",
    "    adata3,\n",
    "    color=genes,\n",
    "    use_raw=False,\n",
    "    legend_loc=\"right margin\",\n",
    "    color_map=\"cmo.dense\",\n",
    "    ncols=6,\n",
    "    frameon=False,\n",
    "    vmax=\"p99.9\",\n",
    "    layer=\"norm\",\n",
    "    s=50,\n",
    "    show=False,\n",
    "    return_fig=True\n",
    ")\n",
    "\n",
    "# Make gene names (titles) larger and italic\n",
    "for ax in g.axes:\n",
    "    ax.set_title(ax.get_title(), fontsize=40, fontstyle='italic')\n",
    "\n",
    "plt.tight_layout()\n",
    "plt.show()"
   ]
  },
  {
   "cell_type": "code",
   "execution_count": null,
   "id": "581c63e9-58af-4c28-af86-7f08ae411a9e",
   "metadata": {},
   "outputs": [],
   "source": [
    "adata3=sc.read_h5ad(\"042725_RPM_TBOAllos_OriginalandAllo3_adata3_5kHVG_subsamplebycluster.h5ad\")"
   ]
  },
  {
   "cell_type": "markdown",
   "id": "771e62da-8fd8-4103-9d41-7bd9ed2bfe8c",
   "metadata": {},
   "source": [
    "## DotPlot of key cell type/cell fate markers in Extended Data Fig. 4e"
   ]
  },
  {
   "cell_type": "code",
   "execution_count": null,
   "id": "f230b6ab-05ba-445f-b1e6-b1308f75343e",
   "metadata": {},
   "outputs": [],
   "source": [
    "# Dot plot for Extended Data Fig. 4e\n",
    "more_types=[\"Trp63\",\"Krt5\",\"Krt15\",\"Krt17\",#basal\n",
    "            \"Ascl1\", \"Syp\",\"Chga\",\"Insm1\",\"Chgb\",\"Myt1\",\"Sez6\",\"Foxa2\",\"Mycl\", #NE\n",
    "              \"Neurod1\",\"Nhlh1\",\"Nhlh2\",\"Neurod2\", #neuronal\n",
    "            'Atoh1','Ush2a','Lhx3','Rasd2','Pou4f3', # Atoh1/Inner Ear\n",
    "            'Pou2f3','Trpm5','Ascl2','Lrmp','Gng13','Avil','Alox5','Atp2a3', #tuft\n",
    "              \"Cftr\",'Foxi1', \"Ascl3\", 'Stap1','Pparg', #ionocyte\n",
    "              'Yap1','Wwtr1','Sox2','Cd44','Hes1',\"Vim\", # Stem-like/#Mesenchymal/Yap\n",
    "             \"Top2a\",\"Mki67\", \"Ube2c\",\"Aspm\", #Proliferation\n",
    "            'Myc',\"fLuc\"] #tumor markers\n",
    "\n",
    "# Dot plot for Extended Data Fig. 4e\n",
    "sc.set_figure_params(scanpy=True, fontsize=17)  # controls default font sizes\n",
    "\n",
    "dotplot = sc.pl.dotplot(\n",
    "    adata3,\n",
    "    var_names=more_types,\n",
    "    groupby='leiden_scVI_1.3',\n",
    "    use_raw=False,\n",
    "    layer=\"norm\",\n",
    "    figsize=[15, 5],\n",
    "    show=False,\n",
    "    color_map=\"cmo.dense\",\n",
    "    var_group_rotation=35,\n",
    "    smallest_dot=10,\n",
    "    dendrogram=True\n",
    ")\n",
    "\n",
    "# Increase x-axis label size\n",
    "plt.xticks(fontsize=20)  # adjust size as needed\n",
    "plt.yticks(fontsize=16)\n",
    "plt.tight_layout()\n",
    "plt.show()"
   ]
  },
  {
   "cell_type": "markdown",
   "id": "fc05bb3d-053b-4ecc-94db-f8ad034fb658",
   "metadata": {},
   "source": [
    "## End of analysis in Scanpy, move to Seurat in R for calculation of gene signatures and additional plot generation/visualization. To do this, convert resulting h5ad anndata object from this script as a Seurat object in R."
   ]
  },
  {
   "cell_type": "code",
   "execution_count": null,
   "id": "8dc84714-8045-424a-bef1-d21f333e9ebc",
   "metadata": {},
   "outputs": [],
   "source": []
  }
 ],
 "metadata": {
  "kernelspec": {
   "display_name": "Python 3",
   "language": "python",
   "name": "python3"
  },
  "language_info": {
   "codemirror_mode": {
    "name": "ipython",
    "version": 3
   },
   "file_extension": ".py",
   "mimetype": "text/x-python",
   "name": "python",
   "nbconvert_exporter": "python",
   "pygments_lexer": "ipython3",
   "version": "3.8.8"
  }
 },
 "nbformat": 4,
 "nbformat_minor": 5
}
