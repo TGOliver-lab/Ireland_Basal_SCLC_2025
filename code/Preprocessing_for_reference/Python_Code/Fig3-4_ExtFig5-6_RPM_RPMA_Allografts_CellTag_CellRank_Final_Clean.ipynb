{
 "cells": [
  {
   "cell_type": "markdown",
   "id": "25334d46-df49-4819-9fa1-ea804ec42106",
   "metadata": {},
   "source": [
    "# Analysis of RPM (CellTagged Pre- and Post-Cre) and RPMA (CellTagged Pre-Cre) basal-organoid-derived alllograft tumours\n",
    "## Ireland et al 2024 BioRxiv (Accepted at Nature, 2025)\n",
    "## Updated 05.2025\n",
    "### Related to Fig. 3e-l (Final Fig. 2e-l), Fig. 4c-j (Final Fig. 3c-j), Extended Data Fig. 5c,e,f, and Extended Data Fig. 6a-f\n"
   ]
  },
  {
   "cell_type": "code",
   "execution_count": null,
   "id": "1e95e3e2-bf04-4d5c-8ceb-fb4cd32308f6",
   "metadata": {},
   "outputs": [],
   "source": [
    "#Import other relevant packages\n",
    "import numpy as np\n",
    "import pandas as pd\n",
    "from matplotlib import rcParams\n",
    "import os\n",
    "import scanpy as sc\n",
    "\n",
    "import matplotlib as mpl\n",
    "import matplotlib.pyplot as plt\n",
    "\n",
    "#For nice color schemes\n",
    "import cmocean\n",
    "\n",
    "#For barplots\n",
    "import seaborn as sns\n",
    "\n",
    "#Import scVI\n",
    "import scvi\n",
    "from scvi.model.utils import mde\n",
    "\n",
    "scvi.settings.verbosity = 40\n",
    "\n",
    "#Import scVI\n",
    "import scvi\n",
    "from scvi.model.utils import mde\n",
    "\n",
    "scvi.settings.verbosity = 40"
   ]
  },
  {
   "cell_type": "code",
   "execution_count": null,
   "id": "28a448e0-133f-49a9-8c4d-e59a8d6c695a",
   "metadata": {},
   "outputs": [],
   "source": [
    "sc.settings.verbosity = 3             # verbosity: errors (0), warnings (1), info (2), hints (3)\n",
    "sc.logging.print_header()\n",
    "sc.settings.set_figure_params(dpi=80, facecolor='white')"
   ]
  },
  {
   "cell_type": "code",
   "execution_count": null,
   "id": "e2474e8d-4a4c-4124-9e14-757c6aa1f351",
   "metadata": {},
   "outputs": [],
   "source": [
    "os.chdir('/work/asi16')"
   ]
  },
  {
   "cell_type": "markdown",
   "id": "f1df9d2d-314d-4205-8b26-77991e199693",
   "metadata": {},
   "source": [
    "## First, perform clustering of all RPM and RPMA allograft tumours for UMAP projection as in Fig.3"
   ]
  },
  {
   "cell_type": "markdown",
   "id": "8ebeda5a-8aea-42e4-9b04-34a96aa0beb3",
   "metadata": {},
   "source": [
    "## 1. Read in RPM and RPMA Allografts celltagged pre Cre"
   ]
  },
  {
   "cell_type": "code",
   "execution_count": null,
   "id": "a3d8885b-49a0-4fa6-a496-45be8f493c47",
   "metadata": {},
   "outputs": [],
   "source": [
    "# Read in nw RPMA TBO Allograft sample and RPM TBO Allograft sample \n",
    "# CellTagged pre-Cre\n",
    "RPMA_allo=sc.read_10x_mtx('8972_RPMA_TBO_scRNAseq_Allo_031824/031924_RPMA_TBO_Allo_count_nocellplex/filtered_feature_bc_matrix', var_names='gene_symbols', cache=True)\n",
    "RPM_allo=sc.read_10x_mtx('MedGenome_FASTQ_123123/RPM_TBO_Allo/042024_RPM_TBO_Allo_CustomCount/filtered_feature_bc_matrix', var_names='gene_symbols', cache=True)\n"
   ]
  },
  {
   "cell_type": "markdown",
   "id": "1fa8ab6f-11ec-496c-a9e2-c3244279966f",
   "metadata": {},
   "source": [
    "## 2. Read in new RPM Allografts celltagged post-Cre"
   ]
  },
  {
   "cell_type": "code",
   "execution_count": null,
   "id": "3cab8580-bd82-4684-a8ec-0bc2c29a0d29",
   "metadata": {},
   "outputs": [],
   "source": [
    "#042525 Read in new RPM Allografts including \"Allo3\" from prior analyses in Fig. 2 (Final Fig. 1), and \"Allo4\" as an additional biological replicate\n",
    "# CellTagged post-Cre\n",
    "RPM_allo3=sc.read_10x_mtx('042225_RPM_TBO_CellTagPostCre/042225_RPMTBOAllo_CTpostCre_1/outs/filtered_feature_bc_matrix', var_names='gene_symbols', cache=True)\n",
    "RPM_allo4=sc.read_10x_mtx('042225_RPM_TBO_CellTagPostCre/042325_RPM_Allo2_CTpostCre/outs/filtered_feature_bc_matrix', var_names='gene_symbols', cache=True)\n"
   ]
  },
  {
   "cell_type": "code",
   "execution_count": null,
   "id": "0dab14e4-b6ab-4ac4-a906-3fd95e668047",
   "metadata": {},
   "outputs": [],
   "source": [
    "# Add metadata to RPMA and RPM\n",
    "RPMA_allo.obs['Genotype'] = 'RPMA'\n",
    "RPMA_allo.obs['GenoCT'] = 'RPMA_CTpreCre'\n",
    "RPMA_allo.obs['Model'] = 'Allograft'\n",
    "RPMA_allo.obs['Cre'] = 'CT_pre-Cre'\n",
    "RPMA_allo.obs['UnID'] = 'RPMA_Allo'\n",
    "RPMA_allo.obs['Batch'] = 'RPMA_Allo'\n",
    "\n",
    "RPM_allo.obs['Genotype'] = 'RPM'\n",
    "RPM_allo.obs['GenoCT'] = 'RPM_CTpreCre'\n",
    "RPM_allo.obs['Model'] = 'Allograft'\n",
    "RPM_allo.obs['Cre'] = 'CT_pre-Cre'\n",
    "RPM_allo.obs['UnID'] = 'RPM_Allo_New'\n",
    "RPM_allo.obs['Batch'] = 'RPM_Allo_New'\n",
    "\n",
    "\n",
    "RPM_allo3.obs['Genotype'] = 'RPM'\n",
    "RPM_allo3.obs['GenoCT'] = 'RPM_CTpostCre'\n",
    "RPM_allo3.obs['Model'] = 'Allograft'\n",
    "RPM_allo3.obs['Cre'] = 'CT_post-Cre'\n",
    "RPM_allo3.obs['UnID'] = 'RPM_Allo3'\n",
    "RPM_allo3.obs['Batch'] = 'RPM_CTpostCre'\n",
    "\n",
    "\n",
    "RPM_allo4.obs['Genotype'] = 'RPM'\n",
    "RPM_allo4.obs['GenoCT'] = 'RPM_CTpostCre'\n",
    "RPM_allo4.obs['Model'] = 'Allograft'\n",
    "RPM_allo4.obs['Cre'] = 'CT_post-Cre'\n",
    "RPM_allo4.obs['UnID'] = 'RPM_Allo4'\n",
    "RPM_allo4.obs['Batch'] = 'RPM_CTpostCre'"
   ]
  },
  {
   "cell_type": "markdown",
   "id": "e34ec075-5021-4401-864d-97356671bb34",
   "metadata": {},
   "source": [
    "## 2. Concatenate all RPM and RPMA basal-organoid-derived allograft datasets"
   ]
  },
  {
   "cell_type": "code",
   "execution_count": null,
   "id": "5ce38fe5-2d5c-4cfd-8696-6f05f0baaa5e",
   "metadata": {},
   "outputs": [],
   "source": [
    "# Concatenate datasets, first without the no cre old RPM sample...\n",
    "adata= RPMA_allo.concatenate([RPM_allo,RPM_allo3, RPM_allo4], \n",
    "                              index_unique=None, join=\"outer\")"
   ]
  },
  {
   "cell_type": "code",
   "execution_count": null,
   "id": "2844085b-4217-462f-af65-e1e095ba2b13",
   "metadata": {},
   "outputs": [],
   "source": [
    "adata.obs_names_make_unique()"
   ]
  },
  {
   "cell_type": "code",
   "execution_count": null,
   "id": "672f9f76-10d7-4e5d-a4e7-4ca3aa6c2281",
   "metadata": {},
   "outputs": [],
   "source": [
    "adata.obs.groupby([\"UnID\"]).apply(len)"
   ]
  },
  {
   "cell_type": "markdown",
   "id": "4b3ab555-a5e6-4966-9111-8a83c343e55b",
   "metadata": {},
   "source": [
    "## 3. Perform QC"
   ]
  },
  {
   "cell_type": "code",
   "execution_count": null,
   "id": "3dbf977a-bb12-408f-8d69-a1dff5a0030a",
   "metadata": {},
   "outputs": [],
   "source": [
    "#QC filtering\n",
    "adata.var['mito'] = adata.var_names.str.startswith('mt-')  # annotate the group of mitochondrial genes as 'mt'\n",
    "sc.pp.calculate_qc_metrics(adata, qc_vars=['mito'], percent_top=None, log1p=False, inplace=True)\n",
    "\n",
    "sc.pp.filter_cells(adata, min_genes=200)\n",
    "#sc.pp.filter_genes(orgs_all, min_cells=3)\n",
    "\n",
    "adata.var['mito'] = adata.var_names.str.startswith('mt-')  # annotate the group of mitochondrial genes as 'mt'\n",
    "sc.pp.calculate_qc_metrics(adata, qc_vars=['mito'], percent_top=None, log1p=False, inplace=True)"
   ]
  },
  {
   "cell_type": "code",
   "execution_count": null,
   "id": "ce5057a6-97b1-41f7-bd21-9163d981463b",
   "metadata": {},
   "outputs": [],
   "source": [
    "sc.pl.violin(adata, ['n_genes_by_counts', 'total_counts', 'pct_counts_mito'],\n",
    "             jitter=0.4, multi_panel=True)\n",
    "sc.pl.scatter(adata, x='total_counts', y='pct_counts_mito')\n",
    "sc.pl.scatter(adata, x='total_counts', y='n_genes_by_counts')"
   ]
  },
  {
   "cell_type": "code",
   "execution_count": null,
   "id": "63b8f48c-e460-4f10-991f-91caf4a614bb",
   "metadata": {},
   "outputs": [],
   "source": [
    "#Filter data by slicing anndata object\n",
    "adata = adata[adata.obs.n_genes_by_counts < 8000, :]\n",
    "adata = adata[adata.obs.n_genes_by_counts > 2000, :]\n",
    "adata = adata[adata.obs.total_counts > 2000, :]\n",
    "adata = adata[adata.obs.pct_counts_mito < 15, :]"
   ]
  },
  {
   "cell_type": "code",
   "execution_count": null,
   "id": "9694bcd8-2d2d-4c55-af5d-668c389d5897",
   "metadata": {},
   "outputs": [],
   "source": [
    "adata.obs.groupby([\"UnID\"]).apply(len)"
   ]
  },
  {
   "cell_type": "code",
   "execution_count": null,
   "id": "205244e5-8384-46a0-bd62-461e42df8c57",
   "metadata": {},
   "outputs": [],
   "source": [
    "adata.obs.groupby([\"Batch\"]).apply(len)"
   ]
  },
  {
   "cell_type": "code",
   "execution_count": null,
   "id": "87f8c308-fd9d-4e18-874b-1c549d5bc59d",
   "metadata": {},
   "outputs": [],
   "source": [
    "adata.obs.groupby([\"GenoCT\"]).apply(len)"
   ]
  },
  {
   "cell_type": "code",
   "execution_count": null,
   "id": "01c547c9-4ee4-4e7f-9fd9-5c3c20cc2856",
   "metadata": {},
   "outputs": [],
   "source": [
    "adata.obs.groupby([\"Genotype\"]).apply(len)"
   ]
  },
  {
   "cell_type": "markdown",
   "id": "4a096d11-2003-422d-8402-bd2a02cd7f73",
   "metadata": {},
   "source": [
    "## 4. ID HVGs via Poisson gene selection"
   ]
  },
  {
   "cell_type": "code",
   "execution_count": null,
   "id": "d4c46e9d-2f69-4d64-bd26-8aa776e724e8",
   "metadata": {},
   "outputs": [],
   "source": [
    "#Prep for HVG and scvi\n",
    "#log1p the data\n",
    "adata.obs[\"log1p_total_counts\"] = np.log1p(adata.obs[\"total_counts\"])\n",
    "#Create layers\n",
    "adata.layers[\"counts\"] = adata.X.copy()\n",
    "adata.layers['norm'] = adata.X.copy(); sc.pp.normalize_total(adata, target_sum=1e4, layer=\"norm\")"
   ]
  },
  {
   "cell_type": "code",
   "execution_count": null,
   "id": "87be9cad-29d8-46c9-ac41-ae9cd75530a5",
   "metadata": {
    "tags": []
   },
   "outputs": [],
   "source": [
    "#HVG via Scanpy\n",
    "#Note here that if you run with a batch_key with few cells, will get b'reciprocal condition number error\n",
    "sc.pp.highly_variable_genes(\n",
    "    adata,n_top_genes=5000,\n",
    "    subset=False,\n",
    "    layer=\"counts\",\n",
    "    flavor=\"seurat_v3\"\n",
    ")"
   ]
  },
  {
   "cell_type": "code",
   "execution_count": null,
   "id": "cfa49753-b668-488e-aa5e-b8bdd5f9cc38",
   "metadata": {},
   "outputs": [],
   "source": [
    "adata.var['mean_'] = np.array(adata.X.mean(0))[0]\n",
    "adata.var['frac_zero'] = 1 - np.array((adata.X > 0).sum(0))[0] / adata.shape[0]\n",
    "\n",
    "fig, ax = plt.subplots(figsize=(9,6))\n",
    "ax.scatter(adata.var.mean_, adata.var.frac_zero, s=1)\n",
    "ax.set_xscale(\"log\")"
   ]
  },
  {
   "cell_type": "code",
   "execution_count": null,
   "id": "4547de22-724b-4ec3-a116-e8c6c16199b0",
   "metadata": {},
   "outputs": [],
   "source": [
    "#Calculate Poisson gene selection\n",
    "df_poisson = scvi.data.poisson_gene_selection(\n",
    "    adata, n_top_genes=5000, batch_key=\"Batch\", inplace=False\n",
    ")\n",
    "\n",
    "df_poisson[df_poisson.highly_variable].sort_values('prob_zero_enrichment_rank')\n",
    "\n",
    "pd.crosstab(df_poisson.highly_variable, adata.var.highly_variable)\n",
    "\n",
    "is_hvg = df_poisson.highly_variable\n",
    "\n",
    "adata.varm['df_poisson']= df_poisson\n",
    "\n",
    "adata_query = adata[:, is_hvg].copy()\n",
    "print(adata_query)"
   ]
  },
  {
   "cell_type": "markdown",
   "id": "15439e1d-f436-4b40-b980-d719c4778825",
   "metadata": {},
   "source": [
    "## 5. Set up and train scVI model on HVGs"
   ]
  },
  {
   "cell_type": "code",
   "execution_count": null,
   "id": "c951f343-7464-40c2-b675-0d6eedb8d769",
   "metadata": {},
   "outputs": [],
   "source": [
    "scvi.model.SCVI.setup_anndata(\n",
    "    adata_query,\n",
    "    layer=\"counts\",\n",
    "    batch_key='Batch',\n",
    "    continuous_covariate_keys=[\"pct_counts_mito\"]\n",
    ")\n",
    "\n",
    "model = scvi.model.SCVI(adata_query)"
   ]
  },
  {
   "cell_type": "code",
   "execution_count": null,
   "id": "8fcd146b-b7e4-4e9c-92a9-e782c71615eb",
   "metadata": {},
   "outputs": [],
   "source": [
    "#Train and run scvi\n",
    "\n",
    "#Training parameters\n",
    "train_kwargs = dict(\n",
    "    early_stopping=True,\n",
    "    early_stopping_patience=20,\n",
    "    enable_model_summary=True,\n",
    "    enable_progress_bar=True,\n",
    "    enable_checkpointing=True,\n",
    "    max_epochs=500\n",
    ")\n",
    "\n",
    "#Train and run model\n",
    "#Be sure GPU is enabled to run this\n",
    "model.train(**train_kwargs)"
   ]
  },
  {
   "cell_type": "code",
   "execution_count": null,
   "id": "e257e45b-5318-4f1e-a103-26d029651325",
   "metadata": {},
   "outputs": [],
   "source": [
    "#Fit model to data\n",
    "#Get latent representation of model to apply to UMAP\n",
    "latent = model.get_latent_representation()\n",
    "\n",
    "adata.obsm[\"X_scVI_1.1\"] = latent"
   ]
  },
  {
   "cell_type": "markdown",
   "id": "99045cc0-2ac1-49b8-874f-7f370436e30d",
   "metadata": {},
   "source": [
    "## 6. Perform leiden clustering"
   ]
  },
  {
   "cell_type": "code",
   "execution_count": null,
   "id": "8c314f9e-27c3-4bf9-ac8d-cee19ad8c953",
   "metadata": {},
   "outputs": [],
   "source": [
    "#Calculate neighbors using scVI model input\n",
    "sc.pp.neighbors(adata, use_rep=\"X_scVI_1.1\")\n",
    "sc.tl.umap(adata, min_dist=0.5)\n",
    "\n",
    "#Run leiden clustering based on neighbors\n",
    "sc.tl.leiden(adata, key_added=\"leiden_scVI_1.1\", resolution=1)"
   ]
  },
  {
   "cell_type": "markdown",
   "id": "3d883641-712b-4415-b060-06b4998aa46c",
   "metadata": {},
   "source": [
    "## 7. Visualize clustering, QC metrics, and marker expression to determine tumour vs non-tumour clusters"
   ]
  },
  {
   "cell_type": "code",
   "execution_count": null,
   "id": "7980e2d5-67a4-4a0f-a7a5-03a2fe15d22c",
   "metadata": {},
   "outputs": [],
   "source": [
    "#QC UMAPs\n",
    "sc.pl.umap(\n",
    "    adata,\n",
    "    color=[\"n_genes_by_counts\", \"total_counts\", \"pct_counts_mito\", \"log1p_total_counts\"],\n",
    "    cmap=\"cubehelix_r\",\n",
    "    s=3,\n",
    "    ncols=2,\n",
    ")"
   ]
  },
  {
   "cell_type": "code",
   "execution_count": null,
   "id": "7c36ac48-018f-46d3-9ddc-ecb0fd65afb7",
   "metadata": {},
   "outputs": [],
   "source": [
    "fig, ax = plt.subplots(figsize=(8, 6))\n",
    "sc.pl.umap(adata, color=\"leiden_scVI_1.1\", legend_loc=\"on data\", legend_fontsize='large',ax=ax, s=30, frameon=False, save=False)\n",
    "fig, ax = plt.subplots(figsize=(8, 6))\n",
    "sc.pl.umap(adata, color=\"UnID\", legend_loc=\"right margin\", ax=ax, s=30, frameon=False, save=False)\n",
    "fig, ax = plt.subplots(figsize=(8, 6))\n",
    "sc.pl.umap(adata, color=\"Genotype\", legend_loc=\"right margin\", ax=ax, s=30, frameon=False, save=False)\n",
    "fig, ax = plt.subplots(figsize=(8, 6))\n",
    "sc.pl.umap(adata, color=\"GenoCT\", legend_loc=\"right margin\", ax=ax, s=30, frameon=False, save=False)\n",
    "\n",
    "#Additional QC bar graphs\n",
    "adata.obs['cluster'] = adata.obs[\"leiden_scVI_1.1\"].copy()\n",
    "\n",
    "#Plot Log1p total counts\n",
    "fig, ax = plt.subplots(figsize=(20,6))\n",
    "sns.boxenplot(data=adata.obs, x=\"cluster\", y=\"log1p_total_counts\", ax=ax)\n",
    "\n",
    "#Plot Pct counts mito\n",
    "fig, ax = plt.subplots(figsize=(20,6))\n",
    "sns.boxenplot(data=adata.obs, x=\"cluster\", y=\"pct_counts_mito\", ax=ax)\n"
   ]
  },
  {
   "cell_type": "code",
   "execution_count": null,
   "id": "64255d5c-01a0-4197-bd3a-0e6ed0652b3e",
   "metadata": {},
   "outputs": [],
   "source": [
    "# Dot plot key cell type markers\n",
    "more_types=[\"Col14a1\", \"Acta2\",\"Myh11\",\"Tagln\",\"Mustn1\", #fibroblast\n",
    "              \"Lpl\",\"Lipa\",\"Pparg\",\"Plin2\",\"Ear1\",\"Spp1\", #lipofibroblast/osteoblastic\n",
    "              \"Ptprc\",\"Mertk\",\"Mrc1\",\"Ly75\",\"Adgre1\",\"Itgax\",\"Cd68\",\"Csf1r\",\"Mafb\",\"Msr1\",\"Arg1\",\"Adgre4\", #Macs/Myeloid\n",
    "              \"Cx3cr1\",\"Itgam\",\"Cd14\", #Monocytes\n",
    "              \"S100a9\",\"S100a8\",\"Mmp9\",\"Csf3r\",\"Cxcr2\",\"Ly6g\", #Neuts\n",
    "              \"Batf3\",\"Xcr1\",\"Clec9a\",\"Ccl17\",\"Ccl22\", #DC\n",
    "              \"Cd3d\",\"Cd3e\",\"Cd3g\",\"Cd28\",\"Cd8a\",\"Cd4\",\"Foxp3\", # Tcell\n",
    "              \"Gzma\",\"Ncr1\",\"Gzmb\", #NK\n",
    "              \"Fcmr\",\"Cd19\",\"Fcer2a\",\"Pax5\",\"Cd22\",\"Cd79b\",\"Cd79a\", #B cells\n",
    "              \"Slamf7\", \"Prdm1\", #Plasma\n",
    "              \"Mcam\",\"Pecam1\",\"Icam2\",\"Cd36\",\"Cd93\", #Endothelial\n",
    "    \"Pdpn\",\"Cav1\",\"Cav2\",\"Hopx\",\"Timp3\",\"Sema3f\",\"Serpine1\", #AT1\n",
    "              \"Abca3\",\"Muc1\",\"Sftpa1\",\"Sftpb\",\"Sftpd\",\"Scd1\", #AT2\n",
    "              \"Scgb1a1\",\"Cyp2f2\",\"Scgb3a2\", \"Scgb3a1\",\"Lypd2\",#Club\n",
    "              \"Muc5ac\",\"Muc5b\", # Goblet\n",
    "              \"Tubb4a\",\"Foxa3\",\"Foxj1\",\"Rfx2\",\"Rfx3\",\"Trp73\", #Ciliated\n",
    "              'Krt5', 'Krt17','Krt15','Trp63','Id1','Icam1','Epas1','Aqp3','Sfn','Perp','Fxyd3','Sdc1','Gstm2','F3','Abi3bp','Adh7', # Basal\n",
    "              'Bex2','Ascl1','Meis2','Hes6','Hoxb5','Foxa2','Sox4','Rora','Isl1','Id4', 'Neurod1','Neurod4','Nhlh1','Nhlh2',#NE/neuronal\n",
    "              'Pou2f3','Trpm5','Ascl2','Ehf',\n",
    "              'Lrmp','Gng13','Ltc4s','Alox5ap','Avil','Alox5','Atp2a3','Plk2', #tuft\n",
    "              \"Cftr\",\"Ascl3\", 'Stap1','Atp6v1c2','Pparg','Rasd1','Slc12a2', #ionocyte\n",
    "              \"Gja1\",\"Nkx2-1\",\"Epcam\", # Lung lineage\n",
    "              'Yap1','Wwtr1','Sox2','Cd44','Hes1', # Stem-like\n",
    "             \"Venus\",\"fLuc\", \"Top2a\",\"Mki67\",\n",
    "            'GFP.CDS','CellTag.UTR'] # Tumor markers\n",
    "\n",
    "sc.set_figure_params(scanpy=True, fontsize=20) \n",
    "sc.pl.dotplot(\n",
    "    adata,figsize=[28,10],\n",
    "    var_names=more_types,\n",
    "    groupby='leiden_scVI_1.1',\n",
    "    use_raw=False,\n",
    "    layer=\"norm\",show=False,\n",
    "    color_map=\"cmo.dense\", var_group_rotation=35,standard_scale='var',\n",
    "    save=False)"
   ]
  },
  {
   "cell_type": "code",
   "execution_count": null,
   "id": "612c9a46-1196-4655-becc-958739275e74",
   "metadata": {},
   "outputs": [],
   "source": [
    "# Find cluster markers for each leiden cluster to aid filtering\n",
    "sc.tl.rank_genes_groups(adata, 'leiden_scVI_1.1', method='wilcoxon', layer='norm', use_raw=False)\n",
    "pd.DataFrame(adata.uns['rank_genes_groups']['names']).head(50)"
   ]
  },
  {
   "cell_type": "code",
   "execution_count": null,
   "id": "72b60671-f6fc-4401-8905-57d2aeffb2dd",
   "metadata": {},
   "outputs": [],
   "source": [
    "adata.write_h5ad(\"042525_RPM_RPMA_TBOAllo_CellTagAnalysis_New_5kHVG.h5ad\")"
   ]
  },
  {
   "cell_type": "code",
   "execution_count": null,
   "id": "766b230b-039b-4e0d-89f3-543d219faf20",
   "metadata": {},
   "outputs": [],
   "source": [
    "# First, remove obvious non-tumour clusters or low QC clusters\n",
    "#27-fibroblast\n",
    "#26-endothleial\n",
    "#22-immune\n",
    "#24-fibroblast\n",
    "#14,18 low QC\n",
    "\n",
    "bad_clust=['27','26','22','24','14','18']\n",
    "\n",
    "#Filter out bad clusters\n",
    "to_keep=(~adata.obs['leiden_scVI_1.1'].isin(bad_clust))\n",
    "\n",
    "#Copy over to new anndata object\n",
    "adata2 = adata[to_keep].copy()"
   ]
  },
  {
   "cell_type": "markdown",
   "id": "fa01bd71-d354-44ae-907c-59556bb396c5",
   "metadata": {},
   "source": [
    "### From here, continue iterating through runs of scvi modeling until no clear low quality cell clusters or non-tumor cells are observed.\n",
    "### Start back up at \"ID HVG and set up and train scvi model\" and run through subsetting out \"bad clusters\".\n",
    "### Each time clusters are removed, model is run again to recluster."
   ]
  },
  {
   "cell_type": "markdown",
   "id": "5d121757-6628-457a-9638-0a9451684e35",
   "metadata": {},
   "source": [
    "## ITERATION 2\n",
    "### Final iteration for UMAP presented for the first time in Fig. 3e (Final Fig. 2e)"
   ]
  },
  {
   "cell_type": "code",
   "execution_count": null,
   "id": "103c9de7-01d0-4a4e-a8d9-e1606b6d7476",
   "metadata": {},
   "outputs": [],
   "source": [
    "#HVG via Scanpy\n",
    "#Note here that if you run with a batch_key with few cells, will get b'reciprocal condition number error\n",
    "sc.pp.highly_variable_genes(\n",
    "    adata2,n_top_genes=5000,\n",
    "    subset=False,\n",
    "    layer=\"counts\",\n",
    "    flavor=\"seurat_v3\"\n",
    ")"
   ]
  },
  {
   "cell_type": "code",
   "execution_count": null,
   "id": "8b055347-bbc6-4a04-b8df-465466c7d049",
   "metadata": {},
   "outputs": [],
   "source": [
    "adata2.var['mean_'] = np.array(adata2.X.mean(0))[0]\n",
    "adata2.var['frac_zero'] = 1 - np.array((adata2.X > 0).sum(0))[0] / adata2.shape[0]\n",
    "\n",
    "fig, ax = plt.subplots(figsize=(9,6))\n",
    "ax.scatter(adata2.var.mean_, adata2.var.frac_zero, s=1)\n",
    "ax.set_xscale(\"log\")"
   ]
  },
  {
   "cell_type": "code",
   "execution_count": null,
   "id": "ce67d307-76d7-4fe4-aac1-d4e027628474",
   "metadata": {},
   "outputs": [],
   "source": [
    "#Calculate Poisson gene selection\n",
    "df_poisson = scvi.data.poisson_gene_selection(\n",
    "    adata2, n_top_genes=5000, batch_key=\"Batch\", inplace=False\n",
    ")\n",
    "\n",
    "df_poisson[df_poisson.highly_variable].sort_values('prob_zero_enrichment_rank')\n",
    "\n",
    "pd.crosstab(df_poisson.highly_variable, adata2.var.highly_variable)\n",
    "\n",
    "is_hvg = df_poisson.highly_variable\n",
    "\n",
    "adata2.varm['df_poisson']= df_poisson\n",
    "\n",
    "adata_query = adata2[:, is_hvg].copy()\n",
    "print(adata_query)"
   ]
  },
  {
   "cell_type": "code",
   "execution_count": null,
   "id": "c715f43d-9f30-4b96-97fe-15c0a192be7c",
   "metadata": {},
   "outputs": [],
   "source": [
    "scvi.model.SCVI.setup_anndata(\n",
    "    adata_query,\n",
    "    layer=\"counts\",\n",
    "    batch_key='Batch',\n",
    "    continuous_covariate_keys=[\"pct_counts_mito\"]\n",
    ")\n",
    "\n",
    "model = scvi.model.SCVI(adata_query)"
   ]
  },
  {
   "cell_type": "code",
   "execution_count": null,
   "id": "e556a2d6-529d-41cb-b075-570d2f90efc9",
   "metadata": {},
   "outputs": [],
   "source": [
    "#Train and run scvi\n",
    "\n",
    "#Training parameters\n",
    "train_kwargs = dict(\n",
    "    early_stopping=True,\n",
    "    early_stopping_patience=20,\n",
    "    enable_model_summary=True,\n",
    "    enable_progress_bar=True,\n",
    "    enable_checkpointing=True,\n",
    "    max_epochs=500\n",
    ")\n",
    "\n",
    "#Train and run model\n",
    "#Be sure GPU is enabled to run this\n",
    "model.train(**train_kwargs)"
   ]
  },
  {
   "cell_type": "code",
   "execution_count": null,
   "id": "a9f085c0-9d68-4125-9e7b-3b3be6a98a64",
   "metadata": {},
   "outputs": [],
   "source": [
    "#Fit model to data\n",
    "#Get latent representation of model to apply to UMAP\n",
    "latent = model.get_latent_representation()\n",
    "\n",
    "adata2.obsm[\"X_scVI_1.2\"] = latent"
   ]
  },
  {
   "cell_type": "markdown",
   "id": "3e2abdf9-82e4-47ce-8215-4bc3c2a0b1e8",
   "metadata": {},
   "source": [
    "### Perform final leiden clustering"
   ]
  },
  {
   "cell_type": "code",
   "execution_count": null,
   "id": "dc3ccf93-b890-4496-b3a2-7440cd3b3251",
   "metadata": {},
   "outputs": [],
   "source": [
    "#Calculate neighbors using scVI model input\n",
    "sc.pp.neighbors(adata2, use_rep=\"X_scVI_1.2\")\n",
    "sc.tl.umap(adata2, min_dist=1)\n",
    "\n",
    "#Run leiden clustering based on neighbors\n",
    "sc.tl.leiden(adata2, key_added=\"leiden_scVI_1.2\", resolution=0.75)\n"
   ]
  },
  {
   "cell_type": "markdown",
   "id": "cc2de909-b283-4b40-9567-f9f089e87b83",
   "metadata": {},
   "source": [
    "### Visualize UMAP, clustering, sample distribution, QC metrics, and cluster markers"
   ]
  },
  {
   "cell_type": "code",
   "execution_count": null,
   "id": "8cf3596d-085d-4735-b286-ac7ecb2f88b3",
   "metadata": {},
   "outputs": [],
   "source": [
    "fig, ax = plt.subplots(figsize=(8, 6))\n",
    "sc.pl.umap(adata2, color=\"leiden_scVI_1.2\", legend_loc=\"on data\", legend_fontsize='large',ax=ax, s=30, frameon=False, save=False)\n",
    "fig, ax = plt.subplots(figsize=(8, 6))\n",
    "sc.pl.umap(adata2, color=\"UnID\", legend_loc=\"right margin\", ax=ax, s=30, frameon=False, save=False)\n",
    "fig, ax = plt.subplots(figsize=(8, 6))\n",
    "\n",
    "sc.pl.umap(adata2, color=\"GenoCT\", legend_loc=\"right margin\", ax=ax, s=30, frameon=False, save=False)\n",
    "\n",
    "#Additional QC bar graphs\n",
    "adata2.obs['cluster'] = adata2.obs[\"leiden_scVI_1.2\"].copy()\n",
    "\n",
    "#Plot Log1p total counts\n",
    "fig, ax = plt.subplots(figsize=(20,6))\n",
    "sns.boxenplot(data=adata2.obs, x=\"cluster\", y=\"log1p_total_counts\", ax=ax)\n",
    "\n",
    "#Plot Pct counts mito\n",
    "fig, ax = plt.subplots(figsize=(20,6))\n",
    "sns.boxenplot(data=adata2.obs, x=\"cluster\", y=\"pct_counts_mito\", ax=ax)\n"
   ]
  },
  {
   "cell_type": "code",
   "execution_count": null,
   "id": "88b4f5d2-81ee-4dde-aff1-4c52b93b9c17",
   "metadata": {},
   "outputs": [],
   "source": [
    "more_types=[\"Col14a1\", \"Acta2\",\"Myh11\",\"Tagln\",\"Mustn1\", #fibroblast\n",
    "              \"Lpl\",\"Lipa\",\"Pparg\",\"Plin2\",\"Ear1\",\"Spp1\", #lipofibroblast/osteoblastic\n",
    "              \"Ptprc\",\"Mertk\",\"Mrc1\",\"Ly75\",\"Adgre1\",\"Itgax\",\"Cd68\",\"Csf1r\",\"Mafb\",\"Msr1\",\"Arg1\",\"Adgre4\", #Macs/Myeloid\n",
    "              \"Cx3cr1\",\"Itgam\",\"Cd14\", #Monocytes\n",
    "              \"S100a9\",\"S100a8\",\"Mmp9\",\"Csf3r\",\"Cxcr2\",\"Ly6g\", #Neuts\n",
    "              \"Batf3\",\"Xcr1\",\"Clec9a\",\"Ccl17\",\"Ccl22\", #DC\n",
    "              \"Cd3d\",\"Cd3e\",\"Cd3g\",\"Cd28\",\"Cd8a\",\"Cd4\",\"Foxp3\", # Tcell\n",
    "              \"Gzma\",\"Ncr1\",\"Gzmb\", #NK\n",
    "              \"Fcmr\",\"Cd19\",\"Fcer2a\",\"Pax5\",\"Cd22\",\"Cd79b\",\"Cd79a\", #B cells\n",
    "              \"Slamf7\", \"Prdm1\", #Plasma\n",
    "              \"Mcam\",\"Pecam1\",\"Icam2\",\"Cd36\",\"Cd93\", #Endothelial\n",
    "    \"Pdpn\",\"Cav1\",\"Cav2\",\"Hopx\",\"Timp3\",\"Sema3f\",\"Serpine1\", #AT1\n",
    "              \"Abca3\",\"Muc1\",\"Sftpa1\",\"Sftpb\",\"Sftpd\",\"Scd1\", #AT2\n",
    "              \"Scgb1a1\",\"Cyp2f2\",\"Scgb3a2\", \"Scgb3a1\",\"Lypd2\",#Club\n",
    "              \"Muc5ac\",\"Muc5b\", # Goblet\n",
    "              \"Tubb4a\",\"Foxa3\",\"Foxj1\",\"Rfx2\",\"Rfx3\",\"Trp73\", #Ciliated\n",
    "              'Krt5', 'Krt17','Krt15','Trp63','Id1','Icam1','Epas1','Aqp3','Sfn','Perp','Fxyd3','Sdc1','Gstm2','F3','Abi3bp','Adh7', # Basal\n",
    "              'Bex2','Ascl1','Meis2','Hes6','Hoxb5','Foxa2','Sox4','Rora','Isl1','Id4', 'Neurod1','Neurod4','Nhlh1','Nhlh2',#NE/neuronal\n",
    "              'Pou2f3','Trpm5','Ascl2','Ehf',\n",
    "              'Lrmp','Gng13','Ltc4s','Alox5ap','Avil','Alox5','Atp2a3','Plk2', #tuft\n",
    "              \"Cftr\",\"Ascl3\", 'Stap1','Atp6v1c2','Pparg','Rasd1','Slc12a2', #ionocyte\n",
    "              \"Gja1\",\"Nkx2-1\",\"Epcam\", # Lung lineage\n",
    "              'Yap1','Wwtr1','Sox2','Cd44','Hes1', # Stem-like\n",
    "             \"Venus\",\"fLuc\", \"Top2a\",\"Mki67\",\n",
    "            'GFP.CDS','CellTag.UTR'] # Tumor markers\n",
    "sc.set_figure_params(scanpy=True, fontsize=20) \n",
    "sc.pl.dotplot(\n",
    "    adata2,figsize=[28,10],\n",
    "    var_names=more_types,\n",
    "    groupby='leiden_scVI_1.2',\n",
    "    use_raw=False,\n",
    "    layer=\"norm\",show=False,\n",
    "    color_map=\"cmo.dense\", var_group_rotation=35,standard_scale='var',\n",
    "    save=False)"
   ]
  },
  {
   "cell_type": "code",
   "execution_count": null,
   "id": "7e131a7f-5431-46f7-9013-ec12c9dd5b33",
   "metadata": {},
   "outputs": [],
   "source": [
    "#QC UMAPs\n",
    "sc.pl.umap(\n",
    "    adata2,\n",
    "    color=[\"n_genes_by_counts\", \"total_counts\", \"pct_counts_mito\", \"log1p_total_counts\"],\n",
    "    cmap=\"cubehelix_r\",\n",
    "    s=3,\n",
    "    ncols=2,\n",
    ")"
   ]
  },
  {
   "cell_type": "code",
   "execution_count": null,
   "id": "11558737-426a-45fa-ae85-cee4de8f79ce",
   "metadata": {},
   "outputs": [],
   "source": [
    "#feature plots\n",
    "more_types=[\"Col14a1\", \"Acta2\",\"Myh11\",\"Tagln\",\"Mustn1\", #fibroblast\n",
    "              \"Lpl\",\"Lipa\",\"Pparg\",\"Plin2\",\"Ear1\",\"Fabp1\",\"Spp1\", #lipofibroblast/osteoblastic\n",
    "              \"Ptprc\",\"Mertk\",\"Marco\",\"Mrc1\",\"Ly75\",\"Adgre1\",\n",
    "            \"Itgax\",\"Cd68\",\"Csf1r\",\"Mafb\",\"Msr1\",\"Arg1\",\"Adgre4\",\"Clec4a1\", #Macs/Myeloid\n",
    "              \"Cx3cr1\",\"Itgam\",\"Cd14\", #Monocytes\n",
    "              \"S100a9\",\"S100a8\",\"Mmp9\",\"Csf3r\",\"Cxcr2\",\"Ly6g\", #Neuts\n",
    "              \"Batf3\",\"Xcr1\",\"Clec9a\",\"Ccl17\",\"Ccl22\", #DC\n",
    "              \"Cd3d\",\"Cd3e\",\"Cd3g\",\"Cd28\",\"Cd8a\",\"Cd4\",\"Foxp3\", # Tcell\n",
    "              \"Gzma\",\"Ncr1\",\"Gzmb\", #NK\n",
    "              \"Fcmr\",\"Cd19\",\"Fcer2a\",\"Pax5\",\"Cd22\",\"Cd79b\",\"Cd79a\", #B cells\n",
    "              \"Slamf7\", \"Prdm1\", #Plasma\n",
    "              \"Mcam\",\"Pecam1\",\"Icam2\",\"Cd36\",\"Cd93\"] #Endothelial\n",
    "\n",
    "sc.pl.umap(\n",
    "    adata2,\n",
    "    color=more_types,\n",
    "    use_raw=False,\n",
    "    legend_loc= \"on data\",\n",
    "    color_map=\"cmo.dense\",\n",
    "    ncols=4,s=30,\n",
    "    frameon=False,\n",
    "    vmax=\"p99.5\",\n",
    "    layer=\"norm\",\n",
    "    save=False\n",
    ")"
   ]
  },
  {
   "cell_type": "code",
   "execution_count": null,
   "id": "14274e14-0c36-4966-b676-d476e3fa0e06",
   "metadata": {},
   "outputs": [],
   "source": [
    "#feature plots\n",
    "more_types=[\"Vim\",\"Zeb1\",\"Zeb2\",\"Cd44\",\"Twist1\",\"Twist2\",\"Snai1\",\"Snai2\"] #Endothelial\n",
    "\n",
    "sc.pl.umap(\n",
    "    adata2,\n",
    "    color=more_types,\n",
    "    use_raw=False,\n",
    "    legend_loc= \"on data\",\n",
    "    color_map=\"cmo.dense\",\n",
    "    ncols=4,s=30,\n",
    "    frameon=False,\n",
    "    vmax=\"p99.5\",\n",
    "    layer=\"norm\",\n",
    "    save=False\n",
    ")"
   ]
  },
  {
   "cell_type": "code",
   "execution_count": null,
   "id": "9633a8af-32f5-4a28-9200-6ddaa216748f",
   "metadata": {},
   "outputs": [],
   "source": [
    "adata2.write_h5ad(\"042725_RPM_RPMA_TBOAllo_CellTagAnalysis_New_1.2.h5ad\")"
   ]
  },
  {
   "cell_type": "code",
   "execution_count": null,
   "id": "8e987c2a-72cb-482c-937c-cfe39e7676fd",
   "metadata": {},
   "outputs": [],
   "source": [
    "adata2=sc.read_h5ad(\"042725_RPM_RPMA_TBOAllo_CellTagAnalysis_New_1.2.h5ad\")"
   ]
  },
  {
   "cell_type": "code",
   "execution_count": null,
   "id": "7b39b29a-2c26-4ac0-8fd0-2778e6252b18",
   "metadata": {
    "tags": []
   },
   "outputs": [],
   "source": [
    "# Find cluster markers for each leiden cluster for Supplementary tables\n",
    "sc.tl.rank_genes_groups(adata2, 'leiden_scVI_1.2', method='wilcoxon', layer='norm', use_raw=False)\n",
    "pd.DataFrame(adata2.uns['rank_genes_groups']['names']).head(50)"
   ]
  },
  {
   "cell_type": "code",
   "execution_count": null,
   "id": "3e2f023c-83f3-484b-ac34-f6e3aa887093",
   "metadata": {},
   "outputs": [],
   "source": [
    "# Extract the ranked genes (names) for all clusters\n",
    "marker_genes = pd.DataFrame(adata2.uns['rank_genes_groups']['names'])\n",
    "\n",
    "# Save to CSV\n",
    "marker_genes.to_csv('042725_adata2_RPM_RPMA_TBO_allNEW_cluster_marker_genes.csv', index=False)"
   ]
  },
  {
   "cell_type": "markdown",
   "id": "2c0605af-f03f-4d17-bd98-442a28f6923c",
   "metadata": {},
   "source": [
    "### Plot cell state marker genes (Ext Data Fig. 5f)"
   ]
  },
  {
   "cell_type": "code",
   "execution_count": null,
   "id": "5edcb6d8-ef43-4097-8141-aa93962d72ea",
   "metadata": {},
   "outputs": [],
   "source": [
    "genes = ['leiden_scVI_1.2', 'Chga', 'Calca', 'Scg2', 'Pcsk1', 'Uchl1', 'Ddc',\n",
    "         'Snca', 'Snap25', 'Bex2', 'Ascl1', 'Meis2', 'Hes6', 'Insm1', 'Hoxb5']\n",
    "\n",
    "plt.rcParams['figure.figsize'] = [10, 8]\n",
    "sc.set_figure_params(scanpy=True, fontsize=24)\n",
    "\n",
    "# Plot without showing immediately\n",
    "g = sc.pl.umap(\n",
    "    adata2,\n",
    "    color=genes,\n",
    "    use_raw=False,\n",
    "    legend_loc=\"on data\",\n",
    "    color_map=\"cmo.dense\",\n",
    "    ncols=5,\n",
    "    frameon=False,\n",
    "    vmax=\"p99.5\",\n",
    "    layer=\"norm\",\n",
    "    s=50,\n",
    "    show=False,\n",
    "    return_fig=True\n",
    ")\n",
    "\n",
    "# Make gene names (titles) larger and italic\n",
    "for ax in g.axes:\n",
    "    ax.set_title(ax.get_title(), fontsize=45, fontstyle='italic')\n",
    "\n",
    "plt.tight_layout()\n",
    "plt.show()\n"
   ]
  },
  {
   "cell_type": "code",
   "execution_count": null,
   "id": "f68c1993-3a62-4f9e-9e94-58f4b1e7cbce",
   "metadata": {},
   "outputs": [],
   "source": [
    "# Visualize neuronal genes\n",
    "\n",
    "genes = ['Neurod1', 'Nhlh1','Nhlh2','Neurod2','Neurod4']\n",
    "plt.rcParams['figure.figsize'] = [10, 8]\n",
    "sc.set_figure_params(scanpy=True, fontsize=24)\n",
    "\n",
    "# Plot without showing immediately\n",
    "g = sc.pl.umap(\n",
    "    adata2,\n",
    "    color=genes,\n",
    "    use_raw=False,\n",
    "    legend_loc=\"on data\",\n",
    "    color_map=\"cmo.dense\",\n",
    "    ncols=5,\n",
    "    frameon=False,\n",
    "    vmax=\"p99.5\",\n",
    "    layer=\"norm\",\n",
    "    s=50,\n",
    "    show=False,\n",
    "    return_fig=True\n",
    ")\n",
    "\n",
    "# Make gene names (titles) larger and italic\n",
    "for ax in g.axes:\n",
    "    ax.set_title(ax.get_title(), fontsize=45, fontstyle='italic')\n",
    "\n",
    "plt.tight_layout()\n",
    "plt.show()"
   ]
  },
  {
   "cell_type": "code",
   "execution_count": null,
   "id": "2ad41e8e-efac-45ac-9e6b-fcb477960542",
   "metadata": {},
   "outputs": [],
   "source": [
    "# Visualize tuft markers\n",
    "genes = ['Pou2f3','Trpm5','Ascl2','Avil',\n",
    "         'Hmx2','Ehf','Hmx3','Lrmp',\n",
    "         'Gng13','Ltc4s','Rgs13','Alox5ap']\n",
    "\n",
    "plt.rcParams['figure.figsize'] = [10, 8]\n",
    "sc.set_figure_params(scanpy=True, fontsize=24)\n",
    "\n",
    "# Plot without showing immediately\n",
    "g = sc.pl.umap(\n",
    "    adata2,\n",
    "    color=genes,\n",
    "    use_raw=False,\n",
    "    legend_loc=\"on data\",\n",
    "    color_map=\"cmo.dense\",\n",
    "    ncols=4,\n",
    "    frameon=False,\n",
    "    vmax=\"p99.5\",\n",
    "    layer=\"norm\",\n",
    "    s=50,\n",
    "    show=False,\n",
    "    return_fig=True\n",
    ")\n",
    "\n",
    "# Make gene names (titles) larger and italic\n",
    "for ax in g.axes:\n",
    "    ax.set_title(ax.get_title(), fontsize=45, fontstyle='italic')\n",
    "\n",
    "plt.tight_layout()\n",
    "plt.show()"
   ]
  },
  {
   "cell_type": "code",
   "execution_count": null,
   "id": "685e3f26-197e-4f18-9516-cfc6235d6d22",
   "metadata": {},
   "outputs": [],
   "source": [
    "# Visualize Stem/Mesenchymal genes\n",
    "\n",
    "genes = ['Yap1', 'Cd44','Sox2','Hes1','Twist1','Snai1','Snai2','Vim','Sox9'\n",
    "         ]\n",
    "plt.rcParams['figure.figsize'] = [10, 8]\n",
    "sc.set_figure_params(scanpy=True, fontsize=24)\n",
    "\n",
    "# Plot without showing immediately\n",
    "g = sc.pl.umap(\n",
    "    adata2,\n",
    "    color=genes,\n",
    "    use_raw=False,\n",
    "    legend_loc=\"on data\",\n",
    "    color_map=\"cmo.dense\",\n",
    "    ncols=5,\n",
    "    frameon=False,\n",
    "    vmax=\"p99.5\",\n",
    "    layer=\"norm\",\n",
    "    s=50,\n",
    "    show=False,\n",
    "    return_fig=True\n",
    ")\n",
    "\n",
    "# Make gene names (titles) larger and italic\n",
    "for ax in g.axes:\n",
    "    ax.set_title(ax.get_title(), fontsize=45, fontstyle='italic')\n",
    "\n",
    "plt.tight_layout()\n",
    "plt.show()"
   ]
  },
  {
   "cell_type": "code",
   "execution_count": null,
   "id": "fdde29ad-bdea-4a61-ba58-24815ce18f6d",
   "metadata": {},
   "outputs": [],
   "source": [
    "# Visualize ionocyte genes\n",
    "\n",
    "genes = ['Cftr','Slc12a2', 'Stap1','Tfcp2l1','Pparg','Atp6v1c2',\n",
    "        'Cd81','Esyt1', 'Ascl3','Foxi1']\n",
    "\n",
    "plt.rcParams['figure.figsize'] = [10, 8]\n",
    "sc.set_figure_params(scanpy=True, fontsize=24)\n",
    "\n",
    "# Plot without showing immediately\n",
    "g = sc.pl.umap(\n",
    "    adata2,\n",
    "    color=genes,\n",
    "    use_raw=False,\n",
    "    legend_loc=\"on data\",\n",
    "    color_map=\"cmo.dense\",\n",
    "    ncols=5,\n",
    "    frameon=False,\n",
    "    vmax=\"p99.5\",\n",
    "    layer=\"norm\",\n",
    "    s=50,\n",
    "    show=False,\n",
    "    return_fig=True\n",
    ")\n",
    "\n",
    "# Make gene names (titles) larger and italic\n",
    "for ax in g.axes:\n",
    "    ax.set_title(ax.get_title(), fontsize=45, fontstyle='italic')\n",
    "\n",
    "plt.tight_layout()\n",
    "plt.show()"
   ]
  },
  {
   "cell_type": "code",
   "execution_count": null,
   "id": "9c85546f-ce6a-4d66-b643-3cdf0d958056",
   "metadata": {},
   "outputs": [],
   "source": [
    "# Visualize TIP markers\n",
    "genes = ['Serpinf1','Gsta2']\n",
    "\n",
    "plt.rcParams['figure.figsize'] = [10, 8]\n",
    "sc.set_figure_params(scanpy=True, fontsize=24)\n",
    "\n",
    "# Plot without showing immediately\n",
    "g = sc.pl.umap(\n",
    "    adata2,\n",
    "    color=genes,\n",
    "    use_raw=False,\n",
    "    legend_loc=\"on data\",\n",
    "    color_map=\"cmo.dense\",\n",
    "    ncols=5,\n",
    "    frameon=False,\n",
    "    vmax=\"p99.5\",\n",
    "    layer=\"norm\",\n",
    "    s=50,\n",
    "    show=False,\n",
    "    return_fig=True\n",
    ")\n",
    "\n",
    "# Make gene names (titles) larger and italic\n",
    "for ax in g.axes:\n",
    "    ax.set_title(ax.get_title(), fontsize=45, fontstyle='italic')\n",
    "\n",
    "plt.tight_layout()\n",
    "plt.show()"
   ]
  },
  {
   "cell_type": "code",
   "execution_count": null,
   "id": "77fdfdb7-869e-4354-935b-90aa720d82db",
   "metadata": {},
   "outputs": [],
   "source": [
    "# Visualize hillock markers\n",
    "genes = ['Krt13','Krt6a','Dsg3', 'Serpinb2','Lgals3']\n",
    "\n",
    "# Plot without showing immediately\n",
    "g = sc.pl.umap(\n",
    "    adata2,\n",
    "    color=genes,\n",
    "    use_raw=False,\n",
    "    legend_loc=\"on data\",\n",
    "    color_map=\"cmo.dense\",\n",
    "    ncols=5,\n",
    "    frameon=False,\n",
    "    vmax=\"p99.5\",\n",
    "    layer=\"norm\",\n",
    "    s=50,\n",
    "    show=False,\n",
    "    return_fig=True\n",
    ")\n",
    "\n",
    "# Make gene names (titles) larger and italic\n",
    "for ax in g.axes:\n",
    "    ax.set_title(ax.get_title(), fontsize=45, fontstyle='italic')\n",
    "\n",
    "plt.tight_layout()\n",
    "plt.show()"
   ]
  },
  {
   "cell_type": "code",
   "execution_count": null,
   "id": "b62610dd-7100-4f33-af5b-f34a6ff7d31e",
   "metadata": {},
   "outputs": [],
   "source": [
    "# Visualize A2 state markers\n",
    "genes = ['Calca','Grp','Foxa2','Epcam','Cdh1','Itga3','Flnb','Elf3','Krt7','Nr0b2']\n",
    "#['Elf3','Nr0b1','Tcf3','Foxa1','Foxa2','Smad4','Fli1','Gata4','Neurod2','Olig2']\n",
    "\n",
    "plt.rcParams['figure.figsize'] = [10, 8]\n",
    "sc.set_figure_params(scanpy=True, fontsize=24)\n",
    "\n",
    "# Plot without showing immediately\n",
    "g = sc.pl.umap(\n",
    "    adata2,\n",
    "    color=genes,\n",
    "    use_raw=False,\n",
    "    legend_loc=\"on data\",\n",
    "    color_map=\"cmo.dense\",\n",
    "    ncols=5,\n",
    "    frameon=False,\n",
    "    vmax=\"p99.5\",\n",
    "    layer=\"norm\",\n",
    "    s=50,\n",
    "    show=False,\n",
    "    return_fig=True\n",
    ")\n",
    "\n",
    "# Make gene names (titles) larger and italic\n",
    "for ax in g.axes:\n",
    "    ax.set_title(ax.get_title(), fontsize=45, fontstyle='italic')\n",
    "\n",
    "plt.tight_layout()\n",
    "plt.show()"
   ]
  },
  {
   "cell_type": "code",
   "execution_count": null,
   "id": "9b95956d-6200-42d1-800e-c62cd0fb85c8",
   "metadata": {},
   "outputs": [],
   "source": [
    "# Visualize basal genes\n",
    "genes = ['Krt5', 'Krt17','Krt15','Trp63','Icam1','Epas1','Aqp3','Sfn','Perp','Fxyd3','Sdc1','Gstm2','F3',\n",
    "         'Adh7','Epcam']\n",
    "\n",
    "plt.rcParams['figure.figsize'] = [10, 8]\n",
    "sc.set_figure_params(scanpy=True, fontsize=24)\n",
    "\n",
    "# Plot without showing immediately\n",
    "g = sc.pl.umap(\n",
    "    adata2,\n",
    "    color=genes,\n",
    "    use_raw=False,\n",
    "    legend_loc=\"on data\",\n",
    "    color_map=\"cmo.dense\",\n",
    "    ncols=5,\n",
    "    frameon=False,\n",
    "    vmax=\"p99.5\",\n",
    "    layer=\"norm\",\n",
    "    s=50,\n",
    "    show=False,\n",
    "    return_fig=True\n",
    ")\n",
    "\n",
    "# Make gene names (titles) larger and italic\n",
    "for ax in g.axes:\n",
    "    ax.set_title(ax.get_title(), fontsize=45, fontstyle='italic')\n",
    "\n",
    "plt.tight_layout()\n",
    "plt.show()"
   ]
  },
  {
   "cell_type": "code",
   "execution_count": null,
   "id": "6b6b51a6-2841-415c-a2ec-e5795da78502",
   "metadata": {},
   "outputs": [],
   "source": [
    "# Visualize Atoh1 genes\n",
    "genes = ['Atoh1','Ush2a','Lhx3','Rasd2','Pou4f3']\n",
    "\n",
    "plt.rcParams['figure.figsize'] = [10, 8]\n",
    "sc.set_figure_params(scanpy=True, fontsize=24)\n",
    "\n",
    "# Plot without showing immediately\n",
    "g = sc.pl.umap(\n",
    "    adata2,\n",
    "    color=genes,\n",
    "    use_raw=False,\n",
    "    legend_loc=\"on data\",\n",
    "    color_map=\"cmo.dense\",\n",
    "    ncols=5,\n",
    "    frameon=False,\n",
    "    vmax=\"p99.5\",\n",
    "    layer=\"norm\",\n",
    "    s=50,\n",
    "    show=False,\n",
    "    return_fig=True\n",
    ")\n",
    "\n",
    "# Make gene names (titles) larger and italic\n",
    "for ax in g.axes:\n",
    "    ax.set_title(ax.get_title(), fontsize=45, fontstyle='italic')\n",
    "\n",
    "plt.tight_layout()\n",
    "plt.show()"
   ]
  },
  {
   "cell_type": "markdown",
   "id": "e03c49bf-31c6-498a-a7b7-b315cf15bca8",
   "metadata": {},
   "source": [
    "### Visualize cell fate markers per cluster (for Fig. 3g (Final Fig. 2g))"
   ]
  },
  {
   "cell_type": "code",
   "execution_count": null,
   "id": "d490face-f230-4b10-9e06-0fc4eeb5a224",
   "metadata": {},
   "outputs": [],
   "source": [
    "# Dot plot for Fig. 3g (Final Fig. 2g)\n",
    "\n",
    "more_types=[\"Trp63\",\"Krt5\",\"Krt15\",\"Krt17\",#basal\n",
    "            \"Ascl1\", \"Syp\",\"Chga\",\"Insm1\",\"Chgb\",\"Myt1\",\"Sez6\",\"Foxa2\",\"Mycl\", #NE\n",
    "              \"Neurod1\",\"Nhlh1\",\"Nhlh2\",\"Neurod2\", #neuronal\n",
    "            'Atoh1','Ush2a','Lhx3','Rasd2','Pou4f3', # Atoh1/Inner Ear\n",
    "            'Pou2f3','Trpm5','Ascl2','Lrmp','Gng13','Avil','Alox5','Atp2a3', #tuft\n",
    "              \"Cftr\", \"Ascl3\", 'Stap1','Pparg', #ionocyte\n",
    "              'Yap1','Wwtr1','Sox2','Cd44','Hes1',\"Vim\", # Stem-like/#Mesenchymal/Yap\n",
    "             \"Top2a\",\"Mki67\", \"Ube2c\",\"Aspm\", #Proliferation\n",
    "            'Myc',\"fLuc\"] #tumor markers\n",
    "\n",
    "sc.set_figure_params(scanpy=True, fontsize=17) \n",
    "sc.pl.dotplot(\n",
    "    adata2,figsize=[20,5],\n",
    "    var_names=more_types,\n",
    "    groupby='leiden_scVI_1.2',\n",
    "    use_raw=False,\n",
    "    layer=\"norm\",show=False,\n",
    "    color_map=\"cmo.dense\", var_group_rotation=35,smallest_dot=10,dendrogram=True,\n",
    "    save=False) "
   ]
  },
  {
   "cell_type": "markdown",
   "id": "7159d18a-d02b-473b-8525-27b842b4cc95",
   "metadata": {},
   "source": [
    "### Visualize drug targets for Fig. 6h (Final Fig. 5h)"
   ]
  },
  {
   "cell_type": "code",
   "execution_count": null,
   "id": "8f913a52-4bd2-4dd8-8c41-fb042f182182",
   "metadata": {},
   "outputs": [],
   "source": [
    "# Visualize drug targets\n",
    "genes = ['Ncam1','Dll3','Sez6','Tacstd2','Cd276']\n",
    "\n",
    "plt.rcParams['figure.figsize'] = [10, 8]\n",
    "sc.set_figure_params(scanpy=True, fontsize=24)\n",
    "\n",
    "# Plot without showing immediately\n",
    "g = sc.pl.umap(\n",
    "    adata2,\n",
    "    color=genes,\n",
    "    use_raw=False,\n",
    "    legend_loc=\"on data\",\n",
    "    color_map=\"cmo.dense\",\n",
    "    ncols=5,\n",
    "    frameon=False,\n",
    "    vmax=\"p99.5\",\n",
    "    layer=\"norm\",\n",
    "    s=50,\n",
    "    show=False,\n",
    "    return_fig=True\n",
    ")\n",
    "\n",
    "# Make gene names (titles) larger and italic\n",
    "for ax in g.axes:\n",
    "    ax.set_title(ax.get_title(), fontsize=45, fontstyle='italic')\n",
    "\n",
    "plt.tight_layout()\n",
    "plt.show()"
   ]
  },
  {
   "cell_type": "code",
   "execution_count": null,
   "id": "721dc185-a7b9-44e0-8557-e871b0302cfc",
   "metadata": {},
   "outputs": [],
   "source": [
    "adata2.obs.groupby([\"UnID\"]).apply(len)"
   ]
  },
  {
   "cell_type": "code",
   "execution_count": null,
   "id": "6ff719d0-c819-4813-a944-e5e89622a4cd",
   "metadata": {},
   "outputs": [],
   "source": [
    "adata2.obs.groupby([\"Genotype\"]).apply(len)"
   ]
  },
  {
   "cell_type": "markdown",
   "id": "0c0a0bb2-8f66-4ca9-9859-350f66bd511d",
   "metadata": {},
   "source": [
    "### Add an annotation to Fig. 3g (Final Fig. 2g) DotPlot to show frequency of RPM vs RPMA cells per leiden cluster"
   ]
  },
  {
   "cell_type": "code",
   "execution_count": null,
   "id": "c8c293ad-eb08-4e5e-aea6-1fc32c98b561",
   "metadata": {},
   "outputs": [],
   "source": [
    "# Create a DataFrame for plotting\n",
    "df = adata2.obs[['Genotype','leiden_scVI_1.2', ]]\n",
    "\n",
    "# Count frequencies per cluster\n",
    "frequency_table = pd.crosstab(df['leiden_scVI_1.2'],df['Genotype'],)\n",
    "\n",
    "# Normalize frequencies within each cluster (optional)\n",
    "frequency_table_normalized = frequency_table.div(frequency_table.sum(axis=1), axis=0)\n",
    "\n",
    "# Plot the data\n",
    "plt.figure(figsize=(12, 12))\n",
    "frequency_table_normalized.plot(kind='bar', stacked=True, figsize=(12, 8))\n",
    "\n",
    "# Customize plot\n",
    "#plt.title('Leiden cluster composition per basal model', fontsize=20)\n",
    "plt.xlabel('Sample', fontsize=20)\n",
    "plt.ylabel('Proportion', fontsize=20)\n",
    "plt.legend(title='Leiden cluster', bbox_to_anchor=(1.05, 1), fontsize=16)\n",
    "plt.tight_layout()\n",
    "plt.xticks(rotation=45, ha='right')\n",
    "\n",
    "\n",
    "# Show the plot\n",
    "plt.show()"
   ]
  },
  {
   "cell_type": "code",
   "execution_count": null,
   "id": "c77d76fd-746c-46c4-8e8c-f6ddb59b4b89",
   "metadata": {},
   "outputs": [],
   "source": [
    "import matplotlib.pyplot as plt\n",
    "\n",
    "# Define your custom cluster and genotype orders\n",
    "custom_cluster_order = ['8', '7', '18', '9', '4', '20', '11', '14', '1', '19',\n",
    "                        '0', '6', '17', '15', '3', '2', '13', '12', '10', '5', '16']\n",
    "custom_genotype_order = ['RPM', 'RPMA']  # Adjust as needed\n",
    "\n",
    "# Define consistent colors\n",
    "genotype_colors = {\n",
    "    'RPM': '#5e3c99',   # purple\n",
    "    'RPMA': '#ff7f0e'    # orange\n",
    "}\n",
    "\n",
    "# Reorder the frequency table\n",
    "df = adata2.obs[['Genotype', 'leiden_scVI_1.2']]\n",
    "frequency_table = pd.crosstab(df['leiden_scVI_1.2'], df['Genotype'])\n",
    "\n",
    "# Ensure correct order\n",
    "frequency_table = frequency_table.loc[custom_cluster_order, custom_genotype_order]\n",
    "\n",
    "# Set up the plot\n",
    "fig, axes = plt.subplots(1, 21, figsize=(84, 4))  # 4x21 inches\n",
    "axes = axes if isinstance(axes, (list, np.ndarray)) else [axes]\n",
    "\n",
    "for i, cluster in enumerate(frequency_table.index):\n",
    "    ax = axes[i]\n",
    "    data = frequency_table.loc[cluster]\n",
    "    colors = [genotype_colors[gt] for gt in data.index]\n",
    "    ax.set_title(f'Cluster {cluster}', fontsize=10)\n",
    "    ax.pie(data, startangle=90, colors=colors)\n",
    "    ax.axis('equal')  # Keep pies circular\n",
    "\n",
    "plt.tight_layout()\n",
    "plt.show()\n",
    "\n"
   ]
  },
  {
   "cell_type": "code",
   "execution_count": null,
   "id": "ee6be1be-a39d-4f48-a58d-8bea02ae460f",
   "metadata": {},
   "outputs": [],
   "source": [
    "adata2=sc.read_h5ad(\"042725_RPM_RPMA_TBOAllo_CellTagAnalysis_New_1.2.h5ad\")"
   ]
  },
  {
   "cell_type": "markdown",
   "id": "c2cd4e55-4bf3-4974-bdc3-493d5d969b9c",
   "metadata": {},
   "source": [
    "## Perform FA projection and pseudotime for Figure 4 and Extended Data Fig 6"
   ]
  },
  {
   "cell_type": "code",
   "execution_count": null,
   "id": "31a2d03e-91d2-43f1-bb40-663e61d65f13",
   "metadata": {},
   "outputs": [],
   "source": [
    "sc.tl.draw_graph(adata2, layout='fa', random_state=0, maxiter=1000, color=[\"leiden_scVI_1.2\"])"
   ]
  },
  {
   "cell_type": "markdown",
   "id": "97622e7f-2d4f-495b-87af-92bafd5d45fe",
   "metadata": {},
   "source": [
    "### Project data in FA space (Fig. 4c (Final Fig. 3c))"
   ]
  },
  {
   "cell_type": "code",
   "execution_count": null,
   "id": "03d6a29e-1fa8-4100-abd0-244c0b1ab00b",
   "metadata": {},
   "outputs": [],
   "source": [
    "palette=[\n",
    "  \"#E41A1C\", # strong red\n",
    "  \"#377EB8\", # medium blue\n",
    "  \"#4DAF4A\", # green\n",
    "  \"#984EA3\", # purple\n",
    "  \"#FF7F00\", # orange\n",
    "  \"#FFFF33\", # yellow\n",
    "  \"#A65628\", # brown\n",
    "  \"#e7298a\", # pink\n",
    "  \"#666666\", # grey\n",
    "  \"#66C2A5\", # teal\n",
    "  \"#FC8D62\", # salmon\n",
    "  \"#8DA0CB\", # soft blue\n",
    "  \"#E78AC3\", # soft pink (different from 8)\n",
    "  \"#A6D854\", # light green (but yellowish tint, not green)\n",
    "  \"#FFD92F\", # lemon yellow\n",
    "  \"#E5C494\", # light brown\n",
    "  \"#B3B3B3\", # light grey\n",
    "  \"#1B9E77\", # deep teal\n",
    "  \"#D95F02\", # dark orange\n",
    "  \"#7570B3\", # strong purple\n",
    "  \"#66A61E\"  # olive green (NOT same green as before)\n",
    "]\n",
    "# Set global figure size\n",
    "plt.rcParams['figure.figsize'] = [6, 6]  # Increase width and height as needed\n",
    "\n",
    "# Plot\n",
    "sc.pl.draw_graph(\n",
    "    adata2,legend_fontweight='medium',legend_fontsize='x-large',\n",
    "    color='leiden_scVI_1.2',\n",
    "    legend_loc='on data',title='Leiden cluster',\n",
    "    palette=palette,frameon=False,\n",
    "    size=15  # optional: increase point size for better visibility\n",
    ")\n"
   ]
  },
  {
   "cell_type": "markdown",
   "id": "d38c1798-0294-430d-9508-3bea5447cfcc",
   "metadata": {},
   "source": [
    "### Calculate diffustion pseudotime (dpt) with root defined as the basal-like cluster, 17\n",
    "### For Figure 4g"
   ]
  },
  {
   "cell_type": "code",
   "execution_count": null,
   "id": "8e875f2d-01a3-4f6e-b89f-e45dff76dea5",
   "metadata": {},
   "outputs": [],
   "source": [
    "adata2.uns['iroot'] = np.flatnonzero(adata2.obs['leiden_scVI_1.2']  == '17')[0]\n",
    "\n",
    "sc.tl.dpt(adata2)\n",
    "cmap = plt.cm.get_cmap(\"Spectral\")\n",
    "sc.pl.draw_graph(adata2, color=['leiden_scVI_1.2', 'dpt_pseudotime','Genotype'], legend_loc='right margin', color_map=cmap)"
   ]
  },
  {
   "cell_type": "code",
   "execution_count": null,
   "id": "a18c1d1f-0b83-4260-a2fc-c04479cb7597",
   "metadata": {},
   "outputs": [],
   "source": [
    "adata2.write_h5ad(\"042925_RPM_RPMA_TBOAllo_CellTagAnalysis_New_1.2_wFAprojection_DPT.h5ad\")"
   ]
  },
  {
   "cell_type": "code",
   "execution_count": null,
   "id": "af8a1e73-8496-4c25-a627-ef611c02d64d",
   "metadata": {},
   "outputs": [],
   "source": [
    "adata2_1=sc.read_h5ad(\"042925_RPM_RPMA_TBOAllo_CellTagAnalysis_New_1.2_wFAprojection_DPT.h5ad\")"
   ]
  },
  {
   "cell_type": "code",
   "execution_count": null,
   "id": "384f5756-af4d-4930-97a0-928ce8c20806",
   "metadata": {},
   "outputs": [],
   "source": [
    "print(adata2_1.X.shape)        # Should match Dim[2]\n",
    "print(len(adata2_1.var_names)) # Should match columns in X\n"
   ]
  },
  {
   "cell_type": "code",
   "execution_count": null,
   "id": "5d8e02f7-c8bf-4151-8ca6-5d527f071202",
   "metadata": {},
   "outputs": [],
   "source": [
    "from matplotlib.colors import LinearSegmentedColormap\n",
    "palette=[\n",
    "  \"#E41A1C\", # strong red\n",
    "  \"#377EB8\", # medium blue\n",
    "  \"#4DAF4A\", # green\n",
    "  \"#984EA3\", # purple\n",
    "  \"#FF7F00\", # orange\n",
    "  \"#FFFF33\", # yellow\n",
    "  \"#A65628\", # brown\n",
    "  \"#e7298a\", # pink\n",
    "  \"#666666\", # grey\n",
    "  \"#66C2A5\", # teal\n",
    "  \"#FC8D62\", # salmon\n",
    "  \"#8DA0CB\", # soft blue\n",
    "  \"#E78AC3\", # soft pink (different from 8)\n",
    "  \"#A6D854\", # light green (but yellowish tint, not green)\n",
    "  \"#FFD92F\", # lemon yellow\n",
    "  \"#E5C494\", # light brown\n",
    "  \"#B3B3B3\", # light grey\n",
    "  \"#1B9E77\", # deep teal\n",
    "  \"#D95F02\", # dark orange\n",
    "  \"#7570B3\", # strong purple\n",
    "  \"#66A61E\"  # olive green (NOT same green as before)\n",
    "]\n",
    "\n",
    "cmap = plt.cm.get_cmap(\"Spectral\")\n",
    "sc.pl.draw_graph(adata2, color=['leiden_scVI_1.2', 'dpt_pseudotime','Genotype'], legend_loc='right margin', color_map=cmap, palette=palette)"
   ]
  },
  {
   "cell_type": "code",
   "execution_count": null,
   "id": "e714179a-9a53-4e60-b045-9346758d0764",
   "metadata": {},
   "outputs": [],
   "source": [
    "sc.pl.draw_graph(adata2, color=['dpt_pseudotime',], \n",
    "                 legend_loc='right margin', color_map=cmap,title='Diffusion pseudotime',\n",
    "                 frameon=False,size=15  # optional: increase point size for better visibility\n",
    "                )"
   ]
  },
  {
   "cell_type": "markdown",
   "id": "22933c7c-3f11-408c-83ee-8890a1f0c7df",
   "metadata": {},
   "source": [
    "### Perform CellRank analyses by leiden cluster for Fig. 4i,j (Final Fig. 3i,j) and Extended Data Fig. 6e,f"
   ]
  },
  {
   "cell_type": "code",
   "execution_count": null,
   "id": "1ab18295-62bf-434c-96a7-8528e1dcb64e",
   "metadata": {},
   "outputs": [],
   "source": [
    "# Add fates to anndata object based on leiden cluster\n",
    "# Example mapping: Leiden clusters to custom labels\n",
    "cluster_map = {\n",
    "    '0': 'NE_Neuronal',\n",
    "    '1': 'NE',\n",
    "    '2': 'SL-stem_prolif',\n",
    "    '3': 'SL-stem_prolif',\n",
    "    '4': 'Neuronal',\n",
    "    '5': 'SL-Mesenchymal',\n",
    "    '6': 'ATOH1',\n",
    "    '7': 'NE',\n",
    "    '8': 'NE_Neuronal',\n",
    "    '9': 'Neuronal',\n",
    "    '10': 'SL-Epith_basal_hillock',\n",
    "    '11': 'NE',\n",
    "    '12': 'SL-stem_prolif',\n",
    "    '13': 'SL-stem_prolif',\n",
    "    '14': 'NE',\n",
    "    '15': 'Neuronal',\n",
    "    '16': 'Tuft',\n",
    "    '17': 'Basal',\n",
    "    '18': 'NE',\n",
    "    '19': 'NE',\n",
    "    '20': 'NE'\n",
    "}\n",
    "\n",
    "# Create new column in .obs\n",
    "adata2.obs['cell_type'] = adata2.obs['leiden_scVI_1.2'].map(cluster_map)\n"
   ]
  },
  {
   "cell_type": "markdown",
   "id": "d3bb3b16-110d-4fe8-9782-43eef2e18782",
   "metadata": {},
   "source": [
    "### Visualize FA map by fate, as assigned above, as depicted in Fig. 4c (Final Fig. 3c)"
   ]
  },
  {
   "cell_type": "code",
   "execution_count": null,
   "id": "f5481a4f-e598-4dd0-a54a-374e774eb0a1",
   "metadata": {},
   "outputs": [],
   "source": [
    "sc.pl.draw_graph(adata2, color=['cell_type'], legend_loc='right margin', color_map=cmap, \n",
    "                 palette=pheno_col, frameon=False, size=15)    "
   ]
  },
  {
   "cell_type": "code",
   "execution_count": null,
   "id": "ed024c4e-5761-45c0-acb5-b4cc9fc81f1c",
   "metadata": {},
   "outputs": [],
   "source": [
    "pheno_col = [\n",
    "    \"#66A61E\",  # already hex\n",
    "    \"#40E0D0\",  # turquoise\n",
    "    \"red\",  # brown2\n",
    "    \"#68228B\",  # darkorchid4\n",
    "    \"#1E90FF\",  # dodgerblue\n",
    "    \"#00868B\",  # turquoise4\n",
    "    \"#00868B\",  # turquoise4\n",
    "    \"#00868B\",  # turquoise4\n",
    "    \"#FFA500\",  # orange\n",
    "]\n",
    "    \n",
    "    \n",
    "sc.pl.draw_graph(adata2, color=['dpt_pseudotime','cell_type'], legend_loc='right margin', color_map=cmap, \n",
    "                 palette=pheno_col)\n",
    "\n"
   ]
  },
  {
   "cell_type": "markdown",
   "id": "dd0d4b50-f7c6-491c-a0dc-6494aafc0d7b",
   "metadata": {},
   "source": [
    "### Visualize key fate genes in FA space as in Extended Data Fig. 6d"
   ]
  },
  {
   "cell_type": "code",
   "execution_count": null,
   "id": "9484c9d5-cba2-4e54-ab2f-8dd7d2ec6645",
   "metadata": {},
   "outputs": [],
   "source": [
    "plt.rcParams['figure.figsize'] = [10, 8]\n",
    "sc.set_figure_params(scanpy=True, fontsize=24)\n",
    "\n",
    "# Plot without showing immediately\n",
    "g = sc.pl.draw_graph(adata2, color=['Ascl1','Neurod1','Pou2f3','Atoh1','Yap1','Trp63'], legend_loc='right margin', color_map=\"cmo.dense\", \n",
    "                  ncols=6, frameon=False, size=35, vmax='p99.5',  layer=\"norm\",show=False,return_fig=True)\n",
    "\n",
    "# Make gene names (titles) larger and italic\n",
    "for ax in g.axes:\n",
    "    ax.set_title(ax.get_title(), fontsize=45, fontstyle='italic')\n",
    "\n",
    "plt.tight_layout()\n",
    "plt.show()\n",
    "\n",
    "\n",
    "\n"
   ]
  },
  {
   "cell_type": "code",
   "execution_count": null,
   "id": "10b990f0-4e4b-4f57-bb12-3ef9c7f934bf",
   "metadata": {},
   "outputs": [],
   "source": [
    "adata2.write_h5ad(\"050125_RPM_RPMA_TBOAllo_CellTagAnalysis_New_1.2_fate_FAprojection_DPT_final.h5ad\")"
   ]
  },
  {
   "cell_type": "code",
   "execution_count": null,
   "id": "20360334-dd19-4045-b584-c303df840a2f",
   "metadata": {},
   "outputs": [],
   "source": [
    "adata2=sc.read_h5ad(\"050125_RPM_RPMA_TBOAllo_CellTagAnalysis_New_1.2_fate_FAprojection_DPT_final.h5ad\")"
   ]
  },
  {
   "cell_type": "code",
   "execution_count": null,
   "id": "8de327e1-6163-4c2a-a2f3-aa13605df25a",
   "metadata": {},
   "outputs": [],
   "source": [
    "# Save raw counts to adata2.raw\n",
    "adata2.raw = adata2.copy()"
   ]
  },
  {
   "cell_type": "code",
   "execution_count": null,
   "id": "65c4f459-5461-4fd4-9045-28b9630011bf",
   "metadata": {},
   "outputs": [],
   "source": [
    "adata2.raw.X"
   ]
  },
  {
   "cell_type": "code",
   "execution_count": null,
   "id": "d5af09c4-491a-43df-bdd4-2720e7f2baa7",
   "metadata": {},
   "outputs": [],
   "source": [
    "# Log1p the count data\n",
    "sc.pp.normalize_total(adata2, target_sum=1e4)\n",
    "sc.pp.log1p(adata2)"
   ]
  },
  {
   "cell_type": "markdown",
   "id": "e9cc5137-8e3c-487a-9b16-d9819f611107",
   "metadata": {},
   "source": [
    "### Perform CellRank analyses following published tutorial"
   ]
  },
  {
   "cell_type": "code",
   "execution_count": null,
   "id": "09ad89bc-9800-47ae-94d4-e35cc44a6096",
   "metadata": {},
   "outputs": [],
   "source": [
    "from cellrank.kernels import PseudotimeKernel\n",
    "\n",
    "pk = PseudotimeKernel(adata2, time_key=\"dpt_pseudotime\")"
   ]
  },
  {
   "cell_type": "code",
   "execution_count": null,
   "id": "05442865-283d-4975-bc3a-a8003dd1785d",
   "metadata": {},
   "outputs": [],
   "source": [
    "pk.compute_transition_matrix()"
   ]
  },
  {
   "cell_type": "code",
   "execution_count": null,
   "id": "878ea14e-80bb-49e9-a513-23b884a8275c",
   "metadata": {},
   "outputs": [],
   "source": [
    "pk.plot_random_walks(\n",
    "    seed=0,\n",
    "    n_sims=100,\n",
    "    start_ixs={\"leiden_scVI_1.2\": \"17\"},\n",
    "    basis=\"X_draw_graph_fa\",\n",
    "    legend_loc=\"right\",\n",
    "    dpi=150\n",
    ")"
   ]
  },
  {
   "cell_type": "code",
   "execution_count": null,
   "id": "1e069ae0-76b1-4d09-a30e-a063890c14c2",
   "metadata": {},
   "outputs": [],
   "source": [
    "from cellrank.estimators import GPCCA\n",
    "g = GPCCA(pk)\n",
    "print(g)"
   ]
  },
  {
   "cell_type": "code",
   "execution_count": null,
   "id": "25022ae6-c1b4-428d-bbff-92a6ecc06fe0",
   "metadata": {},
   "outputs": [],
   "source": [
    "g.compute_schur()\n",
    "g.plot_spectrum(real_only=True)"
   ]
  },
  {
   "cell_type": "code",
   "execution_count": null,
   "id": "86fff42c-ba54-4ac8-8886-cbba2334c54e",
   "metadata": {},
   "outputs": [],
   "source": [
    "g.fit(n_states=9, cluster_key=\"leiden_scVI_1.2\")\n",
    "g.plot_macrostates(which=\"all\",basis='X_draw_graph_fa')"
   ]
  },
  {
   "cell_type": "code",
   "execution_count": null,
   "id": "0ae513f2-90da-47b4-9054-ea48eda22a59",
   "metadata": {},
   "outputs": [],
   "source": [
    "g.predict_terminal_states(allow_overlap=True)\n",
    "g.plot_macrostates(which=\"terminal\",basis='X_draw_graph_fa')"
   ]
  },
  {
   "cell_type": "code",
   "execution_count": null,
   "id": "63223fea-7553-4e1c-9550-64f5cee906d1",
   "metadata": {},
   "outputs": [],
   "source": [
    "g.plot_macrostates(which=\"terminal\",basis='X_draw_graph_fa',\n",
    "                   palette=[\"#B3B3B3\",\"#1B9E77\",\"#FC8D62\",\"#8DA0CB\",\"#FFFF33\", \"#A65628\",\"#E41A1C\",\"#66C2A5\",\"#A6D854\"])"
   ]
  },
  {
   "cell_type": "code",
   "execution_count": null,
   "id": "6e194c87-564e-486f-9a07-deec01005430",
   "metadata": {
    "tags": []
   },
   "outputs": [],
   "source": [
    "# How likely it is for each cell to reach its terminal state\n",
    "g.compute_fate_probabilities()\n",
    "g.plot_fate_probabilities(legend_loc=\"right\",basis=\"X_draw_graph_fa\")\n"
   ]
  },
  {
   "cell_type": "code",
   "execution_count": null,
   "id": "a4ee1327-2a2a-4c2f-9c42-675d9e884d74",
   "metadata": {},
   "outputs": [],
   "source": [
    "g.plot_fate_probabilities(legend_loc=\"right\",basis=\"X_draw_graph_fa\", \n",
    "                          palette=[\"#B3B3B3\",\"#1B9E77\",\"#FC8D62\",\"#8DA0CB\",\"#FFFF33\", \"#A65628\",\"#E41A1C\",\"#66C2A5\",\"#A6D854\"])\n"
   ]
  },
  {
   "cell_type": "markdown",
   "id": "6e1f2c4f-0435-4389-9ba1-826400273f16",
   "metadata": {},
   "source": [
    "### Visualize CellRank results in circle plots (Fig. 4i (Final Fig. 3i))"
   ]
  },
  {
   "cell_type": "code",
   "execution_count": null,
   "id": "70a069c3-471c-4f54-bf8e-3006fd501f2b",
   "metadata": {},
   "outputs": [],
   "source": [
    "import cellrank as cr\n",
    "\n",
    "palette=[\n",
    "  \"#E41A1C\", # strong red\n",
    "  \"#377EB8\", # medium blue\n",
    "  \"#4DAF4A\", # green\n",
    "  \"#984EA3\", # purple\n",
    "  \"#FF7F00\", # orange\n",
    "  \"#FFFF33\", # yellow\n",
    "  \"#A65628\", # brown\n",
    "  \"#e7298a\", # pink\n",
    "  \"#666666\", # grey\n",
    "  \"#66C2A5\", # teal\n",
    "  \"#FC8D62\", # salmon\n",
    "  \"#8DA0CB\", # soft blue\n",
    "  \"#E78AC3\", # soft pink (different from 8)\n",
    "  \"#A6D854\", # light green (but yellowish tint, not green)\n",
    "  \"#FFD92F\", # lemon yellow\n",
    "  \"#E5C494\", # light brown\n",
    "  \"#B3B3B3\", # light grey\n",
    "  \"#1B9E77\", # deep teal\n",
    "  \"#D95F02\", # dark orange\n",
    "  \"#7570B3\", # strong purple\n",
    "  \"#66A61E\"]  # olive green (NOT same green as before)\n",
    "\n",
    "\n",
    "cr.pl.circular_projection(adata2, keys=\"leiden_scVI_1.2\", legend_loc=\"right\", palette=palette)"
   ]
  },
  {
   "cell_type": "code",
   "execution_count": null,
   "id": "c85a4ef7-142c-4670-bfa4-56af74646bc2",
   "metadata": {},
   "outputs": [],
   "source": [
    "pheno = ['#68228B','red','#00868B', '#00868B','#1E90FF','#00868B','#66A61E','red',\n",
    "    '#68228B','#1E90FF','#00868B','red','#00868B','#00868B','red','#1E90FF', '#FFA500',\n",
    "    '#40E0D0', 'red', 'red','red']\n",
    "\n",
    "cr.pl.circular_projection(adata2, keys=\"leiden_scVI_1.2\", legend_loc=\"right\", palette=pheno)"
   ]
  },
  {
   "cell_type": "markdown",
   "id": "97372a48-cfb9-48b3-ae64-174b92a06593",
   "metadata": {},
   "source": [
    "### Compute all predicted CellRank drivers for export to Supplementary table, by Leiden cluster"
   ]
  },
  {
   "cell_type": "code",
   "execution_count": null,
   "id": "dbc14463-be01-4414-805c-d1699aee43aa",
   "metadata": {},
   "outputs": [],
   "source": [
    "all_drivers = g.compute_lineage_drivers()\n",
    "all_drivers.head(50)"
   ]
  },
  {
   "cell_type": "code",
   "execution_count": null,
   "id": "81abb93a-a555-4e53-afb1-523a1d7f87c6",
   "metadata": {},
   "outputs": [],
   "source": [
    "all_drivers.to_csv(\"050825_AllDrivers_RPM_RPMA_Allo_CellRank_ByLeiden_log1pnorm.csv\")"
   ]
  },
  {
   "cell_type": "markdown",
   "id": "382e136e-9f4f-425a-9fea-d650b239dbe3",
   "metadata": {},
   "source": [
    "### Use GAM model to compute specific lineage drivers and generate heatmaps in Fig. 4j (Final Fig. 3j) and Extended Data Fig. 6f"
   ]
  },
  {
   "cell_type": "code",
   "execution_count": null,
   "id": "83712823-0116-429e-9636-a7f1e35185e0",
   "metadata": {},
   "outputs": [],
   "source": [
    "# Use safe model settings\n",
    "model = cr.models.GAM(adata2, max_iter=6000, spline_order=3,n_knots=10)\n"
   ]
  },
  {
   "cell_type": "code",
   "execution_count": null,
   "id": "843143ff-fa9c-4743-9f0d-d3b82b82be72",
   "metadata": {},
   "outputs": [],
   "source": [
    "# Compute lineage drivers, allowing partially failed genes\n",
    "tuft_drivers = g.compute_lineage_drivers(\n",
    "    lineages=\"16\",\n",
    "    model=model)\n"
   ]
  },
  {
   "cell_type": "code",
   "execution_count": null,
   "id": "237a579c-59de-4752-93e8-cb88d8ec4bfc",
   "metadata": {},
   "outputs": [],
   "source": [
    "genes = tuft_drivers.head(50).index\n",
    "genes"
   ]
  },
  {
   "cell_type": "code",
   "execution_count": null,
   "id": "b291c622-cf3a-4f9a-860e-5c6328b4a7ae",
   "metadata": {},
   "outputs": [],
   "source": [
    "cr.pl.heatmap(\n",
    "    adata2,\n",
    "    model=model,lineages=[\"16\"],return_models=False,\n",
    "    genes=genes, cbar=False,\n",
    "    time_key=\"dpt_pseudotime\",\n",
    "    show_fate_probabilities=False,\n",
    "    show_all_genes=True, cluster_key=\"leiden_scVI_1.2\", cluster_genes=False, figsize=(10, 15))"
   ]
  },
  {
   "cell_type": "code",
   "execution_count": null,
   "id": "7059105b-4306-4d42-9b02-2cada507b004",
   "metadata": {},
   "outputs": [],
   "source": [
    "# Compute lineage drivers\n",
    "ne_drivers = g.compute_lineage_drivers(\n",
    "    lineages=\"11\",\n",
    "    model=model)\n",
    "\n",
    "genes = ne_drivers.head(50).index\n",
    "genes"
   ]
  },
  {
   "cell_type": "code",
   "execution_count": null,
   "id": "609e76d4-04d0-489b-ba48-5d975fa7a406",
   "metadata": {},
   "outputs": [],
   "source": [
    "cr.pl.heatmap(\n",
    "    adata2,\n",
    "    model=model,lineages=[\"11\"],return_models=False,\n",
    "    genes=genes, cbar=False,\n",
    "    time_key=\"dpt_pseudotime\",\n",
    "    show_fate_probabilities=False,\n",
    "    show_all_genes=True, cluster_key=\"leiden_scVI_1.2\", cluster_genes=False, figsize=(10, 15))"
   ]
  },
  {
   "cell_type": "code",
   "execution_count": null,
   "id": "502e2919-5084-4ecb-9cfc-d47fdd53daa1",
   "metadata": {},
   "outputs": [],
   "source": [
    "# Compute lineage drivers\n",
    "neuronal_drivers = g.compute_lineage_drivers(\n",
    "    lineages=\"9\",\n",
    "    model=model)\n",
    "\n",
    "genes = neuronal_drivers.head(50).index\n",
    "genes"
   ]
  },
  {
   "cell_type": "code",
   "execution_count": null,
   "id": "d178f1bf-af8f-4a43-9c62-c17748c72d3b",
   "metadata": {},
   "outputs": [],
   "source": [
    "cr.pl.heatmap(\n",
    "    adata2,\n",
    "    model=model,lineages=[\"9\"],return_models=False,\n",
    "    genes=genes, cbar=False,\n",
    "    time_key=\"dpt_pseudotime\",\n",
    "    show_fate_probabilities=False,\n",
    "    show_all_genes=True, cluster_key=\"leiden_scVI_1.2\", cluster_genes=False, figsize=(10, 15))"
   ]
  },
  {
   "cell_type": "code",
   "execution_count": null,
   "id": "009c5365-00f1-4ed4-aec8-64bed5d82b6a",
   "metadata": {},
   "outputs": [],
   "source": [
    "# Compute lineage drivers\n",
    "ne_n_drivers = g.compute_lineage_drivers(\n",
    "    lineages=\"0\",\n",
    "    model=model)\n",
    "\n",
    "genes = ne_n_drivers.head(50).index\n",
    "genes"
   ]
  },
  {
   "cell_type": "code",
   "execution_count": null,
   "id": "22f65726-2873-447a-933c-d238d228a20d",
   "metadata": {},
   "outputs": [],
   "source": [
    "cr.pl.heatmap(\n",
    "    adata2,\n",
    "    model=model,lineages=[\"0\"],return_models=False,\n",
    "    genes=genes, cbar=False,\n",
    "    time_key=\"dpt_pseudotime\",\n",
    "    show_fate_probabilities=False,\n",
    "    show_all_genes=True, cluster_key=\"leiden_scVI_1.2\", cluster_genes=False, figsize=(10, 15))"
   ]
  },
  {
   "cell_type": "code",
   "execution_count": null,
   "id": "c1045e01-fc0f-4e2a-a0b0-073e8e2a3980",
   "metadata": {},
   "outputs": [],
   "source": [
    "# Compute lineage drivers\n",
    "atoh_drivers = g.compute_lineage_drivers(\n",
    "    lineages=\"6\",\n",
    "    model=model)\n",
    "\n",
    "genes = atoh_drivers.head(50).index\n",
    "genes"
   ]
  },
  {
   "cell_type": "code",
   "execution_count": null,
   "id": "05bba3e8-973a-4938-97ae-45726bcee24f",
   "metadata": {},
   "outputs": [],
   "source": [
    "cr.pl.heatmap(\n",
    "    adata2,\n",
    "    model=model,lineages=[\"6\"],return_models=False,\n",
    "    genes=genes, cbar=False,\n",
    "    time_key=\"dpt_pseudotime\",\n",
    "    show_fate_probabilities=False,\n",
    "    show_all_genes=True, cluster_key=\"leiden_scVI_1.2\", cluster_genes=False, figsize=(10, 15))"
   ]
  },
  {
   "cell_type": "code",
   "execution_count": null,
   "id": "e83590cb-8d49-4367-ae28-b9409fcde054",
   "metadata": {},
   "outputs": [],
   "source": [
    "# Compute lineage drivers\n",
    "basal_drivers = g.compute_lineage_drivers(\n",
    "    lineages=\"17\",\n",
    "    model=model)\n",
    "\n",
    "genes = basal_drivers.head(50).index\n",
    "genes"
   ]
  },
  {
   "cell_type": "code",
   "execution_count": null,
   "id": "d03d05aa-a2da-49a1-b8a1-9b2b7aa6583b",
   "metadata": {},
   "outputs": [],
   "source": [
    "cr.pl.heatmap(\n",
    "    adata2,\n",
    "    model=model,lineages=[\"17\"],return_models=False,\n",
    "    genes=genes, cbar=False,\n",
    "    time_key=\"dpt_pseudotime\",\n",
    "    show_fate_probabilities=False,\n",
    "    show_all_genes=True, cluster_key=\"leiden_scVI_1.2\", cluster_genes=False, figsize=(10, 15))"
   ]
  },
  {
   "cell_type": "code",
   "execution_count": null,
   "id": "b180bebb-e7af-40bd-b654-2ee3d73136ce",
   "metadata": {},
   "outputs": [],
   "source": [
    "# Compute lineage drivers\n",
    "epith_hillock_drivers = g.compute_lineage_drivers(\n",
    "    lineages=\"10\",\n",
    "    model=model)\n",
    "\n",
    "genes = epith_hillock_drivers.head(50).index\n",
    "genes"
   ]
  },
  {
   "cell_type": "code",
   "execution_count": null,
   "id": "ecfca2b7-4fea-497a-b8b2-63dac3295f73",
   "metadata": {},
   "outputs": [],
   "source": [
    "cr.pl.heatmap(\n",
    "    adata2,\n",
    "    model=model,lineages=[\"10\"],return_models=False,\n",
    "    genes=genes, cbar=False,\n",
    "    time_key=\"dpt_pseudotime\",\n",
    "    show_fate_probabilities=False,\n",
    "    show_all_genes=True, cluster_key=\"leiden_scVI_1.2\", cluster_genes=False, figsize=(10, 15))"
   ]
  },
  {
   "cell_type": "code",
   "execution_count": null,
   "id": "8c24960e-815a-496a-b71d-cab801013819",
   "metadata": {},
   "outputs": [],
   "source": [
    "# Compute lineage drivers\n",
    "stem_drivers = g.compute_lineage_drivers(\n",
    "    lineages=\"13\",\n",
    "    model=model)\n",
    "\n",
    "genes = stem_drivers.head(50).index\n",
    "genes"
   ]
  },
  {
   "cell_type": "code",
   "execution_count": null,
   "id": "e7888ba0-e767-479d-a06d-e0b85be75561",
   "metadata": {},
   "outputs": [],
   "source": [
    "cr.pl.heatmap(\n",
    "    adata2,\n",
    "    model=model,lineages=[\"13\"],return_models=False,\n",
    "    genes=genes, cbar=False,\n",
    "    time_key=\"dpt_pseudotime\",\n",
    "    show_fate_probabilities=False,\n",
    "    show_all_genes=True, cluster_key=\"leiden_scVI_1.2\", cluster_genes=False, figsize=(10, 15))"
   ]
  },
  {
   "cell_type": "code",
   "execution_count": null,
   "id": "edbd53fd-ff92-45ee-9f09-ec90a1f1788b",
   "metadata": {},
   "outputs": [],
   "source": [
    "# Compute lineage drivers\n",
    "mes_drivers = g.compute_lineage_drivers(\n",
    "    lineages=\"5\",\n",
    "    model=model)\n",
    "\n",
    "genes = mes_drivers.head(50).index\n",
    "genes"
   ]
  },
  {
   "cell_type": "code",
   "execution_count": null,
   "id": "2be01379-e92a-48df-a277-ebd4afaa82db",
   "metadata": {},
   "outputs": [],
   "source": [
    "cr.pl.heatmap(\n",
    "    adata2,\n",
    "    model=model,lineages=[\"5\"],return_models=False,\n",
    "    genes=genes, cbar=False,\n",
    "    time_key=\"dpt_pseudotime\",\n",
    "    show_fate_probabilities=False,\n",
    "    show_all_genes=True, cluster_key=\"leiden_scVI_1.2\", cluster_genes=False, figsize=(10, 15))"
   ]
  },
  {
   "cell_type": "code",
   "execution_count": null,
   "id": "fa76016b-ba60-445f-b152-4ee287f1faab",
   "metadata": {},
   "outputs": [],
   "source": []
  },
  {
   "cell_type": "markdown",
   "id": "47a583a2-2c4f-4b23-9fd2-e2b64ad819f3",
   "metadata": {},
   "source": [
    "## Try top 100, clustered"
   ]
  },
  {
   "cell_type": "code",
   "execution_count": null,
   "id": "c3ebfde4-24bb-435b-9907-25640530d98c",
   "metadata": {},
   "outputs": [],
   "source": [
    "genes = tuft_drivers.head(100).index\n",
    "\n",
    "cr.pl.heatmap(\n",
    "    adata2,\n",
    "    model=model,lineages=[\"16\"],return_models=False,\n",
    "    genes=genes, cbar=False,\n",
    "    time_key=\"dpt_pseudotime\",\n",
    "    show_fate_probabilities=False,\n",
    "    show_all_genes=True, cluster_key=\"leiden_scVI_1.2\", cluster_genes=False, figsize=(10, 20))"
   ]
  },
  {
   "cell_type": "code",
   "execution_count": null,
   "id": "e3d3d74d-cebc-4a3e-b52e-4cb699358df7",
   "metadata": {},
   "outputs": [],
   "source": [
    "genes = ne_drivers.head(100).index\n",
    "\n",
    "cr.pl.heatmap(\n",
    "    adata2,\n",
    "    model=model,lineages=[\"11\"],return_models=False,\n",
    "    genes=genes, cbar=False,\n",
    "    time_key=\"dpt_pseudotime\",\n",
    "    show_fate_probabilities=False,\n",
    "    show_all_genes=True, cluster_key=\"leiden_scVI_1.2\", cluster_genes=False, figsize=(10, 20))"
   ]
  },
  {
   "cell_type": "code",
   "execution_count": null,
   "id": "45769a44-23d2-404c-af37-169d68f5195d",
   "metadata": {},
   "outputs": [],
   "source": [
    "genes = neuronal_drivers.head(100).index\n",
    "\n",
    "cr.pl.heatmap(\n",
    "    adata2,\n",
    "    model=model,lineages=[\"9\"],return_models=False,\n",
    "    genes=genes, cbar=False,\n",
    "    time_key=\"dpt_pseudotime\",\n",
    "    show_fate_probabilities=False,\n",
    "    show_all_genes=True, cluster_key=\"leiden_scVI_1.2\", cluster_genes=False, figsize=(10, 20))"
   ]
  },
  {
   "cell_type": "code",
   "execution_count": null,
   "id": "bc52dc63-6017-4776-b1e5-5a9fee7ead8c",
   "metadata": {},
   "outputs": [],
   "source": [
    "genes = ne_n_drivers.head(100).index\n",
    "\n",
    "cr.pl.heatmap(\n",
    "    adata2,\n",
    "    model=model,lineages=[\"0\"],return_models=False,\n",
    "    genes=genes, cbar=False,\n",
    "    time_key=\"dpt_pseudotime\",\n",
    "    show_fate_probabilities=False,\n",
    "    show_all_genes=True, cluster_key=\"leiden_scVI_1.2\", cluster_genes=False, figsize=(10, 20))"
   ]
  },
  {
   "cell_type": "code",
   "execution_count": null,
   "id": "e2a01f64-c0c6-4947-8fe5-131c1b569b0a",
   "metadata": {},
   "outputs": [],
   "source": [
    "genes = atoh_drivers.head(100).index\n",
    "\n",
    "cr.pl.heatmap(\n",
    "    adata2,\n",
    "    model=model,lineages=[\"6\"],return_models=False,\n",
    "    genes=genes, cbar=False,\n",
    "    time_key=\"dpt_pseudotime\",\n",
    "    show_fate_probabilities=False,\n",
    "    show_all_genes=True, cluster_key=\"leiden_scVI_1.2\", cluster_genes=False, figsize=(10, 20))"
   ]
  },
  {
   "cell_type": "code",
   "execution_count": null,
   "id": "4f30b086-00e3-485d-8bc3-4b4dbd2b7f58",
   "metadata": {},
   "outputs": [],
   "source": [
    "genes = basal_drivers.head(100).index\n",
    "\n",
    "cr.pl.heatmap(\n",
    "    adata2,\n",
    "    model=model,lineages=[\"17\"],return_models=False,\n",
    "    genes=genes, cbar=False,\n",
    "    time_key=\"dpt_pseudotime\",\n",
    "    show_fate_probabilities=False,\n",
    "    show_all_genes=True, cluster_key=\"leiden_scVI_1.2\", cluster_genes=False, figsize=(10, 20))"
   ]
  },
  {
   "cell_type": "code",
   "execution_count": null,
   "id": "7c0f6d9a-b613-435f-85bf-03ab38f35b49",
   "metadata": {},
   "outputs": [],
   "source": [
    "genes = stem_drivers.head(100).index\n",
    "\n",
    "cr.pl.heatmap(\n",
    "    adata2,\n",
    "    model=model,lineages=[\"13\"],return_models=False,\n",
    "    genes=genes, cbar=False,\n",
    "    time_key=\"dpt_pseudotime\",\n",
    "    show_fate_probabilities=False,\n",
    "    show_all_genes=True, cluster_key=\"leiden_scVI_1.2\", cluster_genes=False, figsize=(10, 20))"
   ]
  },
  {
   "cell_type": "code",
   "execution_count": null,
   "id": "2461204b-5f81-42c3-9363-7d77fb372fc3",
   "metadata": {},
   "outputs": [],
   "source": [
    "genes = mes_drivers.head(100).index\n",
    "\n",
    "cr.pl.heatmap(\n",
    "    adata2,\n",
    "    model=model,lineages=[\"5\"],return_models=False,\n",
    "    genes=genes, cbar=False,\n",
    "    time_key=\"dpt_pseudotime\",\n",
    "    show_fate_probabilities=False,\n",
    "    show_all_genes=True, cluster_key=\"leiden_scVI_1.2\", cluster_genes=False, figsize=(10, 20))"
   ]
  },
  {
   "cell_type": "code",
   "execution_count": null,
   "id": "06b3570d-4ec6-4c44-b232-9f1b2e1a0c1d",
   "metadata": {},
   "outputs": [],
   "source": [
    "genes = epith_hillock_drivers.head(100).index\n",
    "\n",
    "cr.pl.heatmap(\n",
    "    adata2,\n",
    "    model=model,lineages=[\"10\"],return_models=False,\n",
    "    genes=genes, cbar=False,\n",
    "    time_key=\"dpt_pseudotime\",\n",
    "    show_fate_probabilities=False,\n",
    "    show_all_genes=True, cluster_key=\"leiden_scVI_1.2\", cluster_genes=False, figsize=(10, 20))"
   ]
  },
  {
   "cell_type": "markdown",
   "id": "8e82a146-330b-492e-96eb-24125fc4a246",
   "metadata": {},
   "source": [
    "## End of analysis in Scanpy, move to Seurat in R for calculation of gene signatures and additional plot generation/visualization. Additional CellTag analyses were also performed in R. To do this, convert resulting h5ad anndata object from this script as a Seurat object in R."
   ]
  },
  {
   "cell_type": "code",
   "execution_count": null,
   "id": "e18111ff-97e1-4591-93e1-959f6fbfefca",
   "metadata": {},
   "outputs": [],
   "source": []
  }
 ],
 "metadata": {
  "kernelspec": {
   "display_name": "Python 3",
   "language": "python",
   "name": "python3"
  },
  "language_info": {
   "codemirror_mode": {
    "name": "ipython",
    "version": 3
   },
   "file_extension": ".py",
   "mimetype": "text/x-python",
   "name": "python",
   "nbconvert_exporter": "python",
   "pygments_lexer": "ipython3",
   "version": "3.8.8"
  }
 },
 "nbformat": 4,
 "nbformat_minor": 5
}
