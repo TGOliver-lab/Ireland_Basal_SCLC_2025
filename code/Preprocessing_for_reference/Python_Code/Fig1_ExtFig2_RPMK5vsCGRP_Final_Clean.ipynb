{
 "cells": [
  {
   "cell_type": "markdown",
   "id": "fce29d38-7bac-4fd1-ac06-0e84283ff54a",
   "metadata": {},
   "source": [
    "# Analysis of RPM K5-Cre vs CGRP-Cre primary tumors\n",
    "## Ireland et al 2024 BioRxiv\n",
    "## Updated 05.2025\n",
    "### Related to Old Fig. 1h-k and Extended Data Fig. 2e-i (Final Ext. Data Fig. 2g-n)"
   ]
  },
  {
   "cell_type": "markdown",
   "id": "5a970846-19ee-4ddb-b4ef-8ae02cef47bb",
   "metadata": {},
   "source": [
    "### 1. Prep environment"
   ]
  },
  {
   "cell_type": "code",
   "execution_count": null,
   "id": "035845d7-de75-47d0-a6e4-5faaee600af6",
   "metadata": {},
   "outputs": [],
   "source": [
    "#Import other relevant packages\n",
    "import numpy as np\n",
    "import pandas as pd\n",
    "from matplotlib import rcParams\n",
    "import os\n",
    "import scanpy as sc\n",
    "\n",
    "import matplotlib as mpl\n",
    "import matplotlib.pyplot as plt\n",
    "\n",
    "#For nice color schemes\n",
    "import cmocean\n",
    "\n",
    "#For barplots\n",
    "import seaborn as sns"
   ]
  },
  {
   "cell_type": "code",
   "execution_count": null,
   "id": "b0b52865-e8f9-4503-b7d5-90abb2b6af86",
   "metadata": {},
   "outputs": [],
   "source": [
    "#Import scVI\n",
    "import scvi\n",
    "from scvi.model.utils import mde\n",
    "\n",
    "scvi.settings.verbosity = 40"
   ]
  },
  {
   "cell_type": "code",
   "execution_count": null,
   "id": "7a0153ba-4c21-4a02-876f-73d816099537",
   "metadata": {},
   "outputs": [],
   "source": [
    "sc.settings.verbosity = 3             # verbosity: errors (0), warnings (1), info (2), hints (3)\n",
    "sc.logging.print_header()\n",
    "sc.settings.set_figure_params(dpi=80, facecolor='white')"
   ]
  },
  {
   "cell_type": "code",
   "execution_count": null,
   "id": "f228d57f-8340-4b3a-87e4-800615293db1",
   "metadata": {},
   "outputs": [],
   "source": [
    "# Read \n",
    "os.chdir('/work/asi16')"
   ]
  },
  {
   "cell_type": "markdown",
   "id": "90923941-d7b8-497a-bb4e-6d00ae367510",
   "metadata": {},
   "source": [
    "### 2. Load in data and concatenate"
   ]
  },
  {
   "cell_type": "code",
   "execution_count": null,
   "id": "c9caec7b-93cd-4b27-ae4e-de4044e206cd",
   "metadata": {},
   "outputs": [],
   "source": [
    "# Read in new RPMA TBO Allograft sample and re-aligned RPM TBO Allo samples\n",
    "RPM1=sc.read_10x_mtx('/work/oliverlab/RPM_CGRP/RPM_CGRP_1/2024_15844X2_RPM1_CustomAlign/outs/filtered_feature_bc_matrix', var_names='gene_symbols', cache=True)\n",
    "RPM2=sc.read_10x_mtx('/work/oliverlab/RPM_CGRP/RPM_CGRP_2/2024_17520X1_RPM2_CustomAlign/outs/filtered_feature_bc_matrix', var_names='gene_symbols',cache=True)\n",
    "RPM3=sc.read_10x_mtx('/work/oliverlab/RPM_CGRP/RPM_CGRP_3/2024_17751X1_RPM3_CustomAlign4/outs/filtered_feature_bc_matrix', var_names='gene_symbols', cache=True)\n",
    "RPM4=sc.read_10x_mtx('/work/oliverlab/RPM_CGRP/RPM_CGRP_4/2024_17751X2_RPM4_CustomAlign/outs/filtered_feature_bc_matrix',var_names='gene_symbols', cache=True)\n",
    "RPM5=sc.read_10x_mtx('/work/oliverlab/RPM_CGRP/RPM_CGRP_5/RPM5/filtered_feature_bc_matrix', var_names='gene_symbols', cache=True)\n",
    "\n",
    "# Add in new 02.17.25\n",
    "RPM6=sc.read_10x_mtx('021125_RPM_CGRP_NewPrimary/021625_RPM_RPMC9_CGRP_Primary_New3/outs/per_sample_outs/AI731_RPM/count/sample_filtered_feature_bc_matrix', var_names='gene_symbols', cache=True)\n",
    "RPM7=sc.read_10x_mtx('021125_RPM_CGRP_NewPrimary/021625_RPM_RPMC9_CGRP_Primary_New3/outs/per_sample_outs/AI732_RPMC9/count/sample_filtered_feature_bc_matrix', var_names='gene_symbols', cache=True)\n",
    "\n",
    "\n",
    "RPMK5t=sc.read_10x_mtx('07_2024_RPMK5/AI652_RPMK5_CustomCount_072324/AI652_RPMK5_Tracheal/sample_filtered_feature_bc_matrix', var_names='gene_symbols', cache=True)\n",
    "RPMK5c=sc.read_10x_mtx('07_2024_RPMK5/AI652_RPMK5_CustomCount_072324/AI652_RPMK5_Central/sample_filtered_feature_bc_matrix', var_names='gene_symbols', cache=True)\n",
    "RPMK5=sc.read_10x_mtx('07_2024_RPMK5/AI651_RPMK5_Total_CustomCount_072424/filtered_feature_bc_matrix', var_names='gene_symbols', cache=True)\n"
   ]
  },
  {
   "cell_type": "code",
   "execution_count": null,
   "id": "973a59b9-db3f-42d9-ad5a-041bd7a54cdb",
   "metadata": {},
   "outputs": [],
   "source": [
    "# Add metadata to allografts\n",
    "RPM1.obs['Genotype'] = 'RPM'\n",
    "RPM1.obs['Cre'] = 'CGRP'\n",
    "RPM1.obs['GenoCre'] = 'RPM_CGRP'\n",
    "RPM1.obs['UnID'] = 'RPM_CGRP1'\n",
    "RPM1.obs['Batch'] = 'RPM_CGRP1'\n",
    "\n",
    "RPM2.obs['Genotype'] = 'RPM'\n",
    "RPM2.obs['Cre'] = 'CGRP'\n",
    "RPM2.obs['GenoCre'] = 'RPM_CGRP'\n",
    "RPM2.obs['UnID'] = 'RPM_CGRP2'\n",
    "RPM2.obs['Batch'] = 'RPM_CGRP2'\n",
    "\n",
    "RPM3.obs['Genotype'] = 'RPM'\n",
    "RPM3.obs['Cre'] = 'CGRP'\n",
    "RPM3.obs['GenoCre'] = 'RPM_CGRP'\n",
    "RPM3.obs['UnID'] = 'RPM_CGRP3'\n",
    "RPM3.obs['Batch'] = 'RPM_CGRP3'\n",
    "\n",
    "RPM4.obs['Genotype'] = 'RPM'\n",
    "RPM4.obs['Cre'] = 'CGRP'\n",
    "RPM4.obs['GenoCre'] = 'RPM_CGRP'\n",
    "RPM4.obs['UnID'] = 'RPM_CGRP4'\n",
    "RPM4.obs['Batch'] = 'RPM_CGRP4'\n",
    "\n",
    "RPM5.obs['Genotype'] = 'RPM'\n",
    "RPM5.obs['Cre'] = 'CGRP'\n",
    "RPM5.obs['GenoCre'] = 'RPM_CGRP'\n",
    "RPM5.obs['UnID'] = 'RPM_CGRP5'\n",
    "RPM5.obs['Batch'] = 'RPM_CGRP5'\n",
    "\n",
    "RPM6.obs['Genotype'] = 'RPM'\n",
    "RPM6.obs['Cre'] = 'CGRP'\n",
    "RPM6.obs['GenoCre'] = 'RPM_CGRP'\n",
    "RPM6.obs['UnID'] = 'RPM_CGRP6'\n",
    "RPM6.obs['Batch'] = 'RPM_CGRPnew'\n",
    "\n",
    "RPM7.obs['Genotype'] = 'RPM'\n",
    "RPM7.obs['Cre'] = 'CGRP'\n",
    "RPM7.obs['GenoCre'] = 'RPM_CGRP'\n",
    "RPM7.obs['UnID'] = 'RPM_CGRP7'\n",
    "RPM7.obs['Batch'] = 'RPM_CGRPnew'\n",
    "\n",
    "\n",
    "RPMK5t.obs['Genotype'] = 'RPM'\n",
    "RPMK5t.obs['Cre'] = 'K5'\n",
    "RPMK5t.obs['GenoCre'] = 'RPM_K5'\n",
    "RPMK5t.obs['UnID'] = 'RPM_K5t'\n",
    "RPMK5t.obs['Batch'] = 'RPM_K5_multi'\n",
    "\n",
    "RPMK5c.obs['Genotype'] = 'RPM'\n",
    "RPMK5c.obs['Cre'] = 'K5'\n",
    "RPMK5c.obs['GenoCre'] = 'RPM_K5'\n",
    "RPMK5c.obs['UnID'] = 'RPM_K5c'\n",
    "RPMK5c.obs['Batch'] = 'RPM_K5_multi'\n",
    "\n",
    "RPMK5.obs['Genotype'] = 'RPM'\n",
    "RPMK5.obs['Cre'] = 'K5'\n",
    "RPMK5.obs['GenoCre'] = 'RPM_K5'\n",
    "RPMK5.obs['UnID'] = 'RPM_K5_total'\n",
    "RPMK5.obs['Batch'] = 'RPM_K5_total'"
   ]
  },
  {
   "cell_type": "code",
   "execution_count": null,
   "id": "25ff6bd3-5bbc-4058-bbc8-7fa26389be02",
   "metadata": {},
   "outputs": [],
   "source": [
    "#Concatenate datasets and check groupings \n",
    "adata= RPM1.concatenate([RPM2, RPM3, RPM4, RPM5, RPM6, RPM7, RPMK5t, RPMK5c, RPMK5], index_unique=None, join=\"outer\")\n",
    "\n",
    "adata.obs.groupby([\"UnID\"]).apply(len)"
   ]
  },
  {
   "cell_type": "code",
   "execution_count": null,
   "id": "d024dc1b-3269-45bf-9b16-a761a6d5474a",
   "metadata": {},
   "outputs": [],
   "source": [
    "adata.obs.groupby([\"GenoCre\"]).apply(len)\n"
   ]
  },
  {
   "cell_type": "code",
   "execution_count": null,
   "id": "f70a7b64-4c35-493f-b8f0-ad590abbabc3",
   "metadata": {},
   "outputs": [],
   "source": [
    "adata.obs.groupby([\"Batch\"]).apply(len)"
   ]
  },
  {
   "cell_type": "code",
   "execution_count": null,
   "id": "6378a943-a364-4b83-9ac8-179061680c0d",
   "metadata": {},
   "outputs": [],
   "source": [
    "adata"
   ]
  },
  {
   "cell_type": "markdown",
   "id": "9013019f-d51c-460b-89b2-5189f1a9bb7f",
   "metadata": {},
   "source": [
    "### 3. Perform QC "
   ]
  },
  {
   "cell_type": "code",
   "execution_count": null,
   "id": "2039b23f-8c74-4b10-9859-c5693d58c217",
   "metadata": {},
   "outputs": [],
   "source": [
    "#QC filtering\n",
    "adata.var['mito'] = adata.var_names.str.startswith('mt-')  # annotate the group of mitochondrial genes as 'mt'\n",
    "sc.pp.calculate_qc_metrics(adata, qc_vars=['mito'], percent_top=None, log1p=False, inplace=True)"
   ]
  },
  {
   "cell_type": "code",
   "execution_count": null,
   "id": "ba8d7fe1-46eb-4397-b22d-3599481a02f8",
   "metadata": {},
   "outputs": [],
   "source": [
    "#QC filtering RPMA RPM only scanpy flow\n",
    "sc.pp.filter_cells(adata, min_genes=200)\n",
    "\n",
    "adata.var['mito'] = adata.var_names.str.startswith('mt-')  # annotate the group of mitochondrial genes as 'mt'\n",
    "sc.pp.calculate_qc_metrics(adata, qc_vars=['mito'], percent_top=None, log1p=False, inplace=True)"
   ]
  },
  {
   "cell_type": "code",
   "execution_count": null,
   "id": "2acdddb7-0234-4165-997b-6aba1a7f31da",
   "metadata": {},
   "outputs": [],
   "source": [
    "sc.pl.violin(adata, ['n_genes_by_counts', 'total_counts', 'pct_counts_mito'],\n",
    "             jitter=0.4, multi_panel=True)\n",
    "sc.pl.scatter(adata, x='total_counts', y='pct_counts_mito')\n",
    "sc.pl.scatter(adata, x='total_counts', y='n_genes_by_counts')"
   ]
  },
  {
   "cell_type": "code",
   "execution_count": null,
   "id": "5b052508-e4fe-4147-9135-942064632284",
   "metadata": {},
   "outputs": [],
   "source": [
    "#Filter data by slicing anndata object\n",
    "adata = adata[adata.obs.n_genes_by_counts < 8000, :]\n",
    "adata = adata[adata.obs.n_genes_by_counts > 2000, :]\n",
    "adata = adata[adata.obs.total_counts > 1000, :]\n",
    "adata = adata[adata.obs.pct_counts_mito < 15, :]"
   ]
  },
  {
   "cell_type": "code",
   "execution_count": null,
   "id": "55fcce07-0432-497e-8962-7be6636efbae",
   "metadata": {},
   "outputs": [],
   "source": [
    "#Prep for HVG and scvi\n",
    "#log1p the data\n",
    "adata.obs[\"log1p_total_counts\"] = np.log1p(adata.obs[\"total_counts\"])\n",
    "#Create layers\n",
    "adata.layers[\"counts\"] = adata.X.copy()\n",
    "adata.layers['norm'] = adata.X.copy(); sc.pp.normalize_total(adata, target_sum=1e4, layer=\"norm\")"
   ]
  },
  {
   "cell_type": "markdown",
   "id": "6bf2f6f2-ee9f-4303-a602-70db7d04ac92",
   "metadata": {},
   "source": [
    "### 4. Set up and train model (scvi)"
   ]
  },
  {
   "cell_type": "code",
   "execution_count": null,
   "id": "fc3de487-b35c-4446-ab69-7c33a6c17a9c",
   "metadata": {},
   "outputs": [],
   "source": [
    "#HVG via Scanpy\n",
    "#Note here that if you run with a batch_key with few cells, will get b'reciprocal condition number error\n",
    "sc.pp.highly_variable_genes(\n",
    "    adata,n_top_genes=10000,\n",
    "    subset=False,\n",
    "    layer=\"counts\",\n",
    "    flavor=\"seurat_v3\"\n",
    ")"
   ]
  },
  {
   "cell_type": "code",
   "execution_count": null,
   "id": "73b60fea-480f-432b-9867-f0e518d9d633",
   "metadata": {},
   "outputs": [],
   "source": [
    "adata.var['mean_'] = np.array(adata.X.mean(0))[0]\n",
    "adata.var['frac_zero'] = 1 - np.array((adata.X > 0).sum(0))[0] / adata.shape[0]\n",
    "\n",
    "fig, ax = plt.subplots(figsize=(9,6))\n",
    "ax.scatter(adata.var.mean_, adata.var.frac_zero, s=1)\n",
    "ax.set_xscale(\"log\")"
   ]
  },
  {
   "cell_type": "code",
   "execution_count": null,
   "id": "6037729c-b35c-43b6-8533-a236994be607",
   "metadata": {},
   "outputs": [],
   "source": [
    "#Calculate Poisson gene selection\n",
    "df_poisson = scvi.data.poisson_gene_selection(\n",
    "    adata, n_top_genes=10000, batch_key=\"Batch\", inplace=False\n",
    ")\n",
    "\n",
    "df_poisson[df_poisson.highly_variable].sort_values('prob_zero_enrichment_rank')\n",
    "\n",
    "pd.crosstab(df_poisson.highly_variable, adata.var.highly_variable)\n",
    "\n",
    "is_hvg = df_poisson.highly_variable\n",
    "\n",
    "adata.varm['df_poisson']= df_poisson\n",
    "\n",
    "adata_query = adata[:, is_hvg].copy()\n",
    "print(adata_query)"
   ]
  },
  {
   "cell_type": "code",
   "execution_count": null,
   "id": "cb710c55-b4c5-4424-89df-4c8837b0d5e8",
   "metadata": {},
   "outputs": [],
   "source": [
    "# Prepare model with appropriate batch key (using all genes first)\n",
    "\n",
    "scvi.model.SCVI.setup_anndata(\n",
    "    adata_query,\n",
    "    layer=\"counts\",\n",
    "    batch_key='Batch',\n",
    "    continuous_covariate_keys=[\"pct_counts_mito\"]\n",
    ")\n",
    "\n",
    "model = scvi.model.SCVI(adata_query)"
   ]
  },
  {
   "cell_type": "code",
   "execution_count": null,
   "id": "4f64ca14-427a-424d-992d-e0d4ac265db2",
   "metadata": {},
   "outputs": [],
   "source": [
    "#Train and run scvi\n",
    "\n",
    "#Training parameters\n",
    "train_kwargs = dict(\n",
    "    early_stopping=True,\n",
    "    early_stopping_patience=20,\n",
    "    enable_model_summary=True,\n",
    "    enable_progress_bar=True,\n",
    "    enable_checkpointing=True,\n",
    "    max_epochs=500\n",
    ")\n",
    "\n",
    "#Train and run model\n",
    "#Be sure GPU is enabled to run this\n",
    "model.train(**train_kwargs)"
   ]
  },
  {
   "cell_type": "code",
   "execution_count": null,
   "id": "98d86f20-7cbe-46ec-a9cd-1e10a19228cf",
   "metadata": {},
   "outputs": [],
   "source": [
    "#Fit model to data\n",
    "#Get latent representation of model to apply to UMAP\n",
    "latent = model.get_latent_representation()\n",
    "\n",
    "adata.obsm[\"X_scVI_1.1\"] = latent"
   ]
  },
  {
   "cell_type": "markdown",
   "id": "34a023e8-ab2b-42a0-abcd-d24ef5ad21e1",
   "metadata": {},
   "source": [
    "### 5. Perform leiden clustering"
   ]
  },
  {
   "cell_type": "code",
   "execution_count": null,
   "id": "31b97abd-26c5-425d-8c5a-fda036b8fa6a",
   "metadata": {},
   "outputs": [],
   "source": [
    "#Calculate neighbors using scVI model input\n",
    "sc.pp.neighbors(adata, use_rep=\"X_scVI_1.1\")\n",
    "sc.tl.umap(adata, min_dist=0.5)\n",
    "\n",
    "#Run leiden clustering based on neighbors\n",
    "sc.tl.leiden(adata, key_added=\"leiden_scVI_1.1\", resolution=1)"
   ]
  },
  {
   "cell_type": "markdown",
   "id": "150452a9-112c-462c-bf0f-c8036478a355",
   "metadata": {},
   "source": [
    "### 6. Visualize gene expression, top DEGs, QC metrics and remove non-tumor clusters"
   ]
  },
  {
   "cell_type": "code",
   "execution_count": null,
   "id": "fb4b6fcd-c61d-4323-937c-2f5bb5bef1fb",
   "metadata": {},
   "outputs": [],
   "source": [
    "#QC UMAPs\n",
    "sc.pl.umap(\n",
    "    adata,\n",
    "    color=[\"n_genes_by_counts\", \"total_counts\", \"pct_counts_mito\", \"log1p_total_counts\"],\n",
    "    cmap=\"cubehelix_r\",\n",
    "    s=3,\n",
    "    ncols=2,\n",
    ")"
   ]
  },
  {
   "cell_type": "code",
   "execution_count": null,
   "id": "405caf9f-4597-4eaa-85fa-252fb3f6c1a9",
   "metadata": {},
   "outputs": [],
   "source": [
    "# Other UMAPs\n",
    "\n",
    "fig, ax = plt.subplots(figsize=(8, 6))\n",
    "sc.pl.umap(adata, color=\"Genotype\", cmap=\"cmo.matter\", s=30, ax=ax, vmax=\"p99.99\", frameon=False, save=False)\n",
    "fig, ax = plt.subplots(figsize=(8, 6))\n",
    "sc.pl.umap(adata, color=\"leiden_scVI_1.1\", legend_loc=\"on data\", legend_fontsize='large',ax=ax, s=30, frameon=False, save=False)\n",
    "fig, ax = plt.subplots(figsize=(8, 6))\n",
    "sc.pl.umap(adata, color=\"GenoCre\", legend_loc=\"right margin\", ax=ax, s=30, frameon=False, save=False, palette=['purple','orange'])\n",
    "fig, ax = plt.subplots(figsize=(8, 6))\n",
    "sc.pl.umap(adata, color=\"Batch\", legend_loc=\"right margin\", ax=ax, s=30, frameon=False, save=False)\n",
    "\n",
    "\n",
    "#Additional QC bar graphs\n",
    "adata.obs['cluster'] = adata.obs[\"leiden_scVI_1.1\"].copy()\n",
    "\n",
    "#Plot Log1p total counts\n",
    "fig, ax = plt.subplots(figsize=(20,6))\n",
    "sns.boxenplot(data=adata.obs, x=\"cluster\", y=\"log1p_total_counts\", ax=ax)\n",
    "\n",
    "#Plot Pct counts mito\n",
    "fig, ax = plt.subplots(figsize=(20,6))\n",
    "sns.boxenplot(data=adata.obs, x=\"cluster\", y=\"pct_counts_mito\", ax=ax)"
   ]
  },
  {
   "cell_type": "code",
   "execution_count": null,
   "id": "64b85381-190e-42bc-8c5e-b6a22a0f673b",
   "metadata": {},
   "outputs": [],
   "source": [
    "adata.write_h5ad(\"021725_adata_RPM_K5vCGRP_New.h5ad\")"
   ]
  },
  {
   "cell_type": "code",
   "execution_count": null,
   "id": "6077f3b6-ca27-4e67-ab5b-744863185613",
   "metadata": {},
   "outputs": [],
   "source": [
    "adata=sc.read_h5ad(\"021725_adata_RPM_K5vCGRP_New.h5ad\")"
   ]
  },
  {
   "cell_type": "code",
   "execution_count": null,
   "id": "9cea29a1-673d-432c-9203-aa4951da86a2",
   "metadata": {},
   "outputs": [],
   "source": [
    "#Feature plots for key non-tumor and tumor genes\n",
    "\n",
    "more_types=[\"Ptprc\",\"Pecam1\",\"Acta2\", #immune\n",
    "             \"Venus\",\"fLuc\", 'Cas9','EGFP', \"Top2a\",\"Mki67\", #Prolif/Tumor\n",
    "            'Ascl1','Neurod1','Pou2f3'] # SCLC subtype/Tumor markers\n",
    "\n",
    "sc.pl.umap(\n",
    "    adata,\n",
    "    color=more_types,\n",
    "    use_raw=False,\n",
    "    legend_loc= \"on data\",\n",
    "    color_map=\"cmo.dense\",\n",
    "    ncols=4,\n",
    "    frameon=False,\n",
    "    layer=\"norm\",\n",
    "    save=False\n",
    ")"
   ]
  },
  {
   "cell_type": "code",
   "execution_count": null,
   "id": "e3fb3195-a277-4832-a0e1-ce23740b222b",
   "metadata": {
    "tags": []
   },
   "outputs": [],
   "source": [
    "# Find cluster markers for each leiden cluster to aid filtering\n",
    "sc.tl.rank_genes_groups(adata, 'leiden_scVI_1.1', method='wilcoxon', layer='norm', use_raw=False)\n",
    "pd.DataFrame(adata.uns['rank_genes_groups']['names']).head(50)"
   ]
  },
  {
   "cell_type": "code",
   "execution_count": null,
   "id": "4e72e116-dc81-441f-9001-cb96c4077007",
   "metadata": {},
   "outputs": [],
   "source": [
    "# Dot plot key cell type markers\n",
    "more_types=[\"Col14a1\", \"Acta2\",\"Myh11\",\"Tagln\",\"Mustn1\", #fibroblast\n",
    "              \"Lpl\",\"Lipa\",\"Pparg\",\"Plin2\",\"Ear1\",\"Spp1\", #lipofibroblast/osteoblastic\n",
    "              \"Ptprc\",\"Mertk\",\"Mrc1\",\"Ly75\",\"Adgre1\",\"Itgax\",\"Cd68\",\"Csf1r\",\"Mafb\",\"Msr1\",\"Arg1\",\"Adgre4\", #Macs/Myeloid\n",
    "              \"Cx3cr1\",\"Itgam\",\"Cd14\", #Monocytes\n",
    "              \"S100a9\",\"S100a8\",\"Mmp9\",\"Csf3r\",\"Cxcr2\",\"Ly6g\", #Neuts\n",
    "              \"Batf3\",\"Xcr1\",\"Clec9a\",\"Ccl17\",\"Ccl22\", #DC\n",
    "              \"Cd3d\",\"Cd3e\",\"Cd3g\",\"Cd28\",\"Cd8a\",\"Cd4\",\"Foxp3\", # Tcell\n",
    "              \"Gzma\",\"Ncr1\",\"Gzmb\", #NK\n",
    "              \"Fcmr\",\"Cd19\",\"Fcer2a\",\"Pax5\",\"Cd22\",\"Cd79b\",\"Cd79a\", #B cells\n",
    "              \"Slamf7\", \"Prdm1\", #Plasma\n",
    "              \"Mcam\",\"Pecam1\",\"Icam2\",\"Cd36\",\"Cd93\", #Endothelial\n",
    "    \"Pdpn\",\"Cav1\",\"Cav2\",\"Hopx\",\"Timp3\",\"Sema3f\",\"Serpine1\", #AT1\n",
    "              \"Abca3\",\"Muc1\",\"Sftpa1\",\"Sftpb\",\"Sftpd\",\"Scd1\", #AT2\n",
    "              \"Scgb1a1\",\"Cyp2f2\",\"Scgb3a2\", \"Scgb3a1\",\"Lypd2\",#Club\n",
    "              \"Muc5ac\",\"Muc5b\", # Goblet\n",
    "              \"Tubb4a\",\"Foxa3\",\"Foxj1\",\"Rfx2\",\"Rfx3\",\"Trp73\", #Ciliated\n",
    "              'Krt5', 'Krt17','Krt15','Trp63','Id1','Icam1','Epas1','Aqp3','Sfn','Perp','Fxyd3','Sdc1','Gstm2','F3','Abi3bp','Adh7', # Basal\n",
    "              'Bex2','Ascl1','Meis2','Hes6','Hoxb5','Foxa2','Sox4','Rora','Isl1','Id4', 'Neurod1','Neurod4','Nhlh1','Nhlh2',#NE/neuronal\n",
    "              'Pou2f3','Trpm5','Ascl2','Ehf',\n",
    "              'Lrmp','Gng13','Ltc4s','Alox5ap','Avil','Alox5','Atp2a3','Plk2', #tuft\n",
    "              \"Cftr\",\"Ascl3\", 'Stap1','Atp6v1c2','Pparg','Rasd1','Slc12a2', #ionocyte\n",
    "              \"Gja1\",\"Nkx2-1\",\"Epcam\", # Lung lineage\n",
    "              'Yap1','Wwtr1','Sox2','Cd44','Hes1', # Stem-like\n",
    "             \"Top2a\",\"Mki67\",'Cas9','EGFP','fLuc'] # Tumor markers\n",
    "\n",
    "sc.set_figure_params(scanpy=True, fontsize=15) \n",
    "sc.pl.dotplot(\n",
    "    adata,figsize=[28,10],\n",
    "    var_names=more_types,\n",
    "    groupby='leiden_scVI_1.1',\n",
    "    use_raw=False,\n",
    "    layer=\"norm\",show=False,\n",
    "    color_map=\"cmo.dense\", var_group_rotation=35,standard_scale='var',\n",
    "    save=False)"
   ]
  },
  {
   "cell_type": "code",
   "execution_count": null,
   "id": "8afd8854-6fcd-44d7-8ab2-e87b14d1c39b",
   "metadata": {},
   "outputs": [],
   "source": [
    "#Identify and subset out low qual, plot doublets, and obvious non-tumor clusters (ptprc+)\n",
    "# Immune is 15 (t-cell), 17, 28 (b-cells), 19 (macs), 21 (basal/ATI/ATII), 25 (club/basal), 27 (NK)\n",
    "# Endothelial/fibroblast is 5, 9, 12, 13, 26, \n",
    "\n",
    "bad_clust=['15','17','28','19','21','25','27','5','9','12','13','26']\n",
    "\n",
    "#Filter out bad/non-tumor clusters\n",
    "to_keep=(~adata.obs['leiden_scVI_1.1'].isin(bad_clust))\n",
    "\n",
    "#Copy over to new anndata object\n",
    "adata_2 = adata[to_keep].copy()"
   ]
  },
  {
   "cell_type": "markdown",
   "id": "acd62ff5-ea78-46ab-96fc-9c00ff2aa5fe",
   "metadata": {},
   "source": [
    "#### From here, continue iterating through runs of scvi modeling until no clear low quality cell clusters or non-tumor cells are observed.\n",
    "#### Start back up at \"set up and train scvi model\" and run through subsetting out \"bad clusters\". \n",
    "#### Each time clusters are removed, model is run again to recluster."
   ]
  },
  {
   "cell_type": "markdown",
   "id": "45f843f4-f633-48ec-9c70-c281ff1a1f60",
   "metadata": {},
   "source": [
    "## ITERATION 2"
   ]
  },
  {
   "cell_type": "code",
   "execution_count": null,
   "id": "df00add9-0f1b-48e2-9948-5170af8f09a3",
   "metadata": {},
   "outputs": [],
   "source": [
    "# ID HVG via Scanpy\n",
    "\n",
    "sc.pp.highly_variable_genes(\n",
    "    adata_2,n_top_genes=10000,\n",
    "    subset=False,\n",
    "    layer=\"counts\",\n",
    "    flavor=\"seurat_v3\",\n",
    "    batch_key=\"Batch\"\n",
    ")"
   ]
  },
  {
   "cell_type": "code",
   "execution_count": null,
   "id": "4a06d7b0-39aa-4187-8ac2-6411ccbb9eff",
   "metadata": {},
   "outputs": [],
   "source": [
    "adata_2.var['mean_'] = np.array(adata_2.X.mean(0))[0]\n",
    "adata_2.var['frac_zero'] = 1 - np.array((adata_2.X > 0).sum(0))[0] / adata_2.shape[0]\n",
    "\n",
    "fig, ax = plt.subplots(figsize=(9,6))\n",
    "ax.scatter(adata_2.var.mean_, adata_2.var.frac_zero, s=1)\n",
    "ax.set_xscale(\"log\")"
   ]
  },
  {
   "cell_type": "code",
   "execution_count": null,
   "id": "8455e00a-942b-418f-b028-a49f1c3e1e05",
   "metadata": {},
   "outputs": [],
   "source": [
    "#Calculate Poisson gene selection\n",
    "df_poisson = scvi.data.poisson_gene_selection(\n",
    "    adata_2, n_top_genes=10000, batch_key=\"Batch\", inplace=False\n",
    ")\n",
    "\n",
    "df_poisson[df_poisson.highly_variable].sort_values('prob_zero_enrichment_rank')\n",
    "\n",
    "pd.crosstab(df_poisson.highly_variable, adata_2.var.highly_variable)\n",
    "\n",
    "is_hvg = df_poisson.highly_variable\n",
    "\n",
    "adata_2.varm['df_poisson']= df_poisson\n",
    "\n",
    "adata_query = adata_2[:, is_hvg].copy()\n",
    "print(adata_query)"
   ]
  },
  {
   "cell_type": "code",
   "execution_count": null,
   "id": "f06936bc-434b-4393-824d-766763e0d6e0",
   "metadata": {},
   "outputs": [],
   "source": [
    "scvi.model.SCVI.setup_anndata(\n",
    "    adata_query,\n",
    "    layer=\"counts\",\n",
    "    batch_key='Batch',\n",
    "    continuous_covariate_keys=[\"pct_counts_mito\"]\n",
    ")\n",
    "\n",
    "model = scvi.model.SCVI(adata_query)"
   ]
  },
  {
   "cell_type": "code",
   "execution_count": null,
   "id": "c942cccf-2ec4-4d23-b8ed-08499010e929",
   "metadata": {},
   "outputs": [],
   "source": [
    "#Train and run scvi\n",
    "\n",
    "#Training parameters\n",
    "train_kwargs = dict(\n",
    "    early_stopping=True,\n",
    "    early_stopping_patience=20,\n",
    "    enable_model_summary=True,\n",
    "    enable_progress_bar=True,\n",
    "    enable_checkpointing=True,\n",
    "    max_epochs=500\n",
    ")\n",
    "\n",
    "#Train and run model\n",
    "#Be sure GPU is enabled to run this\n",
    "model.train(**train_kwargs)"
   ]
  },
  {
   "cell_type": "code",
   "execution_count": null,
   "id": "ad2a0ef3-3edb-4394-8ff9-86f8341dba97",
   "metadata": {},
   "outputs": [],
   "source": [
    "#Fit model to data\n",
    "#Get latent representation of model to apply to UMAP\n",
    "latent = model.get_latent_representation()\n",
    "\n",
    "adata_2.obsm[\"X_scVI_1.2\"] = latent"
   ]
  },
  {
   "cell_type": "code",
   "execution_count": null,
   "id": "4d60e16a-27fe-4bea-a676-b3bda357169f",
   "metadata": {},
   "outputs": [],
   "source": [
    "#Calculate neighbors using scVI model input\n",
    "sc.pp.neighbors(adata_2, use_rep=\"X_scVI_1.2\")\n",
    "sc.tl.umap(adata_2, min_dist=0.5)\n",
    "\n",
    "#Run leiden clustering based on neighbors\n",
    "sc.tl.leiden(adata_2, key_added=\"leiden_scVI_1.2\", resolution=1)"
   ]
  },
  {
   "cell_type": "code",
   "execution_count": null,
   "id": "40dab9e6-4477-47a3-91c4-1a92ce4b3aca",
   "metadata": {},
   "outputs": [],
   "source": [
    "#QC UMAPs\n",
    "sc.pl.umap(\n",
    "    adata_2,\n",
    "    color=[\"n_genes_by_counts\", \"total_counts\", \"pct_counts_mito\", \"log1p_total_counts\"],\n",
    "    cmap=\"cubehelix_r\",\n",
    "    s=3,\n",
    "    ncols=2,\n",
    ")"
   ]
  },
  {
   "cell_type": "code",
   "execution_count": null,
   "id": "05cd131e-2148-4b89-92f0-297c0081cba7",
   "metadata": {},
   "outputs": [],
   "source": [
    "# Feature plots\n",
    "\n",
    "more_types=[\"Ptprc\",\"Pecam1\",\"Acta2\",\"fLuc\", \"Top2a\",\"Mki67\",\n",
    "            'Ascl1','Neurod1','Pou2f3','EGFP','Cas9'] # Tumor markers\n",
    "\n",
    "sc.pl.umap(\n",
    "    adata_2,\n",
    "    color=more_types,\n",
    "    use_raw=False,\n",
    "    legend_loc= \"on data\",\n",
    "    color_map=\"cmo.dense\",\n",
    "    ncols=4,s=40,\n",
    "    frameon=False,\n",
    "    layer=\"norm\",\n",
    "    save=False\n",
    ")"
   ]
  },
  {
   "cell_type": "code",
   "execution_count": null,
   "id": "80f3b43d-890e-47bd-8526-5a1231c17534",
   "metadata": {},
   "outputs": [],
   "source": [
    "# Dot plot key cell type markers\n",
    "more_types=[\"Col14a1\", \"Acta2\",\"Myh11\",\"Tagln\",\"Mustn1\", #fibroblast\n",
    "              \"Lpl\",\"Lipa\",\"Pparg\",\"Plin2\",\"Ear1\",\"Spp1\", #lipofibroblast/osteoblastic\n",
    "              \"Ptprc\",\"Mertk\",\"Mrc1\",\"Ly75\",\"Adgre1\",\"Itgax\",\"Cd68\",\"Csf1r\",\"Mafb\",\"Msr1\",\"Arg1\",\"Adgre4\", #Macs/Myeloid\n",
    "              \"Cx3cr1\",\"Itgam\",\"Cd14\", #Monocytes\n",
    "              \"S100a9\",\"S100a8\",\"Mmp9\",\"Csf3r\",\"Cxcr2\",\"Ly6g\", #Neuts\n",
    "              \"Batf3\",\"Xcr1\",\"Clec9a\",\"Ccl17\",\"Ccl22\", #DC\n",
    "              \"Cd3d\",\"Cd3e\",\"Cd3g\",\"Cd28\",\"Cd8a\",\"Cd4\",\"Foxp3\", # Tcell\n",
    "              \"Gzma\",\"Ncr1\",\"Gzmb\", #NK\n",
    "              \"Fcmr\",\"Cd19\",\"Fcer2a\",\"Pax5\",\"Cd22\",\"Cd79b\",\"Cd79a\", #B cells\n",
    "              \"Slamf7\", \"Prdm1\", #Plasma\n",
    "              \"Mcam\",\"Pecam1\",\"Icam2\",\"Cd36\",\"Cd93\", #Endothelial\n",
    "    \"Pdpn\",\"Cav1\",\"Cav2\",\"Hopx\",\"Timp3\",\"Sema3f\",\"Serpine1\", #AT1\n",
    "              \"Abca3\",\"Muc1\",\"Sftpa1\",\"Sftpb\",\"Sftpd\",\"Scd1\", #AT2\n",
    "              \"Scgb1a1\",\"Cyp2f2\",\"Scgb3a2\", \"Scgb3a1\",\"Lypd2\",#Club\n",
    "              \"Muc5ac\",\"Muc5b\", # Goblet\n",
    "              \"Tubb4a\",\"Foxa3\",\"Foxj1\",\"Rfx2\",\"Rfx3\",\"Trp73\", #Ciliated\n",
    "              'Krt5', 'Krt17','Krt15','Trp63','Id1','Icam1','Epas1','Aqp3','Sfn','Perp','Fxyd3','Sdc1','Gstm2','F3','Abi3bp','Adh7', # Basal\n",
    "              'Bex2','Ascl1','Meis2','Hes6','Hoxb5','Foxa2','Sox4','Rora','Isl1','Id4', 'Neurod1','Neurod4','Nhlh1','Nhlh2',#NE/neuronal\n",
    "              'Pou2f3','Trpm5','Ascl2','Ehf',\n",
    "              'Lrmp','Gng13','Ltc4s','Alox5ap','Avil','Alox5','Atp2a3','Plk2', #tuft\n",
    "              \"Cftr\",\"Ascl3\", 'Stap1','Atp6v1c2','Pparg','Rasd1','Slc12a2', #ionocyte\n",
    "              \"Gja1\",\"Nkx2-1\",\"Epcam\", # Lung lineage\n",
    "              'Yap1','Wwtr1','Sox2','Cd44','Hes1', # Stem-like\n",
    "             \"Top2a\",\"Mki67\",'Cas9','EGFP','fLuc'] # Tumor markers\n",
    "\n",
    "sc.set_figure_params(scanpy=True, fontsize=15) \n",
    "sc.pl.dotplot(\n",
    "    adata_2,figsize=[28,10],\n",
    "    var_names=more_types,\n",
    "    groupby='leiden_scVI_1.2',\n",
    "    use_raw=False,\n",
    "    layer=\"norm\",show=False,\n",
    "    color_map=\"cmo.dense\", var_group_rotation=35,standard_scale='var',\n",
    "    save=False)"
   ]
  },
  {
   "cell_type": "code",
   "execution_count": null,
   "id": "e1d80763-2e66-4f47-bdad-cb2e33050c43",
   "metadata": {},
   "outputs": [],
   "source": [
    "adata_2.write_h5ad(\"021725_adata_2_RPM_K5vCGRP_New.h5ad\")"
   ]
  },
  {
   "cell_type": "code",
   "execution_count": null,
   "id": "e6f56920-1c14-4f0f-9f0e-8e3c042dae8a",
   "metadata": {},
   "outputs": [],
   "source": [
    "# Potential macs/immune/fibroblast C13, C18 check DEGs"
   ]
  },
  {
   "cell_type": "code",
   "execution_count": null,
   "id": "a502139a-2777-4d7c-83df-d7058ee2a8e9",
   "metadata": {},
   "outputs": [],
   "source": [
    "# Plot additional UMAPs\n",
    "\n",
    "fig, ax = plt.subplots(figsize=(6, 6))\n",
    "sc.pl.umap(adata_2, color=\"Genotype\", cmap=\"cmo.matter\", s=30, ax=ax, vmax=\"p99.99\", frameon=False, save=False)\n",
    "fig, ax = plt.subplots(figsize=(6, 6))\n",
    "sc.pl.umap(adata_2, color=\"leiden_scVI_1.2\", legend_loc=\"on data\", legend_fontsize='large',ax=ax, s=30, frameon=False, save=False)\n",
    "fig, ax = plt.subplots(figsize=(6, 6))\n",
    "sc.pl.umap(adata_2, color=\"GenoCre\", legend_loc=\"right margin\", ax=ax, s=30, frameon=False, save=False, palette=['purple','orange'])\n",
    "fig, ax = plt.subplots(figsize=(6, 6))\n",
    "sc.pl.umap(adata_2, color=\"UnID\", legend_loc=\"right margin\", ax=ax, s=30, frameon=False, save=False)\n",
    "\n",
    "\n",
    "\n",
    "#Additional QC bar graphs\n",
    "adata_2.obs['cluster'] = adata_2.obs[\"leiden_scVI_1.2\"].copy()\n",
    "\n",
    "#Plot Log1p total counts\n",
    "fig, ax = plt.subplots(figsize=(20,6))\n",
    "sns.boxenplot(data=adata_2.obs, x=\"cluster\", y=\"log1p_total_counts\", ax=ax)\n",
    "\n",
    "#Plot Pct counts mito\n",
    "fig, ax = plt.subplots(figsize=(20,6))\n",
    "sns.boxenplot(data=adata_2.obs, x=\"cluster\", y=\"pct_counts_mito\", ax=ax)"
   ]
  },
  {
   "cell_type": "code",
   "execution_count": null,
   "id": "2b0dbe56-1178-45f7-8fd4-83deff316aa6",
   "metadata": {
    "tags": []
   },
   "outputs": [],
   "source": [
    "# Check more extensively for non-tumor cells\n",
    "more_types=[\"Col14a1\", \"Acta2\",\"Myh11\",\"Tagln\",\"Mustn1\", #fibroblast\n",
    "              \"Lpl\",\"Lipa\",\"Pparg\",\"Plin2\",\"Ear1\",\"Fabp1\",\"Spp1\", #lipofibroblast/osteoblastic\n",
    "              \"Ptprc\",\"Mertk\",\"Marco\",\"Mrc1\",\"Ly75\",\"Adgre1\",\"Itgax\",\"Cd68\",\"Csf1r\",\"Mafb\",\"Msr1\",\"Arg1\",\"Adgre4\",\"Clec4a1\", #Macs/Myeloid\n",
    "              \"Cx3cr1\",\"Itgam\",\"Cd14\", #Monocytes\n",
    "              \"S100a9\",\"S100a8\",\"Mmp9\",\"Csf3r\",\"Cxcr2\",\"Ly6g\", #Neuts\n",
    "              \"Batf3\",\"Xcr1\",\"Clec9a\",\"Ccl17\",\"Ccl22\", #DC\n",
    "              \"Cd3d\",\"Cd3e\",\"Cd3g\",\"Cd28\",\"Cd8a\",\"Cd4\",\"Foxp3\", # Tcell\n",
    "              \"Gzma\",\"Ncr1\",\"Gzmb\", #NK\n",
    "              \"Fcmr\",\"Cd19\",\"Fcer2a\",\"Pax5\",\"Cd22\",\"Cd79b\",\"Cd79a\", #B cells\n",
    "              \"Slamf7\", \"Prdm1\", #Plasma\n",
    "              \"Mcam\",\"Pecam1\",\"Icam2\",\"Cd36\",\"Cd93\", #Endothelial\n",
    "    \"Pdpn\",\"Cav1\",\"Cav2\",\"Hopx\",\"Timp3\",\"Sema3f\",\"Serpine1\", #AT1\n",
    "              \"Abca3\",\"Muc1\",\"Sftpa1\",\"Sftpb\",\"Sftpd\",\"Scd1\", #AT2\n",
    "              \"Scgb1a1\",\"Cyp2f2\",\"Scgb3a2\", \"Scgb3a1\",\"Lypd2\",#Club\n",
    "              \"Muc5ac\",\"Muc5b\", # Goblet\n",
    "              \"Tubb4a\",\"Foxa3\",\"Foxj1\",\"Rfx2\",\"Rfx3\",\"Trp73\", #Ciliated\n",
    "              'Krt5', 'Krt17','Krt15','Trp63','Id1','Icam1','Epas1','Aqp3','Sfn','Perp','Fxyd3','Sdc1','Gstm2','F3','Abi3bp','Adh7', # Basal\n",
    "              'Bex2','Ascl1','Meis2','Hes6','Hoxb5','Foxa2','Sox4','Rora','Isl1','Id4', 'Neurod1','Neurod4','Nhlh1','Nhlh2',#NE/neuronal\n",
    "              'Pou2f3','Trpm5','Ascl2','Ehf',\n",
    "              'Lrmp','Gng13','Ltc4s','Alox5ap','Avil','Alox5','Atp2a3','Plk2', #tuft\n",
    "              \"Cftr\",\"Ascl3\", 'Stap1','Atp6v1c2','Pparg','Rasd1','Slc12a2', #ionocyte\n",
    "              \"Gja1\",\"Nkx2-1\",\"Epcam\", # Lung lineage\n",
    "              'Yap1','Wwtr1','Sox2','Cd44','Hes1', # Stem-like\n",
    "             \"Venus\",\"fLuc\", \"Top2a\",\"Mki67\"] # Tumor markers\n",
    "\n",
    "sc.pl.umap(\n",
    "    adata_2,\n",
    "    color=more_types,\n",
    "    use_raw=False,\n",
    "    legend_loc= \"on data\",\n",
    "    color_map=\"cmo.dense\",\n",
    "    ncols=4,\n",
    "    vmax=\"p99.5\",s=50,\n",
    "    frameon=False,\n",
    "    layer=\"norm\",\n",
    "    save=False\n",
    ")"
   ]
  },
  {
   "cell_type": "code",
   "execution_count": null,
   "id": "d9e93897-a020-4cf8-9f3d-a045019882dd",
   "metadata": {
    "tags": []
   },
   "outputs": [],
   "source": [
    "# Find cluster markers for each leiden cluster to aid filtering\n",
    "# Potential macs/immune/fibroblast C13, C18 check DEGs\n",
    "\n",
    "sc.tl.rank_genes_groups(adata_2, 'leiden_scVI_1.2', method='wilcoxon', layer='norm', use_raw=False)\n",
    "pd.DataFrame(adata_2.uns['rank_genes_groups']['names']).head(50)"
   ]
  },
  {
   "cell_type": "code",
   "execution_count": null,
   "id": "e967e874-a5fa-4012-93a7-192ccb65b4ad",
   "metadata": {},
   "outputs": [],
   "source": [
    "# Convert to a DataFrame\n",
    "df = pd.DataFrame(adata_2.uns['rank_genes_groups']['names'])\n",
    "\n",
    "# Save the first 50 rows to a CSV file\n",
    "df.to_csv(\"021725_RPMCGRP_K5_adata2_rank_genes_groups.csv\", index=False)\n"
   ]
  },
  {
   "cell_type": "code",
   "execution_count": null,
   "id": "110b6125-f9a4-4504-8c8a-658dbcbaec4c",
   "metadata": {},
   "outputs": [],
   "source": [
    "# Immune is C13\n",
    "# Low quality is C16\n",
    "# 18 is potential doublet/stromal/proliferating basal, \n",
    "\n",
    "bad_clust=['13','16','18']\n",
    "\n",
    "#Filter out bad clusters\n",
    "to_keep=(~adata_2.obs['leiden_scVI_1.2'].isin(bad_clust))\n",
    "\n",
    "#Copy over to new anndata object\n",
    "adata_3 = adata_2[to_keep].copy()"
   ]
  },
  {
   "cell_type": "code",
   "execution_count": null,
   "id": "af1e654a-58fe-4cd8-8e7d-f15d8567342a",
   "metadata": {},
   "outputs": [],
   "source": [
    "adata_3"
   ]
  },
  {
   "cell_type": "markdown",
   "id": "5a65c791-9714-4505-9e3e-0e948b8bbf35",
   "metadata": {},
   "source": [
    "## ITERATION 3\n",
    "### Final iteration for Old Fig. 1 (Final Ext. Data Fig. 2)"
   ]
  },
  {
   "cell_type": "code",
   "execution_count": null,
   "id": "82c401cb-7851-4ed5-8e8a-462eac12bfa4",
   "metadata": {},
   "outputs": [],
   "source": [
    "# ID HVGs within new subsetted data via Scanpy\n",
    "\n",
    "sc.pp.highly_variable_genes(\n",
    "    adata_3,n_top_genes=10000,\n",
    "    subset=False,\n",
    "    layer=\"counts\",\n",
    "    flavor=\"seurat_v3\",\n",
    "    batch_key='Batch'\n",
    ")\n"
   ]
  },
  {
   "cell_type": "code",
   "execution_count": null,
   "id": "61dad157-a0b5-4c96-b32f-c1818508bea2",
   "metadata": {},
   "outputs": [],
   "source": [
    "adata_3.var['mean_'] = np.array(adata_3.X.mean(0))[0]\n",
    "adata_3.var['frac_zero'] = 1 - np.array((adata_3.X > 0).sum(0))[0] / adata_3.shape[0]\n",
    "\n",
    "fig, ax = plt.subplots(figsize=(9,6))\n",
    "ax.scatter(adata_3.var.mean_, adata_3.var.frac_zero, s=1)\n",
    "ax.set_xscale(\"log\")"
   ]
  },
  {
   "cell_type": "code",
   "execution_count": null,
   "id": "4f5f4dd2-c7df-44f6-8af4-be370fc51920",
   "metadata": {},
   "outputs": [],
   "source": [
    "#Calculate Poisson gene selection\n",
    "df_poisson = scvi.data.poisson_gene_selection(\n",
    "    adata_3, n_top_genes=10000, batch_key=\"Batch\", inplace=False\n",
    ")\n",
    "\n",
    "df_poisson[df_poisson.highly_variable].sort_values('prob_zero_enrichment_rank')\n",
    "\n",
    "pd.crosstab(df_poisson.highly_variable, adata_3.var.highly_variable)\n",
    "\n",
    "is_hvg = df_poisson.highly_variable\n",
    "\n",
    "adata_3.varm['df_poisson']= df_poisson\n",
    "\n",
    "adata_query = adata_3[:, is_hvg].copy()\n",
    "print(adata_query)"
   ]
  },
  {
   "cell_type": "code",
   "execution_count": null,
   "id": "793c62be-1171-4681-a42f-1582b155a9cd",
   "metadata": {},
   "outputs": [],
   "source": [
    "scvi.model.SCVI.setup_anndata(\n",
    "    adata_query,\n",
    "    layer=\"counts\",\n",
    "    batch_key='Batch',\n",
    "    continuous_covariate_keys=[\"pct_counts_mito\"]\n",
    ")\n",
    "\n",
    "model = scvi.model.SCVI(adata_query)"
   ]
  },
  {
   "cell_type": "code",
   "execution_count": null,
   "id": "2d2d48d8-692a-4661-8830-de8ddcb27df6",
   "metadata": {},
   "outputs": [],
   "source": [
    "#Train and run scvi\n",
    "\n",
    "#Training parameters\n",
    "train_kwargs = dict(\n",
    "    early_stopping=True,\n",
    "    early_stopping_patience=20,\n",
    "    enable_model_summary=True,\n",
    "    enable_progress_bar=True,\n",
    "    enable_checkpointing=True,\n",
    "    max_epochs=500\n",
    ")\n",
    "\n",
    "#Train and run model\n",
    "#Be sure GPU is enabled to run this\n",
    "model.train(**train_kwargs)"
   ]
  },
  {
   "cell_type": "code",
   "execution_count": null,
   "id": "a1b7aee7-28dd-4ae2-ace4-7ac5871a39b3",
   "metadata": {},
   "outputs": [],
   "source": [
    "#Fit model to data\n",
    "#Get latent representation of model to apply to UMAP\n",
    "latent = model.get_latent_representation()\n",
    "adata_3.obsm[\"X_scVI_1.3\"] = latent"
   ]
  },
  {
   "cell_type": "code",
   "execution_count": null,
   "id": "c02f14c7-8d50-428d-a072-5e765aa4dc06",
   "metadata": {},
   "outputs": [],
   "source": [
    "#Calculate neighbors using scVI model input\n",
    "sc.pp.neighbors(adata_3, use_rep=\"X_scVI_1.3\")\n",
    "sc.tl.umap(adata_3, min_dist=0.5)\n",
    "\n",
    "#Run leiden clustering based on neighbors\n",
    "sc.tl.leiden(adata_3, key_added=\"leiden_scVI_1.3\", resolution=0.5)"
   ]
  },
  {
   "cell_type": "markdown",
   "id": "c3978617-3289-4ba3-9314-4a187e537e2a",
   "metadata": {},
   "source": [
    "### Leiden clustering for Fig. 1j (Final Ext. Data Fig. 2i)"
   ]
  },
  {
   "cell_type": "code",
   "execution_count": null,
   "id": "5d3c192b-72fd-4da8-b00b-6cf90f36a696",
   "metadata": {},
   "outputs": [],
   "source": [
    "fig, ax = plt.subplots(figsize=(6, 6))\n",
    "sc.pl.umap(adata_3, color=\"leiden_scVI_1.3\", legend_loc=\"on data\", legend_fontsize='large',ax=ax, s=50, frameon=False, save=False)\n"
   ]
  },
  {
   "cell_type": "code",
   "execution_count": null,
   "id": "bac59664-41cf-44d5-a328-819712dfa30a",
   "metadata": {},
   "outputs": [],
   "source": [
    "adata_3.obs.groupby([\"UnID\"]).apply(len)"
   ]
  },
  {
   "cell_type": "code",
   "execution_count": null,
   "id": "b3b21450-f12e-4cb5-bd82-18e333a35d38",
   "metadata": {},
   "outputs": [],
   "source": [
    "adata_3.obs.groupby([\"GenoCre\"]).apply(len)"
   ]
  },
  {
   "cell_type": "markdown",
   "id": "25ba3439-27e6-4073-bcbb-8a4d31f2cd9d",
   "metadata": {},
   "source": [
    "### UMAP by genotype Fig. 1h (Final Ext. Data Fig. 2g)"
   ]
  },
  {
   "cell_type": "code",
   "execution_count": null,
   "id": "dcc3c19c-0154-452b-aae9-91640a8974b6",
   "metadata": {},
   "outputs": [],
   "source": [
    "fig, ax = plt.subplots(figsize=(6, 6))\n",
    "sc.pl.umap(adata_3, color=\"Batch\", cmap=\"cmo.matter\", s=10, ax=ax, vmax=\"p99.99\", frameon=False, save=False)\n",
    "fig, ax = plt.subplots(figsize=(6, 6))\n",
    "sc.pl.umap(adata_3, color=\"leiden_scVI_1.3\", legend_loc=\"on data\", legend_fontsize='large',ax=ax, s=10, frameon=False, save=False)\n",
    "fig, ax = plt.subplots(figsize=(6, 6))\n",
    "sc.pl.umap(adata_3, color=\"GenoCre\", legend_loc=\"right margin\", ax=ax, s=10, frameon=False, save=False, palette=['purple','orange'])\n",
    "fig, ax = plt.subplots(figsize=(6, 6))\n",
    "sc.pl.umap(adata_3, color=\"UnID\", legend_loc=\"right margin\", ax=ax, s=10, frameon=False, save=False)\n",
    "\n",
    "\n",
    "\n",
    "#Additional QC bar graphs\n",
    "adata_3.obs['cluster'] = adata_3.obs[\"leiden_scVI_1.3\"].copy()\n",
    "\n",
    "#Plot Log1p total counts\n",
    "fig, ax = plt.subplots(figsize=(20,6))\n",
    "sns.boxenplot(data=adata_3.obs, x=\"cluster\", y=\"log1p_total_counts\", ax=ax)\n",
    "\n",
    "#Plot Pct counts mito\n",
    "fig, ax = plt.subplots(figsize=(20,6))\n",
    "sns.boxenplot(data=adata_3.obs, x=\"cluster\", y=\"pct_counts_mito\", ax=ax)"
   ]
  },
  {
   "cell_type": "code",
   "execution_count": null,
   "id": "9d097e07-6ebb-4a60-a174-a85b6889e2a7",
   "metadata": {
    "tags": []
   },
   "outputs": [],
   "source": [
    "more_types=[\"Col14a1\", \"Acta2\",\"Myh11\",\"Tagln\",\"Mustn1\", #fibroblast\n",
    "              \"Lpl\",\"Lipa\",\"Pparg\",\"Plin2\",\"Ear1\",\"Fabp1\",\"Spp1\", #lipofibroblast/osteoblastic\n",
    "              \"Ptprc\",\"Mertk\",\"Marco\",\"Mrc1\",\"Ly75\",\"Adgre1\",\"Itgax\",\"Cd68\",\"Csf1r\",\"Mafb\",\"Msr1\",\"Arg1\",\"Adgre4\",\"Clec4a1\", #Macs/Myeloid\n",
    "              \"Cx3cr1\",\"Itgam\",\"Cd14\", #Monocytes\n",
    "              \"S100a9\",\"S100a8\",\"Mmp9\",\"Csf3r\",\"Cxcr2\",\"Ly6g\", #Neuts\n",
    "              \"Batf3\",\"Xcr1\",\"Clec9a\",\"Ccl17\",\"Ccl22\", #DC\n",
    "              \"Cd3d\",\"Cd3e\",\"Cd3g\",\"Cd28\",\"Cd8a\",\"Cd4\",\"Foxp3\", # Tcell\n",
    "              \"Gzma\",\"Ncr1\",\"Gzmb\", #NK\n",
    "              \"Fcmr\",\"Cd19\",\"Fcer2a\",\"Pax5\",\"Cd22\",\"Cd79b\",\"Cd79a\", #B cells\n",
    "              \"Slamf7\", \"Prdm1\", #Plasma\n",
    "              \"Mcam\",\"Pecam1\",\"Icam2\",\"Cd36\",\"Cd93\", #Endothelial\n",
    "    \"Pdpn\",\"Cav1\",\"Cav2\",\"Hopx\",\"Timp3\",\"Sema3f\",\"Serpine1\", #AT1\n",
    "              \"Abca3\",\"Muc1\",\"Sftpa1\",\"Sftpb\",\"Sftpd\",\"Scd1\", #AT2\n",
    "              \"Scgb1a1\",\"Cyp2f2\",\"Scgb3a2\", \"Scgb3a1\",\"Lypd2\",#Club\n",
    "              \"Muc5ac\",\"Muc5b\", # Goblet\n",
    "              \"Tubb4a\",\"Foxa3\",\"Foxj1\",\"Rfx2\",\"Rfx3\",\"Trp73\", #Ciliated\n",
    "              'Krt5', 'Krt17','Krt15','Trp63','Id1','Icam1','Epas1','Aqp3','Sfn','Perp','Fxyd3','Sdc1','Gstm2','F3','Abi3bp','Adh7', # Basal\n",
    "              'Bex2','Ascl1','Meis2','Hes6','Hoxb5','Foxa2','Sox4','Rora','Isl1','Id4', 'Neurod1','Neurod4','Nhlh1','Nhlh2',#NE/neuronal\n",
    "              'Pou2f3','Trpm5','Ascl2','Ehf',\n",
    "              'Lrmp','Gng13','Ltc4s','Alox5ap','Avil','Alox5','Atp2a3','Plk2', #tuft\n",
    "              \"Cftr\",\"Ascl3\", 'Stap1','Atp6v1c2','Pparg','Rasd1','Slc12a2', #ionocyte\n",
    "              \"Gja1\",\"Nkx2-1\",\"Epcam\", # Lung lineage\n",
    "              'Yap1','Wwtr1','Sox2','Cd44','Hes1', # Stem-like\n",
    "             \"Venus\",\"fLuc\", \"Top2a\",\"Mki67\"] # Tumor markers\n",
    "\n",
    "sc.pl.umap(\n",
    "    adata_3,\n",
    "    color=more_types,\n",
    "    use_raw=False,\n",
    "    legend_loc= \"on data\",\n",
    "    color_map=\"cmo.dense\",\n",
    "    ncols=4,\n",
    "    vmax=\"p99.5\",s=50,\n",
    "    frameon=False,\n",
    "    layer=\"norm\",\n",
    "    save=False\n",
    ")"
   ]
  },
  {
   "cell_type": "code",
   "execution_count": null,
   "id": "73353d8d-b6ac-4158-a78a-27058c3be0e5",
   "metadata": {
    "tags": []
   },
   "outputs": [],
   "source": [
    "adata_3"
   ]
  },
  {
   "cell_type": "code",
   "execution_count": null,
   "id": "f2aba43b-55ac-4dbd-881d-3e879568d164",
   "metadata": {},
   "outputs": [],
   "source": [
    "# Dot plot key cell type markers\n",
    "\n",
    "more_types=[\"Col14a1\", \"Acta2\",\"Myh11\",\"Tagln\",\"Mustn1\", #fibroblast\n",
    "              \"Lpl\",\"Lipa\",\"Pparg\",\"Plin2\",\"Ear1\",\"Spp1\", #lipofibroblast/osteoblastic\n",
    "              \"Ptprc\",\"Mertk\",\"Mrc1\",\"Ly75\",\"Adgre1\",\"Itgax\",\"Cd68\",\"Csf1r\",\"Mafb\",\"Msr1\",\"Arg1\",\"Adgre4\", #Macs/Myeloid\n",
    "              \"Cx3cr1\",\"Itgam\",\"Cd14\", #Monocytes\n",
    "              \"S100a9\",\"S100a8\",\"Mmp9\",\"Csf3r\",\"Cxcr2\",\"Ly6g\", #Neuts\n",
    "              \"Batf3\",\"Xcr1\",\"Clec9a\",\"Ccl17\",\"Ccl22\", #DC\n",
    "              \"Cd3d\",\"Cd3e\",\"Cd3g\",\"Cd28\",\"Cd8a\",\"Cd4\",\"Foxp3\", # Tcell\n",
    "              \"Gzma\",\"Ncr1\",\"Gzmb\", #NK\n",
    "              \"Fcmr\",\"Cd19\",\"Fcer2a\",\"Pax5\",\"Cd22\",\"Cd79b\",\"Cd79a\", #B cells\n",
    "              \"Slamf7\", \"Prdm1\", #Plasma\n",
    "              \"Mcam\",\"Pecam1\",\"Icam2\",\"Cd36\",\"Cd93\", #Endothelial\n",
    "    \"Pdpn\",\"Cav1\",\"Cav2\",\"Hopx\",\"Timp3\",\"Sema3f\",\"Serpine1\", #AT1\n",
    "              \"Abca3\",\"Muc1\",\"Sftpa1\",\"Sftpb\",\"Sftpd\",\"Scd1\", #AT2\n",
    "              \"Scgb1a1\",\"Cyp2f2\",\"Scgb3a2\", \"Scgb3a1\",\"Lypd2\",#Club\n",
    "              \"Muc5ac\",\"Muc5b\", # Goblet\n",
    "              \"Tubb4a\",\"Foxa3\",\"Foxj1\",\"Rfx2\",\"Rfx3\",\"Trp73\", #Ciliated\n",
    "              'Krt5', 'Krt17','Krt15','Trp63','Id1','Icam1','Epas1','Aqp3','Sfn','Perp','Fxyd3','Sdc1','Gstm2','F3','Abi3bp','Adh7', # Basal\n",
    "              'Bex2','Ascl1','Meis2','Hes6','Hoxb5','Foxa2','Sox4','Rora','Isl1','Id4', 'Neurod1','Neurod4','Nhlh1','Nhlh2',#NE/neuronal\n",
    "              'Pou2f3','Trpm5','Ascl2','Ehf',\n",
    "              'Lrmp','Gng13','Ltc4s','Alox5ap','Avil','Alox5','Atp2a3','Plk2', #tuft\n",
    "              \"Cftr\",\"Ascl3\", 'Stap1','Atp6v1c2','Pparg','Rasd1','Slc12a2', #ionocyte\n",
    "              \"Gja1\",\"Nkx2-1\",\"Epcam\", # Lung lineage\n",
    "              'Yap1','Wwtr1','Sox2','Cd44','Hes1', # Stem-like\n",
    "             \"Top2a\",\"Mki67\",'Cas9','EGFP','fLuc'] # Tumor markers\n",
    "\n",
    "sc.set_figure_params(scanpy=True, fontsize=15) \n",
    "sc.pl.dotplot(\n",
    "    adata_3,figsize=[28,10],\n",
    "    var_names=more_types,\n",
    "    groupby='leiden_scVI_1.3',\n",
    "    use_raw=False,\n",
    "    layer=\"norm\",show=False,\n",
    "    color_map=\"cmo.dense\", var_group_rotation=35,standard_scale='var',\n",
    "    save=False)"
   ]
  },
  {
   "cell_type": "code",
   "execution_count": null,
   "id": "66209bd2-0c8a-44d2-92f7-ea136d708171",
   "metadata": {
    "tags": []
   },
   "outputs": [],
   "source": [
    "adata_3.write_h5ad(\"021725_RPM_CGRPvK5_adata3.h5ad\")"
   ]
  },
  {
   "cell_type": "code",
   "execution_count": null,
   "id": "8410d546-e797-4148-a819-2708f6c33ed1",
   "metadata": {},
   "outputs": [],
   "source": [
    "# Find cluster markers for each leiden cluster for Supplementary Tables\n",
    "sc.tl.rank_genes_groups(adata_3, 'leiden_scVI_1.3', method='wilcoxon', layer='norm', use_raw=False)"
   ]
  },
  {
   "cell_type": "code",
   "execution_count": null,
   "id": "f377363d-f740-49dc-88b3-05a99ece2e04",
   "metadata": {},
   "outputs": [],
   "source": [
    "# Convert to a DataFrame\n",
    "df = pd.DataFrame(adata_3.uns['rank_genes_groups']['names'])\n",
    "\n",
    "# Save the first 50 rows to a CSV file\n",
    "df.to_csv(\"021725_RPMCGRP_K5_adata3_rank_genes_groups.csv\", index=False)\n"
   ]
  },
  {
   "cell_type": "code",
   "execution_count": null,
   "id": "01db4692-9186-4ba4-b057-222d1e4af302",
   "metadata": {},
   "outputs": [],
   "source": [
    "adata_3.obs_names_make_unique()"
   ]
  },
  {
   "cell_type": "code",
   "execution_count": null,
   "id": "846d752f-a351-49a2-8a1b-9e3e5acb204a",
   "metadata": {},
   "outputs": [],
   "source": [
    "adata_3.write_h5ad(\"021825_RPM_CGRPvK5_adata3.h5ad\")"
   ]
  },
  {
   "cell_type": "markdown",
   "id": "33cb1720-2868-4369-ab8c-27b8b0315e9f",
   "metadata": {},
   "source": [
    "### FeaturePlots for Fig. 1i (Final Ext. Data Fig. 2h)"
   ]
  },
  {
   "cell_type": "code",
   "execution_count": null,
   "id": "72783124-176a-43f2-9c62-02aa092e3063",
   "metadata": {},
   "outputs": [],
   "source": [
    "more_types=[\"Ascl1\",\"Neurod1\",\"Pou2f3\"] # Tumor markers\n",
    "\n",
    "sc.pl.umap(\n",
    "    adata_3,\n",
    "    color=more_types,\n",
    "    use_raw=False,\n",
    "    legend_loc= \"on data\",\n",
    "    color_map=\"cmo.dense\",\n",
    "    ncols=4,\n",
    "    vmax=\"p99.5\",s=50,\n",
    "    frameon=False,\n",
    "    layer=\"norm\",\n",
    "    save=False\n",
    ")"
   ]
  },
  {
   "cell_type": "markdown",
   "id": "babeede7-efdf-4ec7-894f-45aad97fe10e",
   "metadata": {},
   "source": [
    "### DotPlot for Extended Data Fig. 2i (Final Ext. Data Fig. 2n)"
   ]
  },
  {
   "cell_type": "code",
   "execution_count": null,
   "id": "0dc93050-40dc-4b02-abad-3092af4ca4a7",
   "metadata": {},
   "outputs": [],
   "source": [
    "#Generate signatures from these two tumors after normalizing and log transforming count data \n",
    "sc.pp.normalize_total(adata_3)\n",
    "sc.pp.log1p(adata_3)"
   ]
  },
  {
   "cell_type": "code",
   "execution_count": null,
   "id": "2faeb70c-b694-4e69-b613-a24ecf2d5238",
   "metadata": {},
   "outputs": [],
   "source": [
    "sc.pp.pca(adata_3, n_comps=50)"
   ]
  },
  {
   "cell_type": "code",
   "execution_count": null,
   "id": "b244e7ef-1cf1-4096-bfb0-bcba2f9da794",
   "metadata": {},
   "outputs": [],
   "source": [
    "sc.tl.rank_genes_groups(adata_3, groupby=\"leiden_scVI_1.3\", method=\"wilcoxon\")"
   ]
  },
  {
   "cell_type": "code",
   "execution_count": null,
   "id": "e85b00ba-9635-429b-bc0b-42622a424570",
   "metadata": {},
   "outputs": [],
   "source": [
    "sc.pl.rank_genes_groups_dotplot(adata_3, n_genes=10,figsize=[30,3], standard_scale='var')"
   ]
  },
  {
   "cell_type": "markdown",
   "id": "c6e75780-ec3c-43e9-b530-f6142e69d40b",
   "metadata": {},
   "source": [
    "## End of analysis in Scanpy, move to Seurat in R for calculation of gene signatures and additional plot generation/visualization. To do this, convert resulting h5ad anndata object from this script as a Seurat object in R."
   ]
  },
  {
   "cell_type": "code",
   "execution_count": null,
   "id": "f125492f-07cb-4c02-a898-79e015ecbd5a",
   "metadata": {},
   "outputs": [],
   "source": []
  }
 ],
 "metadata": {
  "kernelspec": {
   "display_name": "Python 3",
   "language": "python",
   "name": "python3"
  },
  "language_info": {
   "codemirror_mode": {
    "name": "ipython",
    "version": 3
   },
   "file_extension": ".py",
   "mimetype": "text/x-python",
   "name": "python",
   "nbconvert_exporter": "python",
   "pygments_lexer": "ipython3",
   "version": "3.8.8"
  }
 },
 "nbformat": 4,
 "nbformat_minor": 5
}
