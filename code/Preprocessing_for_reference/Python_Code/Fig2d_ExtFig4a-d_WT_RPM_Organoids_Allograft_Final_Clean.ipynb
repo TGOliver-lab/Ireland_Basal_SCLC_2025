{
 "cells": [
  {
   "cell_type": "markdown",
   "id": "681f6542-e6df-4fd5-9d1c-c9a154f63b59",
   "metadata": {},
   "source": [
    "# Analysis of WT and RPM basal organoids +/- RPM basal-organoid-derived allograft tumours\n",
    "## Ireland et al 2024 BioRxiv\n",
    "## Updated 05.2025\n",
    "### Related to Fig. 2d and Extended Data Fig. 4a-d (Final Fig. 1i and Ext. Data Fig. 4a-d)"
   ]
  },
  {
   "cell_type": "markdown",
   "id": "4930c45c-7139-43c4-be69-27e721210913",
   "metadata": {},
   "source": [
    "### First, analysis of wildtype basal organoids and RPM organoids \"CellTagged pre-Cre\" and \"CellTagged post-Cre\" for Extended Data Fig. 4a-b"
   ]
  },
  {
   "cell_type": "code",
   "execution_count": null,
   "id": "1e95e3e2-bf04-4d5c-8ceb-fb4cd32308f6",
   "metadata": {},
   "outputs": [],
   "source": [
    "#Import other relevant packages\n",
    "import numpy as np\n",
    "import pandas as pd\n",
    "from matplotlib import rcParams\n",
    "import os\n",
    "import scanpy as sc\n",
    "\n",
    "import matplotlib as mpl\n",
    "import matplotlib.pyplot as plt\n",
    "\n",
    "#For nice color schemes\n",
    "import cmocean\n",
    "\n",
    "#For barplots\n",
    "import seaborn as sns\n",
    "\n",
    "#Import scVI\n",
    "import scvi\n",
    "from scvi.model.utils import mde\n",
    "\n",
    "scvi.settings.verbosity = 40\n",
    "\n",
    "#Import scVI\n",
    "import scvi\n",
    "from scvi.model.utils import mde\n",
    "\n",
    "scvi.settings.verbosity = 40"
   ]
  },
  {
   "cell_type": "code",
   "execution_count": null,
   "id": "28a448e0-133f-49a9-8c4d-e59a8d6c695a",
   "metadata": {},
   "outputs": [],
   "source": [
    "sc.settings.verbosity = 3             # verbosity: errors (0), warnings (1), info (2), hints (3)\n",
    "sc.logging.print_header()\n",
    "sc.settings.set_figure_params(dpi=80, facecolor='white')"
   ]
  },
  {
   "cell_type": "code",
   "execution_count": null,
   "id": "e2474e8d-4a4c-4124-9e14-757c6aa1f351",
   "metadata": {},
   "outputs": [],
   "source": [
    "# Read \n",
    "os.chdir('/work/asi16')"
   ]
  },
  {
   "cell_type": "markdown",
   "id": "49d7a6a0-17f7-4ca8-9cee-f59f3a7b6be2",
   "metadata": {},
   "source": [
    "## 1. Read in all in vitro RPM organoid data, original and new"
   ]
  },
  {
   "cell_type": "code",
   "execution_count": null,
   "id": "a3d8885b-49a0-4fa6-a496-45be8f493c47",
   "metadata": {},
   "outputs": [],
   "source": [
    "# Read in RPM TBOs \"CellTagged pre-Cre\" 10X matrices aligned to CellTag/GFP.CDS genome + Luciferase/Venus\n",
    "rpm_org_cre=sc.read_10x_mtx('042024_custom_count_RPMTBO_CMV_Pool1/RPM/count/sample_filtered_feature_bc_matrix/', var_names='gene_symbols', cache=True)"
   ]
  },
  {
   "cell_type": "code",
   "execution_count": null,
   "id": "2ee077f3-7fef-46b4-bb8f-2bd183cd76c3",
   "metadata": {},
   "outputs": [],
   "source": [
    "# Read in RPM TBOs \"CellTagged post-Cre\" 10X matrices aligned to CellTag/GFP.CDS genome + Luciferase/Venus\n",
    "rpm_org_cre_new=sc.read_10x_mtx('042225_RPM_TBO_CellTagPostCre/042325_RPMTBO_InVitro_CTpostCre/outs/filtered_feature_bc_matrix/', var_names='gene_symbols', cache=False)"
   ]
  },
  {
   "cell_type": "code",
   "execution_count": null,
   "id": "0dab14e4-b6ab-4ac4-a906-3fd95e668047",
   "metadata": {},
   "outputs": [],
   "source": [
    "# Add appropriate metadata to samples\n",
    "rpm_org_cre.obs['Genotype'] = 'RPM'\n",
    "rpm_org_cre.obs['Model'] = 'Organoid'\n",
    "rpm_org_cre.obs['Cre'] = 'CT_preCre'\n",
    "rpm_org_cre.obs['UnID'] = 'RPM_Org_Cre'\n",
    "rpm_org_cre.obs['Batch'] = 'Org_CTpreCre'\n",
    "\n",
    "rpm_org_cre_new.obs['Genotype'] = 'RPM'\n",
    "rpm_org_cre_new.obs['Model'] = 'Organoid'\n",
    "rpm_org_cre_new.obs['Cre'] = 'CT_postCre'\n",
    "rpm_org_cre_new.obs['UnID'] = 'RPM_Org_Cre'\n",
    "rpm_org_cre_new.obs['Batch'] = 'Org_CTpostCre'\n"
   ]
  },
  {
   "cell_type": "code",
   "execution_count": null,
   "id": "2af91b91-cb67-4106-9942-aadb1dc35d01",
   "metadata": {},
   "outputs": [],
   "source": [
    "rpm_org_cre_new"
   ]
  },
  {
   "cell_type": "markdown",
   "id": "8e739d56-210f-4057-9894-0234b5055903",
   "metadata": {},
   "source": [
    "## Also read in wildtype basal organoid data"
   ]
  },
  {
   "cell_type": "code",
   "execution_count": null,
   "id": "c54d2911-848e-4ade-ae50-1a585080e4f3",
   "metadata": {},
   "outputs": [],
   "source": [
    "orgs_nocre=sc.read_10x_mtx('TBO_Pool_NoCre_NotCellPlexed/042024_custom_count_TBOpoolNoCellPlex/filtered_feature_bc_matrix/', var_names='gene_symbols', cache=True)"
   ]
  },
  {
   "cell_type": "code",
   "execution_count": null,
   "id": "0e955896-99ed-4fc0-96da-4f6be66a5a78",
   "metadata": {},
   "outputs": [],
   "source": [
    "# Add appropriate metadata\n",
    "orgs_nocre.obs['Genotype'] = 'WT'\n",
    "orgs_nocre.obs['Model'] = 'Organoid'\n",
    "orgs_nocre.obs['Cre'] = 'No_Cre'\n",
    "orgs_nocre.obs['UnID'] = 'WT_Org_NoCre'\n",
    "orgs_nocre.obs['Batch'] = 'Org_No_Cre'"
   ]
  },
  {
   "cell_type": "code",
   "execution_count": null,
   "id": "d900f0be-c265-4c19-9a55-7280ad98fff0",
   "metadata": {},
   "outputs": [],
   "source": [
    "#Subsample bc >20k cells, keep 10k to be more comparable with RPM transformed organoi samples\n",
    "orgs_nocre_subset=sc.pp.subsample(orgs_nocre, n_obs=10000, copy=True)"
   ]
  },
  {
   "cell_type": "code",
   "execution_count": null,
   "id": "febfb47d-71b0-4fa8-ba94-6b6a3e7d1635",
   "metadata": {},
   "outputs": [],
   "source": [
    "# Add metadata IDs\n",
    "orgs_nocre_subset.obs['Genotype'] = 'WT'\n",
    "orgs_nocre_subset.obs['Model'] = 'Organoid'\n",
    "orgs_nocre_subset.obs['Cre'] = 'No_Cre'\n",
    "orgs_nocre_subset.obs['UnID'] = 'WT_Org_NoCre'\n",
    "orgs_nocre_subset.obs['Batch'] = 'Org_No_Cre'"
   ]
  },
  {
   "cell_type": "markdown",
   "id": "30782d58-8abb-4837-a2cb-846cd595bc9c",
   "metadata": {},
   "source": [
    "## 2. Concatenate WT and RPM transformed organoid datasets"
   ]
  },
  {
   "cell_type": "code",
   "execution_count": null,
   "id": "5ce38fe5-2d5c-4cfd-8696-6f05f0baaa5e",
   "metadata": {},
   "outputs": [],
   "source": [
    "# Add the No Cre RPM to Plus Cre organoid samples and check it\n",
    "#Concatenate datasets\n",
    "orgs_all= rpm_org_cre.concatenate([rpm_org_cre_new,orgs_nocre], index_unique=None, join=\"outer\")"
   ]
  },
  {
   "cell_type": "markdown",
   "id": "4b3ab555-a5e6-4966-9111-8a83c343e55b",
   "metadata": {},
   "source": [
    "## 3. Perform QC"
   ]
  },
  {
   "cell_type": "code",
   "execution_count": null,
   "id": "c6e12b78-5c98-4bba-ad9a-3088b77d190a",
   "metadata": {},
   "outputs": [],
   "source": [
    "orgs_all"
   ]
  },
  {
   "cell_type": "code",
   "execution_count": null,
   "id": "3dbf977a-bb12-408f-8d69-a1dff5a0030a",
   "metadata": {},
   "outputs": [],
   "source": [
    "#QC filtering\n",
    "orgs_all.var['mito'] = orgs_all.var_names.str.startswith('mt-')  # annotate the group of mitochondrial genes as 'mt'\n",
    "sc.pp.calculate_qc_metrics(orgs_all, qc_vars=['mito'], percent_top=None, log1p=False, inplace=True)\n",
    "#QC filtering RPMA RPM only scanpy flow\n",
    "sc.pp.filter_cells(orgs_all, min_genes=200)\n",
    "#sc.pp.filter_genes(orgs_all, min_cells=3)\n",
    "\n",
    "orgs_all.var['mito'] = orgs_all.var_names.str.startswith('mt-')  # annotate the group of mitochondrial genes as 'mt'\n",
    "sc.pp.calculate_qc_metrics(orgs_all, qc_vars=['mito'], percent_top=None, log1p=False, inplace=True)"
   ]
  },
  {
   "cell_type": "code",
   "execution_count": null,
   "id": "ce5057a6-97b1-41f7-bd21-9163d981463b",
   "metadata": {},
   "outputs": [],
   "source": [
    "sc.pl.violin(orgs_all, ['n_genes_by_counts', 'total_counts', 'pct_counts_mito'],\n",
    "             jitter=0.4, multi_panel=True)\n",
    "sc.pl.scatter(orgs_all, x='total_counts', y='pct_counts_mito')\n",
    "sc.pl.scatter(orgs_all, x='total_counts', y='n_genes_by_counts')"
   ]
  },
  {
   "cell_type": "code",
   "execution_count": null,
   "id": "63b8f48c-e460-4f10-991f-91caf4a614bb",
   "metadata": {},
   "outputs": [],
   "source": [
    "#Filter data by slicing anndata object\n",
    "orgs_all = orgs_all[orgs_all.obs.n_genes_by_counts < 7000, :]\n",
    "orgs_all = orgs_all[orgs_all.obs.n_genes_by_counts > 1000, :]\n",
    "orgs_all = orgs_all[orgs_all.obs.total_counts > 2000, :]\n",
    "orgs_all = orgs_all[orgs_all.obs.pct_counts_mito < 15, :]"
   ]
  },
  {
   "cell_type": "code",
   "execution_count": null,
   "id": "9694bcd8-2d2d-4c55-af5d-668c389d5897",
   "metadata": {},
   "outputs": [],
   "source": [
    "orgs_all.obs.groupby([\"UnID\"]).apply(len)"
   ]
  },
  {
   "cell_type": "code",
   "execution_count": null,
   "id": "9ac3555b-5e8d-4194-b2da-7b634fc1e7af",
   "metadata": {},
   "outputs": [],
   "source": [
    "orgs_all.obs.groupby([\"Batch\"]).apply(len)"
   ]
  },
  {
   "cell_type": "markdown",
   "id": "c62958cf-215f-4524-99e6-4c46256bd594",
   "metadata": {},
   "source": [
    "## 4. Identify HVGs with Poisson gene selection"
   ]
  },
  {
   "cell_type": "code",
   "execution_count": null,
   "id": "d4c46e9d-2f69-4d64-bd26-8aa776e724e8",
   "metadata": {},
   "outputs": [],
   "source": [
    "#Prep for HVG and scvi\n",
    "#log1p the data\n",
    "orgs_all.obs[\"log1p_total_counts\"] = np.log1p(orgs_all.obs[\"total_counts\"])\n",
    "#Create layers\n",
    "orgs_all.layers[\"counts\"] = orgs_all.X.copy()\n",
    "orgs_all.layers['norm'] = orgs_all.X.copy(); sc.pp.normalize_total(orgs_all, target_sum=1e4, layer=\"norm\")"
   ]
  },
  {
   "cell_type": "code",
   "execution_count": null,
   "id": "87be9cad-29d8-46c9-ac41-ae9cd75530a5",
   "metadata": {
    "tags": []
   },
   "outputs": [],
   "source": [
    "#HVG via Scanpy\n",
    "#Note here that if you run with a batch_key with few cells, will get b'reciprocal condition number error\n",
    "sc.pp.highly_variable_genes(\n",
    "    orgs_all,n_top_genes=5000,\n",
    "    subset=False,\n",
    "    layer=\"counts\",\n",
    "    flavor=\"seurat_v3\"\n",
    ")"
   ]
  },
  {
   "cell_type": "code",
   "execution_count": null,
   "id": "f7bd6d0a-c8fd-4819-a777-539d3988ec60",
   "metadata": {},
   "outputs": [],
   "source": [
    "orgs_all.var['mean_'] = np.array(orgs_all.X.mean(0))[0]\n",
    "orgs_all.var['frac_zero'] = 1 - np.array((orgs_all.X > 0).sum(0))[0] / orgs_all.shape[0]\n",
    "\n",
    "fig, ax = plt.subplots(figsize=(9,6))\n",
    "ax.scatter(orgs_all.var.mean_, orgs_all.var.frac_zero, s=1)\n",
    "ax.set_xscale(\"log\")"
   ]
  },
  {
   "cell_type": "code",
   "execution_count": null,
   "id": "648c0387-4949-489a-a2a4-3beaed70d7fa",
   "metadata": {},
   "outputs": [],
   "source": [
    "#Calculate Poisson gene selection\n",
    "df_poisson = scvi.data.poisson_gene_selection(\n",
    "    orgs_all, n_top_genes=5000, batch_key=\"Batch\", inplace=False\n",
    ")\n",
    "\n",
    "df_poisson[df_poisson.highly_variable].sort_values('prob_zero_enrichment_rank')\n",
    "\n",
    "pd.crosstab(df_poisson.highly_variable, orgs_all.var.highly_variable)\n",
    "\n",
    "is_hvg = df_poisson.highly_variable\n",
    "\n",
    "orgs_all.varm['df_poisson']= df_poisson\n",
    "\n",
    "adata_query = orgs_all[:, is_hvg].copy()\n",
    "print(adata_query)"
   ]
  },
  {
   "cell_type": "markdown",
   "id": "168d315d-41cd-4815-a57d-c6d5d1c09fab",
   "metadata": {},
   "source": [
    "## 5. Set up and train model (scvi)"
   ]
  },
  {
   "cell_type": "code",
   "execution_count": null,
   "id": "fa21c20e-04c2-44ce-aabc-02b1a35cf1d1",
   "metadata": {},
   "outputs": [],
   "source": [
    "scvi.model.SCVI.setup_anndata(\n",
    "    adata_query,\n",
    "    layer=\"counts\",\n",
    "    batch_key='Batch',\n",
    "    continuous_covariate_keys=[\"pct_counts_mito\"]\n",
    ")\n",
    "\n",
    "model = scvi.model.SCVI(adata_query)"
   ]
  },
  {
   "cell_type": "code",
   "execution_count": null,
   "id": "26901612-0811-4005-8261-2911f9100522",
   "metadata": {},
   "outputs": [],
   "source": [
    "#Train and run scvi\n",
    "\n",
    "#Training parameters\n",
    "train_kwargs = dict(\n",
    "    early_stopping=True,\n",
    "    early_stopping_patience=20,\n",
    "    enable_model_summary=True,\n",
    "    enable_progress_bar=True,\n",
    "    enable_checkpointing=True,\n",
    "    max_epochs=500\n",
    ")\n",
    "\n",
    "#Train and run model\n",
    "#Be sure GPU is enabled to run this\n",
    "model.train(**train_kwargs)"
   ]
  },
  {
   "cell_type": "code",
   "execution_count": null,
   "id": "a19a81bc-8cb8-4f5d-8750-522f9805f312",
   "metadata": {},
   "outputs": [],
   "source": [
    "#Fit model to data\n",
    "#Get latent representation of model to apply to UMAP\n",
    "latent = model.get_latent_representation()\n",
    "\n",
    "orgs_all.obsm[\"X_scVI_1.1\"] = latent"
   ]
  },
  {
   "cell_type": "markdown",
   "id": "da9fc8bb-6a97-4bd4-b812-dca9293c2426",
   "metadata": {},
   "source": [
    "## 6. Perform leiden clustering"
   ]
  },
  {
   "cell_type": "code",
   "execution_count": null,
   "id": "8c314f9e-27c3-4bf9-ac8d-cee19ad8c953",
   "metadata": {},
   "outputs": [],
   "source": [
    "#Calculate neighbors using scVI model input\n",
    "sc.pp.neighbors(orgs_all, use_rep=\"X_scVI_1.1\")\n",
    "sc.tl.umap(orgs_all, min_dist=0.5)\n",
    "\n",
    "#Run leiden clustering based on neighbors\n",
    "sc.tl.leiden(orgs_all, key_added=\"leiden_scVI_1.1\", resolution=0.5)"
   ]
  },
  {
   "cell_type": "markdown",
   "id": "940c5cf2-31b0-4d60-be83-3370f25e12de",
   "metadata": {},
   "source": [
    "## 7. Visualize clustering, QC metrics, and cluster markers"
   ]
  },
  {
   "cell_type": "code",
   "execution_count": null,
   "id": "7c36ac48-018f-46d3-9ddc-ecb0fd65afb7",
   "metadata": {},
   "outputs": [],
   "source": [
    "fig, ax = plt.subplots(figsize=(8, 6))\n",
    "sc.pl.umap(orgs_all, color=\"Cre\", cmap=\"cmo.matter\", s=30, ax=ax, vmax=\"p99.99\", frameon=False, save=False)\n",
    "fig, ax = plt.subplots(figsize=(8, 6))\n",
    "sc.pl.umap(orgs_all, color=\"leiden_scVI_1.1\", legend_loc=\"on data\", legend_fontsize='large',ax=ax, s=30, frameon=False, save=False)\n",
    "fig, ax = plt.subplots(figsize=(8, 6))\n",
    "sc.pl.umap(orgs_all, color=\"UnID\", legend_loc=\"right margin\", ax=ax, s=30, frameon=False, save=False)\n",
    "\n",
    "#Additional QC bar graphs\n",
    "orgs_all.obs['cluster'] = orgs_all.obs[\"leiden_scVI_1.1\"].copy()\n",
    "\n",
    "#Plot Log1p total counts\n",
    "fig, ax = plt.subplots(figsize=(20,6))\n",
    "sns.boxenplot(data=orgs_all.obs, x=\"cluster\", y=\"log1p_total_counts\", ax=ax)\n",
    "\n",
    "#Plot Pct counts mito\n",
    "fig, ax = plt.subplots(figsize=(20,6))\n",
    "sns.boxenplot(data=orgs_all.obs, x=\"cluster\", y=\"pct_counts_mito\", ax=ax)\n"
   ]
  },
  {
   "cell_type": "code",
   "execution_count": null,
   "id": "e36e2031-b232-4f7d-95ec-7eac16a03bc8",
   "metadata": {
    "tags": []
   },
   "outputs": [],
   "source": [
    "# Find cluster markers for each leiden cluster to aid filtering\n",
    "sc.tl.rank_genes_groups(orgs_all, 'leiden_scVI_1.1', method='wilcoxon', layer='norm', use_raw=False)\n",
    "pd.DataFrame(orgs_all.uns['rank_genes_groups']['names']).head(50)"
   ]
  },
  {
   "cell_type": "code",
   "execution_count": null,
   "id": "6d166c91-8c48-4fbb-bb7a-ce039477e4d0",
   "metadata": {},
   "outputs": [],
   "source": [
    "orgs_all.write_h5ad(\"050125_RPM_WT_CTpostCre_CTpreCre_TBOs_adata.h5ad\")"
   ]
  },
  {
   "cell_type": "code",
   "execution_count": null,
   "id": "766b230b-039b-4e0d-89f3-543d219faf20",
   "metadata": {},
   "outputs": [],
   "source": [
    "# Exclude 7 as poor quality.\n",
    "bad_clust=['7']\n",
    "\n",
    "#Filter out bad clusters\n",
    "to_keep=(~orgs_all.obs['leiden_scVI_1.1'].isin(bad_clust))\n",
    "\n",
    "#Copy over to new anndata object\n",
    "orgs_all2 = orgs_all[to_keep].copy()"
   ]
  },
  {
   "cell_type": "markdown",
   "id": "8acc5fb4-fe8d-4693-9f90-a723b0be33d5",
   "metadata": {},
   "source": [
    "### From here, continue iterating through runs of scvi modeling until no clear low quality cell clusters or non-tumor cells are observed.\n",
    "### Start back up at \"set up and train scvi model\" and run through subsetting out \"bad clusters\".\n",
    "### Each time clusters are removed, model is run again to recluster."
   ]
  },
  {
   "cell_type": "markdown",
   "id": "5a19a7c7-7db9-4be3-8e2a-dac7a63e0468",
   "metadata": {},
   "source": [
    "## ITERATION 2\n",
    "### Final iteration for Ext. Data Fig. 4a-c"
   ]
  },
  {
   "cell_type": "code",
   "execution_count": null,
   "id": "103c9de7-01d0-4a4e-a8d9-e1606b6d7476",
   "metadata": {},
   "outputs": [],
   "source": [
    "#HVG via Scanpy\n",
    "#Note here that if you run with a batch_key with few cells, will get b'reciprocal condition number error\n",
    "sc.pp.highly_variable_genes(\n",
    "    orgs_all2,n_top_genes=5000,\n",
    "    subset=False,\n",
    "    layer=\"counts\",\n",
    "    flavor=\"seurat_v3\",\n",
    "    batch_key=\"Batch\"\n",
    ")"
   ]
  },
  {
   "cell_type": "code",
   "execution_count": null,
   "id": "64b2f856-9bb2-4773-ab16-993587ecb9e2",
   "metadata": {},
   "outputs": [],
   "source": [
    "orgs_all2.var['mean_'] = np.array(orgs_all2.X.mean(0))[0]\n",
    "orgs_all2.var['frac_zero'] = 1 - np.array((orgs_all2.X > 0).sum(0))[0] / orgs_all2.shape[0]\n",
    "\n",
    "fig, ax = plt.subplots(figsize=(9,6))\n",
    "ax.scatter(orgs_all2.var.mean_, orgs_all2.var.frac_zero, s=1)\n",
    "ax.set_xscale(\"log\")"
   ]
  },
  {
   "cell_type": "code",
   "execution_count": null,
   "id": "8fee10ce-4610-4361-a34a-0e696eb7edb6",
   "metadata": {},
   "outputs": [],
   "source": [
    "#Calculate Poisson gene selection\n",
    "df_poisson = scvi.data.poisson_gene_selection(\n",
    "    orgs_all2, n_top_genes=5000, batch_key=\"Batch\", inplace=False\n",
    ")\n",
    "\n",
    "df_poisson[df_poisson.highly_variable].sort_values('prob_zero_enrichment_rank')\n",
    "\n",
    "pd.crosstab(df_poisson.highly_variable, orgs_all2.var.highly_variable)\n",
    "\n",
    "is_hvg = df_poisson.highly_variable\n",
    "\n",
    "orgs_all2.varm['df_poisson']= df_poisson\n",
    "\n",
    "adata_query = orgs_all2[:, is_hvg].copy()\n",
    "print(adata_query)"
   ]
  },
  {
   "cell_type": "code",
   "execution_count": null,
   "id": "67fcac84-1515-4a35-8422-87c1909dce28",
   "metadata": {},
   "outputs": [],
   "source": [
    "scvi.model.SCVI.setup_anndata(\n",
    "    adata_query,\n",
    "    layer=\"counts\",\n",
    "    batch_key='Batch',\n",
    "    continuous_covariate_keys=[\"pct_counts_mito\"]\n",
    ")\n",
    "\n",
    "model = scvi.model.SCVI(adata_query)"
   ]
  },
  {
   "cell_type": "code",
   "execution_count": null,
   "id": "e95033a0-a966-4513-9199-6d1ac6636eff",
   "metadata": {},
   "outputs": [],
   "source": [
    "#Train and run scvi\n",
    "\n",
    "#Training parameters\n",
    "train_kwargs = dict(\n",
    "    early_stopping=True,\n",
    "    early_stopping_patience=20,\n",
    "    enable_model_summary=True,\n",
    "    enable_progress_bar=True,\n",
    "    enable_checkpointing=True,\n",
    "    max_epochs=500\n",
    ")\n",
    "\n",
    "#Train and run model\n",
    "#Be sure GPU is enabled to run this\n",
    "model.train(**train_kwargs)"
   ]
  },
  {
   "cell_type": "code",
   "execution_count": null,
   "id": "7949b210-f29b-4219-9c31-87dce5125dd2",
   "metadata": {},
   "outputs": [],
   "source": [
    "#Fit model to data\n",
    "#Get latent representation of model to apply to UMAP\n",
    "latent = model.get_latent_representation()\n",
    "\n",
    "orgs_all2.obsm[\"X_scVI_1.2\"] = latent"
   ]
  },
  {
   "cell_type": "code",
   "execution_count": null,
   "id": "db81dee6-0548-471f-af86-534003545aa8",
   "metadata": {},
   "outputs": [],
   "source": [
    "#Calculate neighbors using scVI model input\n",
    "sc.pp.neighbors(orgs_all2, use_rep=\"X_scVI_1.2\")\n",
    "sc.tl.umap(orgs_all2, min_dist=1)\n",
    "\n",
    "#Run leiden clustering based on neighbors\n",
    "sc.tl.leiden(orgs_all2, key_added=\"leiden_scVI_1.2\", resolution=0.5)"
   ]
  },
  {
   "cell_type": "markdown",
   "id": "bece4def-06f3-4e95-91c7-bbc883b56ec5",
   "metadata": {},
   "source": [
    "## Visualize UMAP by sample and Leiden cluster (Ext. Data Fig. 4a)"
   ]
  },
  {
   "cell_type": "code",
   "execution_count": null,
   "id": "8cf3596d-085d-4735-b286-ac7ecb2f88b3",
   "metadata": {},
   "outputs": [],
   "source": [
    "# Visualize. Extended Data Fig 4a\n",
    "\n",
    "fig, ax = plt.subplots(figsize=(6, 6))\n",
    "sc.pl.umap(orgs_all2, color=\"leiden_scVI_1.2\", legend_loc=\"right margin\", legend_fontsize='xx-large',ax=ax, s=60, frameon=False, save=False)\n",
    "fig, ax = plt.subplots(figsize=(6, 6))\n",
    "sc.pl.umap(orgs_all2, color=\"Cre\", legend_loc=\"right margin\", ax=ax, s=60, frameon=False, save=False, palette=['purple','orange'])\n",
    "fig, ax = plt.subplots(figsize=(6, 6))\n",
    "sc.pl.umap(orgs_all2, color=\"UnID\", legend_loc=\"right margin\", ax=ax, s=30, frameon=False, save=False)"
   ]
  },
  {
   "cell_type": "code",
   "execution_count": null,
   "id": "1fd46ee7-93b4-4a1f-85d4-d9e7e0856809",
   "metadata": {},
   "outputs": [],
   "source": [
    "orgs_all2.obs.groupby([\"Batch\"]).apply(len)"
   ]
  },
  {
   "cell_type": "code",
   "execution_count": null,
   "id": "c040be44-b6cf-4ded-b111-29bf314f99ad",
   "metadata": {},
   "outputs": [],
   "source": [
    "#Additional QC bar graphs\n",
    "orgs_all2.obs['cluster'] = orgs_all2.obs[\"leiden_scVI_1.2\"].copy()\n",
    "\n",
    "#Plot Log1p total counts\n",
    "fig, ax = plt.subplots(figsize=(20,6))\n",
    "sns.boxenplot(data=orgs_all2.obs, x=\"cluster\", y=\"log1p_total_counts\", ax=ax)\n",
    "\n",
    "#Plot Pct counts mito\n",
    "fig, ax = plt.subplots(figsize=(20,6))\n",
    "sns.boxenplot(data=orgs_all2.obs, x=\"cluster\", y=\"pct_counts_mito\", ax=ax)"
   ]
  },
  {
   "cell_type": "markdown",
   "id": "af4dc722-f0f6-464d-b590-2275d777183f",
   "metadata": {},
   "source": [
    "## Create DotPlot (Ext. Data. Fig. 4b)"
   ]
  },
  {
   "cell_type": "code",
   "execution_count": null,
   "id": "81fbe3c2-45c3-4c10-bfc6-138fc39835b3",
   "metadata": {},
   "outputs": [],
   "source": [
    "sc.tl.dendrogram(orgs_all2, groupby=\"leiden_scVI_1.2\")"
   ]
  },
  {
   "cell_type": "code",
   "execution_count": null,
   "id": "453e7ec5-42e6-44fe-ae1e-938b6baf051e",
   "metadata": {},
   "outputs": [],
   "source": [
    "# Dot plot key cell type markers (Extended Data Fig. 4b)\n",
    "more_types=[ \"Pdpn\",\"Cav1\",\"Cav2\",\"Hopx\",\"Timp3\",\"Sema3f\",\"Serpine1\", #AT1\n",
    "              \"Abca3\",\"Muc1\",\"Sftpa1\",\"Sftpb\",\"Sftpd\",\"Scd1\", #AT2\n",
    "              \"Scgb1a1\",\"Cyp2f2\",\"Scgb3a2\", \"Scgb3a1\",\"Lypd2\",#Club\n",
    "              \"Muc5ac\",\"Muc5b\", \"Spdef\",# Goblet\n",
    "              \"Tubb4a\",\"Foxa3\",\"Foxj1\",\"Rfx2\",\"Rfx3\",\"Trp73\", #Ciliated\n",
    "              'Krt5', 'Krt17','Krt15','Krt8','Trp63','Sox2','Id1','Epas1','Aqp3',\n",
    "            'Sfn','Perp','Fxyd3','Sdc1','Gstm2','F3','Adh7', # Basal\n",
    "              'Ascl1','Bex1','Insm1','Chga','Chgb','Myt1','Sez6','Foxa2','Sox11','Syp',#NE/neuronal\n",
    "            \"Neurod1\",\"Nhlh1\",\"Nhlh2\",\n",
    "            'Atoh1','Ush2a','Lhx3','Rasd2','Pou4f3', # Atoh1/Inner Ear\n",
    "              'Pou2f3','Trpm5','Ascl2',\n",
    "              'Lrmp','Gng13','Ltc4s','Alox5ap','Avil','Alox5','Atp2a3', #tuft\n",
    "              \"Cftr\",'Foxi1', \"Ascl3\", 'Stap1','Atp6v1c2','Pparg','Rasd1', #ionocyte\n",
    "              'Yap1','Wwtr1','Sox2','Cd44','Hes1', # Stem-like\n",
    "             \"Top2a\",\"Mki67\", \"Ube2c\",\"Aspm\",\n",
    "            'Myc',\"fLuc\"] # Tumor markers\n",
    "\n",
    "# Dot plot for Extended Data Fig. 4e\n",
    "sc.set_figure_params(scanpy=True, fontsize=20)  # controls default font sizes\n",
    "\n",
    "dotplot = sc.pl.dotplot(\n",
    "    orgs_all2,\n",
    "    var_names=more_types,\n",
    "    groupby='leiden_scVI_1.2',\n",
    "    use_raw=False,\n",
    "    layer=\"norm\",\n",
    "    figsize=[30, 3],\n",
    "    show=False,\n",
    "    color_map=\"cmo.dense\",\n",
    "    var_group_rotation=35,\n",
    "    smallest_dot=10,\n",
    "    dendrogram=True\n",
    ")\n",
    "\n",
    "# Increase x-axis label size\n",
    "plt.xticks(fontsize=30)  # adjust size as needed\n",
    "plt.yticks(fontsize=30)\n",
    "plt.tight_layout()\n",
    "plt.show()"
   ]
  },
  {
   "cell_type": "code",
   "execution_count": null,
   "id": "8e654d36-16b6-4ee2-b132-49399bb9c4b2",
   "metadata": {},
   "outputs": [],
   "source": [
    "orgs_all2.write_h5ad(\"050125_RPM_WT_CTpostCre_CTpreCre_TBOs_adata2.h5ad\")"
   ]
  },
  {
   "cell_type": "code",
   "execution_count": null,
   "id": "7204e3e7-1f18-4354-933e-c64895467f08",
   "metadata": {},
   "outputs": [],
   "source": [
    "orgs_all2=sc.read_h5ad(\"050125_RPM_WT_CTpostCre_CTpreCre_TBOs_adata2.h5ad\")"
   ]
  },
  {
   "cell_type": "code",
   "execution_count": null,
   "id": "1cff9442-15a3-4cd4-bbf4-6d9bde424319",
   "metadata": {
    "tags": []
   },
   "outputs": [],
   "source": [
    "# Find cluster markers for each leiden cluster for supplementary tables\n",
    "sc.tl.rank_genes_groups(orgs_all2, 'leiden_scVI_1.2', method='wilcoxon', layer='norm', use_raw=False)\n",
    "pd.DataFrame(orgs_all2.uns['rank_genes_groups']['names']).head(50)"
   ]
  },
  {
   "cell_type": "code",
   "execution_count": null,
   "id": "96983e20-c66c-4648-8bf8-f0399570f35e",
   "metadata": {},
   "outputs": [],
   "source": [
    "# Extract the ranked genes (names) for all clusters\n",
    "marker_genes = pd.DataFrame(orgs_all2.uns['rank_genes_groups']['names'])\n",
    "\n",
    "# Save to CSV\n",
    "marker_genes.to_csv('050125_orgs_all2_RPM_WT_CTpostCre_CTpreCre_cluster_marker_genes.csv', index=False)"
   ]
  },
  {
   "cell_type": "code",
   "execution_count": null,
   "id": "0c44c54d-a70f-456f-8be8-ef85fe0a15ed",
   "metadata": {},
   "outputs": [],
   "source": []
  },
  {
   "cell_type": "code",
   "execution_count": null,
   "id": "2ed7e2aa-2b96-4e31-ad5e-1ccae5e78de7",
   "metadata": {},
   "outputs": [],
   "source": []
  },
  {
   "cell_type": "code",
   "execution_count": null,
   "id": "ba4597a9-55e8-4479-af57-110cde545716",
   "metadata": {},
   "outputs": [],
   "source": []
  },
  {
   "cell_type": "code",
   "execution_count": null,
   "id": "44625735-d89f-4c3c-956f-cb913d1d9e4b",
   "metadata": {},
   "outputs": [],
   "source": []
  },
  {
   "cell_type": "markdown",
   "id": "5a51ae04-8a67-41bf-828e-605991261f37",
   "metadata": {},
   "source": [
    "# Combining WT and RPM organoid samples, as analyzed above, with resulting RPM allograft tumours\n",
    "### Related to Fig. 2d (Final Fig. 1i) and Extended Data Fig. 4d"
   ]
  },
  {
   "cell_type": "markdown",
   "id": "039a9c58-87fe-41c5-8cfe-fe691104236e",
   "metadata": {},
   "source": [
    "## 1. Read in RPM basal-organoid-derived allograft data"
   ]
  },
  {
   "cell_type": "code",
   "execution_count": null,
   "id": "0fcbbfd4-73b8-417e-83df-5f1028b337c2",
   "metadata": {},
   "outputs": [],
   "source": [
    "######### Now cluster in with RPM TBO Allograft tumor! ############"
   ]
  },
  {
   "cell_type": "code",
   "execution_count": null,
   "id": "46f70b0f-d56c-412d-a9fa-b2a5defe4676",
   "metadata": {},
   "outputs": [],
   "source": [
    "# Read in original \"RPM CellTagged pre-Cre\" as RPM_allo and new \"RPM CellTagged post-Cre\" as RPM_allo3 from 10X matrices\n",
    "RPM_allo=sc.read_10x_mtx('MedGenome_FASTQ_123123/RPM_TBO_Allo/042024_RPM_TBO_Allo_CustomCount/filtered_feature_bc_matrix', var_names='gene_symbols', cache=True)\n",
    "RPM_allo3=sc.read_10x_mtx('042225_RPM_TBO_CellTagPostCre/042225_RPMTBOAllo_CTpostCre_1/outs/filtered_feature_bc_matrix', var_names='gene_symbols', cache=True)\n"
   ]
  },
  {
   "cell_type": "code",
   "execution_count": null,
   "id": "8c861dd4-fbe2-4993-8595-c9c0c7711dd5",
   "metadata": {},
   "outputs": [],
   "source": [
    "# Add metadata identifiers\n",
    "\n",
    "RPM_allo.obs['Genotype'] = 'RPM'\n",
    "RPM_allo.obs['Model'] = 'Allograft'\n",
    "RPM_allo.obs['Cre'] = 'CT_preCre'\n",
    "RPM_allo.obs['UnID'] = 'RPM_Allo_Original'\n",
    "RPM_allo.obs['Batch'] = 'RPM_Allo_Original'\n",
    "RPM_allo.obs['GenoCT'] = 'RPM_Allo_OG_CTpreCre'\n",
    "\n",
    "RPM_allo3.obs['Genotype'] = 'RPM'\n",
    "RPM_allo3.obs['Model'] = 'Allograft'\n",
    "RPM_allo3.obs['Cre'] = 'CT_postCre'\n",
    "RPM_allo3.obs['UnID'] = 'RPM_Allo_3_New'\n",
    "RPM_allo3.obs['Batch'] = 'RPM_Allo_3_New'\n",
    "RPM_allo3.obs['GenoCT'] = 'RPM_Allo_3_CTpostCre'\n"
   ]
  },
  {
   "cell_type": "markdown",
   "id": "b7eb1206-e4a0-45a3-b40a-6cc4222e4bac",
   "metadata": {},
   "source": [
    "## 2. Concatenate allograft data with organoid data"
   ]
  },
  {
   "cell_type": "code",
   "execution_count": null,
   "id": "8b62c1a0-f582-4ebf-8e11-86ad76fc436e",
   "metadata": {},
   "outputs": [],
   "source": [
    "# Add to organoid samples and check it\n",
    "#Concatenate datasets\n",
    "adata= orgs_all2.concatenate([RPM_allo, RPM_allo3], index_unique=None, join=\"outer\")"
   ]
  },
  {
   "cell_type": "code",
   "execution_count": null,
   "id": "01204f0f-be5e-482c-beed-64cc9cdd4226",
   "metadata": {},
   "outputs": [],
   "source": [
    "adata.obs.groupby([\"Batch\"]).apply(len)"
   ]
  },
  {
   "cell_type": "code",
   "execution_count": null,
   "id": "308a282a-942a-41a5-9616-2dc47a38fb14",
   "metadata": {},
   "outputs": [],
   "source": [
    "adata.obs.groupby([\"UnID\"]).apply(len)"
   ]
  },
  {
   "cell_type": "markdown",
   "id": "48f1e6a8-20c0-4c15-820c-62407cd9e8b3",
   "metadata": {},
   "source": [
    "## 3. Perform QC"
   ]
  },
  {
   "cell_type": "code",
   "execution_count": null,
   "id": "de650570-40c0-4482-b7ea-d98f6512c0ab",
   "metadata": {},
   "outputs": [],
   "source": [
    "#QC filtering\n",
    "adata.var['mito'] = adata.var_names.str.startswith('mt-')  # annotate the group of mitochondrial genes as 'mt'\n",
    "sc.pp.calculate_qc_metrics(adata, qc_vars=['mito'], percent_top=None, log1p=False, inplace=True)"
   ]
  },
  {
   "cell_type": "code",
   "execution_count": null,
   "id": "d8a09fe7-322e-4b2e-b287-9cb5294a908e",
   "metadata": {},
   "outputs": [],
   "source": [
    "#QC filtering RPMA RPM only scanpy flow\n",
    "sc.pp.filter_cells(adata, min_genes=200)\n",
    "\n",
    "adata.var['mito'] = adata.var_names.str.startswith('mt-')  # annotate the group of mitochondrial genes as 'mt'\n",
    "sc.pp.calculate_qc_metrics(adata, qc_vars=['mito'], percent_top=None, log1p=False, inplace=True)"
   ]
  },
  {
   "cell_type": "code",
   "execution_count": null,
   "id": "a5eb1ee8-4967-4d4d-ba28-31bb06619a66",
   "metadata": {},
   "outputs": [],
   "source": [
    "sc.pl.violin(adata, ['n_genes_by_counts', 'total_counts', 'pct_counts_mito'],\n",
    "             jitter=0.4, multi_panel=True)\n",
    "sc.pl.scatter(adata, x='total_counts', y='pct_counts_mito')\n",
    "sc.pl.scatter(adata, x='total_counts', y='n_genes_by_counts')"
   ]
  },
  {
   "cell_type": "code",
   "execution_count": null,
   "id": "ec627124-06b5-42ac-b65a-6007321f1199",
   "metadata": {},
   "outputs": [],
   "source": [
    "#Filter data by slicing anndata object\n",
    "adata = adata[adata.obs.n_genes_by_counts < 9000, :]\n",
    "adata = adata[adata.obs.n_genes_by_counts > 2000, :]\n",
    "adata = adata[adata.obs.total_counts > 2000, :]\n",
    "adata = adata[adata.obs.pct_counts_mito < 15, :]\n"
   ]
  },
  {
   "cell_type": "markdown",
   "id": "071dba40-fb5b-4835-930b-774c789565bc",
   "metadata": {},
   "source": [
    "## 4. Identify HVGs with Poisson gene selection"
   ]
  },
  {
   "cell_type": "code",
   "execution_count": null,
   "id": "915f3beb-508c-40bb-9578-3930ab3d22e5",
   "metadata": {},
   "outputs": [],
   "source": [
    "#Prep for HVG and scvi\n",
    "#log1p the data\n",
    "adata.obs[\"log1p_total_counts\"] = np.log1p(adata.obs[\"total_counts\"])"
   ]
  },
  {
   "cell_type": "code",
   "execution_count": null,
   "id": "0f2868a0-96f1-4895-9c07-0f42cdc12b57",
   "metadata": {},
   "outputs": [],
   "source": [
    "#Create layers\n",
    "adata.layers[\"counts\"] = adata.X.copy()\n",
    "adata.layers['norm'] = adata.X.copy(); sc.pp.normalize_total(adata, target_sum=1e4, layer=\"norm\")"
   ]
  },
  {
   "cell_type": "code",
   "execution_count": null,
   "id": "7d93031b-7b3f-42e9-95ae-ad013af5a585",
   "metadata": {},
   "outputs": [],
   "source": [
    "#HVG via Scanpy\n",
    "#Note here that if you run with a batch_key with few cells, will get b'reciprocal condition number error\n",
    "sc.pp.highly_variable_genes(\n",
    "    adata,n_top_genes=10000,\n",
    "    subset=False,\n",
    "    layer=\"counts\",\n",
    "    flavor=\"seurat_v3\",\n",
    "    batch_key=\"Batch\"\n",
    ")"
   ]
  },
  {
   "cell_type": "code",
   "execution_count": null,
   "id": "6c8b9439-ea47-45cd-954f-c97cd1c3db0a",
   "metadata": {},
   "outputs": [],
   "source": [
    "adata.var['mean_'] = np.array(adata.X.mean(0))[0]\n",
    "adata.var['frac_zero'] = 1 - np.array((adata.X > 0).sum(0))[0] / adata.shape[0]\n",
    "\n",
    "fig, ax = plt.subplots(figsize=(9,6))\n",
    "ax.scatter(adata.var.mean_, adata.var.frac_zero, s=1)\n",
    "ax.set_xscale(\"log\")"
   ]
  },
  {
   "cell_type": "code",
   "execution_count": null,
   "id": "75d535fb-fc59-4a32-97ac-5c9f9f5d583f",
   "metadata": {},
   "outputs": [],
   "source": [
    "#Calculate Poisson gene selection\n",
    "df_poisson = scvi.data.poisson_gene_selection(\n",
    "    adata, n_top_genes=5000, batch_key=\"Batch\", inplace=False\n",
    ")\n",
    "\n",
    "df_poisson[df_poisson.highly_variable].sort_values('prob_zero_enrichment_rank')\n",
    "\n",
    "pd.crosstab(df_poisson.highly_variable, adata.var.highly_variable)\n",
    "\n",
    "is_hvg = df_poisson.highly_variable\n",
    "\n",
    "adata.varm['df_poisson']= df_poisson\n",
    "\n",
    "adata_query = adata[:, is_hvg].copy()\n",
    "print(adata_query)"
   ]
  },
  {
   "cell_type": "markdown",
   "id": "80803505-28b9-49b5-a89a-ee9dc07087ae",
   "metadata": {},
   "source": [
    "## 5. Set up and train scVI model"
   ]
  },
  {
   "cell_type": "code",
   "execution_count": null,
   "id": "80c42c75-df8f-4f53-ab14-16db7891f198",
   "metadata": {},
   "outputs": [],
   "source": [
    "scvi.model.SCVI.setup_anndata(\n",
    "    adata_query,\n",
    "    layer=\"counts\",\n",
    "    batch_key='Batch',\n",
    "    continuous_covariate_keys=[\"pct_counts_mito\"]\n",
    ")\n",
    "\n",
    "model = scvi.model.SCVI(adata_query)"
   ]
  },
  {
   "cell_type": "code",
   "execution_count": null,
   "id": "49d9e316-8864-49cf-ae04-608c5c713298",
   "metadata": {},
   "outputs": [],
   "source": [
    "#Train and run scvi\n",
    "\n",
    "#Training parameters\n",
    "train_kwargs = dict(\n",
    "    early_stopping=True,\n",
    "    early_stopping_patience=20,\n",
    "    enable_model_summary=True,\n",
    "    enable_progress_bar=True,\n",
    "    enable_checkpointing=True,\n",
    "    max_epochs=500\n",
    ")\n",
    "\n",
    "#Train and run model\n",
    "#Be sure GPU is enabled to run this\n",
    "model.train(**train_kwargs)"
   ]
  },
  {
   "cell_type": "code",
   "execution_count": null,
   "id": "6c8bd764-3be9-4005-bd06-4f52d4a9f24c",
   "metadata": {},
   "outputs": [],
   "source": [
    "#Fit model to data\n",
    "#Get latent representation of model to apply to UMAP\n",
    "latent = model.get_latent_representation()\n",
    "\n",
    "adata.obsm[\"X_scVI_1.1\"] = latent"
   ]
  },
  {
   "cell_type": "markdown",
   "id": "25a386d9-bc0b-4302-882c-034fedb45be9",
   "metadata": {},
   "source": [
    "## 6. Perform leiden clustering"
   ]
  },
  {
   "cell_type": "code",
   "execution_count": null,
   "id": "0ee15266-e7ad-429e-a6bb-7933ae675ee0",
   "metadata": {},
   "outputs": [],
   "source": [
    "#Calculate neighbors using scVI model input\n",
    "sc.pp.neighbors(adata, use_rep=\"X_scVI_1.1\")\n",
    "sc.tl.umap(adata, min_dist=0.5)\n",
    "\n",
    "#Run leiden clustering based on neighbors\n",
    "sc.tl.leiden(adata, key_added=\"leiden_scVI_1.1\", resolution=1)"
   ]
  },
  {
   "cell_type": "markdown",
   "id": "5c4bb309-b162-4d76-bbc3-3e7b5c3e6cbf",
   "metadata": {},
   "source": [
    "## 7. Visualize clustering, QC metrics, and individual genes to determine tumour vs non-tumour clusters"
   ]
  },
  {
   "cell_type": "code",
   "execution_count": null,
   "id": "096904a9-cdef-4661-881f-38ad2f1445fe",
   "metadata": {},
   "outputs": [],
   "source": [
    "#QC UMAPs\n",
    "sc.pl.umap(\n",
    "    adata,\n",
    "    color=[\"n_genes_by_counts\", \"total_counts\", \"pct_counts_mito\", \"log1p_total_counts\"],\n",
    "    cmap=\"cubehelix_r\",\n",
    "    s=3,\n",
    "    ncols=2,\n",
    ")"
   ]
  },
  {
   "cell_type": "code",
   "execution_count": null,
   "id": "fe36c830-554e-41ce-8d62-1699be8197b3",
   "metadata": {},
   "outputs": [],
   "source": [
    "fig, ax = plt.subplots(figsize=(6, 6))\n",
    "sc.pl.umap(adata, color=\"Genotype\", cmap=\"cmo.matter\", s=10, ax=ax, vmax=\"p99.99\", frameon=False, save=False)\n",
    "fig, ax = plt.subplots(figsize=(6, 6))\n",
    "sc.pl.umap(adata, color=\"leiden_scVI_1.1\", legend_loc=\"on data\", legend_fontsize='xx-large',ax=ax, s=10, frameon=False, save=False)\n",
    "fig, ax = plt.subplots(figsize=(6, 6))\n",
    "sc.pl.umap(adata, color=\"UnID\", legend_loc=\"right margin\", ax=ax, s=10, frameon=False, save=False)\n",
    "\n",
    "#Additional QC bar graphs\n",
    "adata.obs['cluster'] = adata.obs[\"leiden_scVI_1.1\"].copy()\n",
    "\n",
    "#Plot Log1p total counts\n",
    "fig, ax = plt.subplots(figsize=(20,6))\n",
    "sns.boxenplot(data=adata.obs, x=\"cluster\", y=\"log1p_total_counts\", ax=ax)\n",
    "\n",
    "#Plot Pct counts mito\n",
    "fig, ax = plt.subplots(figsize=(20,6))\n",
    "sns.boxenplot(data=adata.obs, x=\"cluster\", y=\"pct_counts_mito\", ax=ax)"
   ]
  },
  {
   "cell_type": "code",
   "execution_count": null,
   "id": "0e17b83e-6142-42f4-98c5-4dcb7568c3b6",
   "metadata": {},
   "outputs": [],
   "source": [
    "#feature plots\n",
    "more_types=[\"Col14a1\", \"Acta2\",\"Myh11\",\"Tagln\",\"Mustn1\", #fibroblast\n",
    "              \"Lpl\",\"Lipa\",\"Pparg\",\"Plin2\",\"Ear1\",\"Fabp1\",\"Spp1\", #lipofibroblast/osteoblastic\n",
    "              \"Ptprc\",\"Mertk\",\"Marco\",\"Mrc1\",\"Ly75\",\"Adgre1\",\n",
    "            \"Itgax\",\"Cd68\",\"Csf1r\",\"Mafb\",\"Msr1\",\"Arg1\",\"Adgre4\",\"Clec4a1\", #Macs/Myeloid\n",
    "              \"Cx3cr1\",\"Itgam\",\"Cd14\", #Monocytes\n",
    "              \"S100a9\",\"S100a8\",\"Mmp9\",\"Csf3r\",\"Cxcr2\",\"Ly6g\", #Neuts\n",
    "              \"Batf3\",\"Xcr1\",\"Clec9a\",\"Ccl17\",\"Ccl22\", #DC\n",
    "              \"Cd3d\",\"Cd3g\",\"Cd28\",\"Cd8a\",\"Cd4\",\"Foxp3\", # Tcell\n",
    "              \"Gzma\",\"Ncr1\",\"Gzmb\", #NK\n",
    "              \"Fcmr\",\"Fcer2a\",\"Pax5\",\"Cd22\",\"Cd79b\",\"Cd79a\", #B cells\n",
    "              \"Slamf7\", \"Prdm1\", #Plasma\n",
    "              \"Mcam\",\"Pecam1\",\"Icam2\",\"Cd36\",\"Cd93\", \"Ascl1\",\"Neurod1\",\"Pou2f3\", \"fLuc\", \"GFP.CDS\",\"CellTag.UTR\"] #Endothelial\n",
    "\n",
    "sc.pl.umap(\n",
    "    adata,\n",
    "    color=more_types,\n",
    "    use_raw=False,\n",
    "    legend_loc= \"on data\",\n",
    "    color_map=\"cmo.dense\",\n",
    "    ncols=4,s=30,\n",
    "    frameon=False,\n",
    "    vmax=\"p99.5\",\n",
    "    layer=\"norm\",\n",
    "    save=False\n",
    ")"
   ]
  },
  {
   "cell_type": "code",
   "execution_count": null,
   "id": "b9fb9161-97be-4a7c-a6e2-d884046e587c",
   "metadata": {},
   "outputs": [],
   "source": [
    "#feature plots\n",
    "more_types=[\"Ascl1\", \"Neurod1\",\"Atoh1\",\"Pou2f3\",\"Trp63\",\"fLuc\", \"GFP.CDS\",\"CellTag.UTR\"] #Endothelial\n",
    "\n",
    "sc.pl.umap(\n",
    "    adata,\n",
    "    color=more_types,\n",
    "    use_raw=False,\n",
    "    legend_loc= \"on data\",\n",
    "    color_map=\"cmo.dense\",\n",
    "    ncols=4,s=30,\n",
    "    frameon=False,\n",
    "    vmax=\"p99.5\",\n",
    "    layer=\"norm\",\n",
    "    save=False\n",
    ")"
   ]
  },
  {
   "cell_type": "code",
   "execution_count": null,
   "id": "3488ad02-3f6b-472a-adb4-3787b559c80e",
   "metadata": {},
   "outputs": [],
   "source": [
    "# Dot plot key cell type markers\n",
    "more_types=[\"Col14a1\", \"Acta2\",\"Myh11\",\"Tagln\",\"Mustn1\", #fibroblast\n",
    "              \"Lpl\",\"Lipa\",\"Pparg\",\"Plin2\",\"Ear1\",\"Spp1\", #lipofibroblast/osteoblastic\n",
    "              \"Ptprc\",\"Mertk\",\"Mrc1\",\"Ly75\",\"Adgre1\",\"Itgax\",\"Cd68\",\"Csf1r\",\"Mafb\",\"Msr1\",\"Arg1\",\"Adgre4\", #Macs/Myeloid\n",
    "              \"Cx3cr1\",\"Itgam\",\"Cd14\", #Monocytes\n",
    "              \"S100a9\",\"S100a8\",\"Mmp9\",\"Csf3r\",\"Cxcr2\",\"Ly6g\", #Neuts\n",
    "              \"Batf3\",\"Xcr1\",\"Clec9a\",\"Ccl17\",\"Ccl22\", #DC\n",
    "              \"Cd3d\",\"Cd3e\",\"Cd3g\",\"Cd28\",\"Cd8a\",\"Cd4\",\"Foxp3\", # Tcell\n",
    "              \"Gzma\",\"Ncr1\",\"Gzmb\", #NK\n",
    "              \"Fcmr\",\"Cd19\",\"Fcer2a\",\"Pax5\",\"Cd22\",\"Cd79b\",\"Cd79a\", #B cells\n",
    "              \"Slamf7\", \"Prdm1\", #Plasma\n",
    "              \"Mcam\",\"Pecam1\",\"Icam2\",\"Cd36\",\"Cd93\", #Endothelial\n",
    "    \"Pdpn\",\"Cav1\",\"Cav2\",\"Hopx\",\"Timp3\",\"Sema3f\",\"Serpine1\", #AT1\n",
    "              \"Abca3\",\"Muc1\",\"Sftpa1\",\"Sftpb\",\"Sftpd\",\"Scd1\", #AT2\n",
    "              \"Scgb1a1\",\"Cyp2f2\",\"Scgb3a2\", \"Scgb3a1\",\"Lypd2\",#Club\n",
    "              \"Muc5ac\",\"Muc5b\", # Goblet\n",
    "              \"Tubb4a\",\"Foxa3\",\"Foxj1\",\"Rfx2\",\"Rfx3\",\"Trp73\", #Ciliated\n",
    "              'Krt5', 'Krt17','Krt15','Trp63','Id1','Icam1','Epas1','Aqp3','Sfn','Perp','Fxyd3','Sdc1','Gstm2','F3','Abi3bp','Adh7', # Basal\n",
    "              'Bex2','Ascl1','Meis2','Hes6','Hoxb5','Foxa2','Sox4','Rora','Isl1','Id4', 'Neurod1','Neurod4','Nhlh1','Nhlh2',#NE/neuronal\n",
    "              'Pou2f3','Trpm5','Ascl2','Ehf',\n",
    "              'Lrmp','Gng13','Ltc4s','Alox5ap','Avil','Alox5','Atp2a3','Plk2', #tuft\n",
    "              \"Cftr\",\"Ascl3\", 'Stap1','Atp6v1c2','Pparg','Rasd1','Slc12a2', #ionocyte\n",
    "              \"Gja1\",\"Nkx2-1\",\"Epcam\", # Lung lineage\n",
    "              'Yap1','Wwtr1','Sox2','Cd44','Hes1', # Stem-like\n",
    "             \"Venus\",\"fLuc\", \"Top2a\",\"Mki67\",\n",
    "            'GFP.CDS','CellTag.UTR'] # Tumor markers\n",
    "\n",
    "sc.set_figure_params(scanpy=True, fontsize=20) \n",
    "sc.pl.dotplot(\n",
    "    adata,figsize=[28,10],\n",
    "    var_names=more_types,\n",
    "    groupby='leiden_scVI_1.1',\n",
    "    use_raw=False,\n",
    "    layer=\"norm\",show=False,\n",
    "    color_map=\"cmo.dense\", var_group_rotation=35,standard_scale='var',\n",
    "    save=False)"
   ]
  },
  {
   "cell_type": "code",
   "execution_count": null,
   "id": "19ca3ebe-6ca0-4681-a80f-5b7377add3c6",
   "metadata": {
    "tags": []
   },
   "outputs": [],
   "source": [
    "# Find cluster markers for each leiden cluster to aid filtering\n",
    "sc.tl.rank_genes_groups(adata, 'leiden_scVI_1.1', method='wilcoxon', layer='norm', use_raw=False)\n",
    "pd.DataFrame(adata.uns['rank_genes_groups']['names']).head(50)"
   ]
  },
  {
   "cell_type": "code",
   "execution_count": null,
   "id": "3f995e04-903e-4b06-93cf-042a92c6b49d",
   "metadata": {},
   "outputs": [],
   "source": [
    "# Extract the ranked genes (names) for all clusters\n",
    "marker_genes = pd.DataFrame(adata.uns['rank_genes_groups']['names'])\n",
    "\n",
    "# Save to CSV\n",
    "marker_genes.to_csv('050225_RPM_Orgs_Allo_adata_DEGsbyleiden.csv', index=False)"
   ]
  },
  {
   "cell_type": "code",
   "execution_count": null,
   "id": "6adeee6c-694c-4c3d-abf8-8a938bd0a034",
   "metadata": {},
   "outputs": [],
   "source": [
    "adata.write_h5ad(\"050225_RPM_Orgs_Allo_UpdatedwAlloOGand3_adata.h5ad\")"
   ]
  },
  {
   "cell_type": "code",
   "execution_count": null,
   "id": "a1cc97c3-c878-496c-ad95-cc92582cf037",
   "metadata": {},
   "outputs": [],
   "source": [
    "# Remove low quality or non-tumour clusters\n",
    "# 24 is fibroblast, 23 is endothelial, 19 is macs/immune\n",
    "\n",
    "bad_clust=['24','23','19']\n",
    "\n",
    "#Filter out bad clusters\n",
    "to_keep=(~adata.obs['leiden_scVI_1.1'].isin(bad_clust))\n",
    "\n",
    "#Copy over to new anndata object\n",
    "adata_2 = adata[to_keep].copy()"
   ]
  },
  {
   "cell_type": "markdown",
   "id": "52c03a7b-c906-4560-bb34-6043dbb21d31",
   "metadata": {},
   "source": [
    "### From here, continue iterating through runs of scvi modeling until no clear low quality cell clusters or non-tumor cells are observed.\n",
    "### Start back up at \"set up and train scvi model\" and run through subsetting out \"bad clusters\".\n",
    "### Each time clusters are removed, model is run again to recluster."
   ]
  },
  {
   "cell_type": "markdown",
   "id": "68bf15db-fe32-4a22-9362-17a8b5b90a17",
   "metadata": {},
   "source": [
    "## ITERATION 2"
   ]
  },
  {
   "cell_type": "code",
   "execution_count": null,
   "id": "484b9083-c676-423a-8ddf-c5eb34df7740",
   "metadata": {},
   "outputs": [],
   "source": [
    "#HVG via Scanpy\n",
    "#Note here that if you run with a batch_key with few cells, will get b'reciprocal condition number error\n",
    "sc.pp.highly_variable_genes(\n",
    "    adata_2,n_top_genes=5000,\n",
    "    subset=False,\n",
    "    layer=\"counts\",\n",
    "    flavor=\"seurat_v3\",\n",
    "    batch_key=\"Batch\"\n",
    ")\n"
   ]
  },
  {
   "cell_type": "code",
   "execution_count": null,
   "id": "c19899ed-f88b-49e6-a43b-7873c7b52b64",
   "metadata": {},
   "outputs": [],
   "source": [
    "adata_2.var['mean_'] = np.array(adata_2.X.mean(0))[0]\n",
    "adata_2.var['frac_zero'] = 1 - np.array((adata_2.X > 0).sum(0))[0] / adata_2.shape[0]\n",
    "\n",
    "fig, ax = plt.subplots(figsize=(9,6))\n",
    "ax.scatter(adata_2.var.mean_, adata_2.var.frac_zero, s=1)\n",
    "ax.set_xscale(\"log\")"
   ]
  },
  {
   "cell_type": "code",
   "execution_count": null,
   "id": "d3cedab8-d9c2-46db-ab57-26664e393b1a",
   "metadata": {},
   "outputs": [],
   "source": [
    "#Calculate Poisson gene selection\n",
    "df_poisson = scvi.data.poisson_gene_selection(\n",
    "    adata_2, n_top_genes=5000, batch_key=\"Batch\", inplace=False\n",
    ")\n",
    "\n",
    "df_poisson[df_poisson.highly_variable].sort_values('prob_zero_enrichment_rank')\n",
    "\n",
    "pd.crosstab(df_poisson.highly_variable, adata_2.var.highly_variable)\n",
    "\n",
    "is_hvg = df_poisson.highly_variable\n",
    "\n",
    "adata_2.varm['df_poisson']= df_poisson\n",
    "\n",
    "adata_query = adata_2[:, is_hvg].copy()\n",
    "print(adata_query)"
   ]
  },
  {
   "cell_type": "code",
   "execution_count": null,
   "id": "e9a29ec6-320f-4760-91be-ef28155186e7",
   "metadata": {},
   "outputs": [],
   "source": [
    "scvi.model.SCVI.setup_anndata(\n",
    "    adata_query,\n",
    "    layer=\"counts\",\n",
    "    batch_key='Batch',\n",
    "    continuous_covariate_keys=[\"pct_counts_mito\"]\n",
    ")\n",
    "\n",
    "model = scvi.model.SCVI(adata_query)"
   ]
  },
  {
   "cell_type": "code",
   "execution_count": null,
   "id": "5d5fdc77-ccaa-4d65-a848-2b06d16d6582",
   "metadata": {},
   "outputs": [],
   "source": [
    "#Train and run scvi\n",
    "\n",
    "#Training parameters\n",
    "train_kwargs = dict(\n",
    "    early_stopping=True,\n",
    "    early_stopping_patience=20,\n",
    "    enable_model_summary=True,\n",
    "    enable_progress_bar=True,\n",
    "    enable_checkpointing=True,\n",
    "    max_epochs=500\n",
    ")\n",
    "\n",
    "#Train and run model\n",
    "#Be sure GPU is enabled to run this\n",
    "model.train(**train_kwargs)"
   ]
  },
  {
   "cell_type": "code",
   "execution_count": null,
   "id": "8101dc74-7ba7-4417-adf3-2798333b3b34",
   "metadata": {},
   "outputs": [],
   "source": [
    "#Fit model to data\n",
    "#Get latent representation of model to apply to UMAP\n",
    "latent = model.get_latent_representation()\n",
    "\n",
    "adata_2.obsm[\"X_scVI_1.2\"] = latent"
   ]
  },
  {
   "cell_type": "markdown",
   "id": "ba3acbbb-7cbc-41b2-bd41-1da1c1451057",
   "metadata": {},
   "source": [
    "## Perform leiden clustering"
   ]
  },
  {
   "cell_type": "code",
   "execution_count": null,
   "id": "7f22f8d0-71ac-4a80-a40d-a9088d24f5bd",
   "metadata": {},
   "outputs": [],
   "source": [
    "#Calculate neighbors using scVI model input\n",
    "sc.pp.neighbors(adata_2, use_rep=\"X_scVI_1.2\")\n",
    "sc.tl.umap(adata_2, min_dist=0.5)\n",
    "\n",
    "#Run leiden clustering based on neighbors\n",
    "sc.tl.leiden(adata_2, key_added=\"leiden_scVI_1.2\", resolution=0.5)"
   ]
  },
  {
   "cell_type": "markdown",
   "id": "1b5243a9-9125-4930-ade9-b43b0c1f7819",
   "metadata": {},
   "source": [
    "### Visualize clustering, QC metrics, and gene expression to determine tumour vs non-tumour clusters"
   ]
  },
  {
   "cell_type": "code",
   "execution_count": null,
   "id": "13bbbf43-d867-49ea-b3c8-7350f2b74430",
   "metadata": {},
   "outputs": [],
   "source": [
    "#QC UMAPs\n",
    "sc.pl.umap(\n",
    "    adata_2,\n",
    "    color=[\"n_genes_by_counts\", \"total_counts\", \"pct_counts_mito\", \"log1p_total_counts\"],\n",
    "    cmap=\"cubehelix_r\",\n",
    "    s=3,\n",
    "    ncols=2,\n",
    ")"
   ]
  },
  {
   "cell_type": "code",
   "execution_count": null,
   "id": "a3642205-8279-4eb1-ae9b-94543ede0903",
   "metadata": {},
   "outputs": [],
   "source": [
    "fig, ax = plt.subplots(figsize=(8, 6))\n",
    "sc.pl.umap(adata_2, color=\"leiden_scVI_1.2\", legend_loc=\"on data\", legend_fontsize='large',ax=ax, s=30, frameon=False, save=False)\n",
    "fig, ax = plt.subplots(figsize=(8, 6))\n",
    "sc.pl.umap(adata_2, color=\"UnID\", legend_loc=\"right margin\", ax=ax, s=30, frameon=False, save=False)\n",
    "fig, ax = plt.subplots(figsize=(8, 6))\n",
    "sc.pl.umap(adata_2, color=\"Genotype\", legend_loc=\"right margin\", ax=ax, s=30, frameon=False, save=False)\n",
    "fig, ax = plt.subplots(figsize=(8, 6))\n",
    "sc.pl.umap(adata_2, color=\"GenoCT\", legend_loc=\"right margin\", ax=ax, s=30, frameon=False, save=False)\n",
    "\n",
    "#Additional QC bar graphs\n",
    "adata_2.obs['cluster'] = adata_2.obs[\"leiden_scVI_1.2\"].copy()\n",
    "\n",
    "#Plot Log1p total counts\n",
    "fig, ax = plt.subplots(figsize=(20,6))\n",
    "sns.boxenplot(data=adata_2.obs, x=\"cluster\", y=\"log1p_total_counts\", ax=ax)\n",
    "\n",
    "#Plot Pct counts mito\n",
    "fig, ax = plt.subplots(figsize=(20,6))\n",
    "sns.boxenplot(data=adata_2.obs, x=\"cluster\", y=\"pct_counts_mito\", ax=ax)"
   ]
  },
  {
   "cell_type": "code",
   "execution_count": null,
   "id": "c0ae078f-cf45-42ee-93c0-0662e2c88d05",
   "metadata": {},
   "outputs": [],
   "source": [
    "# Dot plot key cell type markers\n",
    "more_types=[\"Col14a1\", \"Acta2\",\"Myh11\",\"Tagln\",\"Mustn1\", #fibroblast\n",
    "              \"Lpl\",\"Lipa\",\"Pparg\",\"Plin2\",\"Ear1\",\"Spp1\", #lipofibroblast/osteoblastic\n",
    "              \"Ptprc\",\"Mertk\",\"Mrc1\",\"Ly75\",\"Adgre1\",\"Itgax\",\"Cd68\",\"Csf1r\",\"Mafb\",\"Msr1\",\"Arg1\",\"Adgre4\", #Macs/Myeloid\n",
    "              \"Cx3cr1\",\"Itgam\",\"Cd14\", #Monocytes\n",
    "              \"S100a9\",\"S100a8\",\"Mmp9\",\"Csf3r\",\"Cxcr2\",\"Ly6g\", #Neuts\n",
    "              \"Batf3\",\"Xcr1\",\"Clec9a\",\"Ccl17\",\"Ccl22\", #DC\n",
    "              \"Cd3d\",\"Cd3e\",\"Cd3g\",\"Cd28\",\"Cd8a\",\"Cd4\",\"Foxp3\", # Tcell\n",
    "              \"Gzma\",\"Ncr1\",\"Gzmb\", #NK\n",
    "              \"Fcmr\",\"Cd19\",\"Fcer2a\",\"Pax5\",\"Cd22\",\"Cd79b\",\"Cd79a\", #B cells\n",
    "              \"Slamf7\", \"Prdm1\", #Plasma\n",
    "              \"Mcam\",\"Pecam1\",\"Icam2\",\"Cd36\",\"Cd93\", #Endothelial\n",
    "    \"Pdpn\",\"Cav1\",\"Cav2\",\"Hopx\",\"Timp3\",\"Sema3f\",\"Serpine1\", #AT1\n",
    "              \"Abca3\",\"Muc1\",\"Sftpa1\",\"Sftpb\",\"Sftpd\",\"Scd1\", #AT2\n",
    "              \"Scgb1a1\",\"Cyp2f2\",\"Scgb3a2\", \"Scgb3a1\",\"Lypd2\",#Club\n",
    "              \"Muc5ac\",\"Muc5b\", # Goblet\n",
    "              \"Tubb4a\",\"Foxa3\",\"Foxj1\",\"Rfx2\",\"Rfx3\",\"Trp73\", #Ciliated\n",
    "              'Krt5', 'Krt17','Krt15','Trp63','Id1','Icam1','Epas1','Aqp3','Sfn','Perp','Fxyd3','Sdc1','Gstm2','F3','Abi3bp','Adh7', # Basal\n",
    "              'Bex2','Ascl1','Meis2','Hes6','Hoxb5','Foxa2','Sox4','Rora','Isl1','Id4', 'Neurod1','Neurod4','Nhlh1','Nhlh2',#NE/neuronal\n",
    "              'Pou2f3','Trpm5','Ascl2','Ehf',\n",
    "              'Lrmp','Gng13','Ltc4s','Alox5ap','Avil','Alox5','Atp2a3','Plk2', #tuft\n",
    "              \"Cftr\",\"Ascl3\", 'Stap1','Atp6v1c2','Pparg','Rasd1','Slc12a2', #ionocyte\n",
    "              \"Gja1\",\"Nkx2-1\",\"Epcam\", # Lung lineage\n",
    "              'Yap1','Wwtr1','Sox2','Cd44','Hes1', # Stem-like\n",
    "             \"Venus\",\"fLuc\", \"Top2a\",\"Mki67\",\n",
    "            'GFP.CDS','CellTag.UTR'] # Tumor markers\n",
    "\n",
    "sc.set_figure_params(scanpy=True, fontsize=20) \n",
    "sc.pl.dotplot(\n",
    "    adata_2,figsize=[28,10],\n",
    "    var_names=more_types,\n",
    "    groupby='leiden_scVI_1.2',\n",
    "    use_raw=False,\n",
    "    layer=\"norm\",show=False,\n",
    "    color_map=\"cmo.dense\", var_group_rotation=35,standard_scale='var',\n",
    "    save=False)"
   ]
  },
  {
   "cell_type": "code",
   "execution_count": null,
   "id": "ecd46fbd-7803-43ff-8894-74847443a02e",
   "metadata": {},
   "outputs": [],
   "source": [
    "adata_2.write_h5ad(\"050225_RPM_Orgs_Allo_AllUpdated_adata2.h5ad\")"
   ]
  },
  {
   "cell_type": "code",
   "execution_count": null,
   "id": "d1a6768f-df31-4ad9-8a9e-2b87d971b426",
   "metadata": {},
   "outputs": [],
   "source": [
    "adata_2=sc.read_h5ad(\"050225_RPM_Orgs_Allo_AllUpdated_adata2.h5ad\")"
   ]
  },
  {
   "cell_type": "code",
   "execution_count": null,
   "id": "73ccfe31-c37f-4018-ab82-7557e4dd1e03",
   "metadata": {},
   "outputs": [],
   "source": [
    "#feature plots\n",
    "more_types=[\"Ascl1\", \"Neurod1\",\"Atoh1\",\"Pou2f3\",\"Trp63\",\"fLuc\", \"GFP.CDS\",\"CellTag.UTR\"] #Endothelial\n",
    "\n",
    "sc.pl.umap(\n",
    "    adata_2,\n",
    "    color=more_types,\n",
    "    use_raw=False,\n",
    "    legend_loc= \"on data\",\n",
    "    color_map=\"cmo.dense\",\n",
    "    ncols=4,s=30,\n",
    "    frameon=False,\n",
    "    vmax=\"p99.5\",\n",
    "    layer=\"norm\",\n",
    "    save=False\n",
    ")"
   ]
  },
  {
   "cell_type": "code",
   "execution_count": null,
   "id": "76636bd4-1589-45b9-b673-e215a93841ec",
   "metadata": {
    "tags": []
   },
   "outputs": [],
   "source": [
    "# Find cluster markers for each leiden cluster to aid filtering\n",
    "sc.tl.rank_genes_groups(adata_2, 'leiden_scVI_1.2', method='wilcoxon', layer='norm', use_raw=False)\n",
    "pd.DataFrame(adata.uns['rank_genes_groups']['names']).head(50)"
   ]
  },
  {
   "cell_type": "code",
   "execution_count": null,
   "id": "9b0a1304-7deb-4257-876c-10c8eff63ae5",
   "metadata": {},
   "outputs": [],
   "source": [
    "# Extract the ranked genes (names) for all clusters\n",
    "marker_genes = pd.DataFrame(adata_2.uns['rank_genes_groups']['names'])\n",
    "\n",
    "# Save to CSV\n",
    "marker_genes.to_csv('050225_RPM_Orgs_Allo_adata2_DEGsbyleiden_final.csv', index=False)"
   ]
  },
  {
   "cell_type": "code",
   "execution_count": null,
   "id": "c012cf1d-4423-416f-be6a-c12681ed3ee3",
   "metadata": {},
   "outputs": [],
   "source": [
    "# Remove Cluster 12 as potential doublets\n",
    "bad_clust=['12']\n",
    "\n",
    "#Filter out bad clusters\n",
    "to_keep=(~adata_2.obs['leiden_scVI_1.2'].isin(bad_clust))\n",
    "\n",
    "#Copy over to new anndata object\n",
    "adata_3 = adata_2[to_keep].copy()"
   ]
  },
  {
   "cell_type": "markdown",
   "id": "b89a1ee1-1230-41f7-84c3-21f20e340873",
   "metadata": {},
   "source": [
    "## ITERATION 3 (Final iteration for Fig. 2d, (Final Fig. 1i))"
   ]
  },
  {
   "cell_type": "code",
   "execution_count": null,
   "id": "5dac3cf0-1f55-4e48-a2ec-05fc9f71a208",
   "metadata": {},
   "outputs": [],
   "source": [
    "#HVG via Scanpy\n",
    "#Note here that if you run with a batch_key with few cells, will get b'reciprocal condition number error\n",
    "sc.pp.highly_variable_genes(\n",
    "    adata_3,n_top_genes=5000,\n",
    "    subset=False,\n",
    "    layer=\"counts\",\n",
    "    flavor=\"seurat_v3\"\n",
    ")"
   ]
  },
  {
   "cell_type": "code",
   "execution_count": null,
   "id": "9ff37c51-d70a-4561-bb35-ec06f028f1ef",
   "metadata": {},
   "outputs": [],
   "source": [
    "adata_3.var['mean_'] = np.array(adata_3.X.mean(0))[0]\n",
    "adata_3.var['frac_zero'] = 1 - np.array((adata_3.X > 0).sum(0))[0] / adata_3.shape[0]\n",
    "\n",
    "fig, ax = plt.subplots(figsize=(9,6))\n",
    "ax.scatter(adata_3.var.mean_, adata_3.var.frac_zero, s=1)\n",
    "ax.set_xscale(\"log\")"
   ]
  },
  {
   "cell_type": "code",
   "execution_count": null,
   "id": "517632b2-7332-44a1-81bf-2914be940bb5",
   "metadata": {},
   "outputs": [],
   "source": [
    "#Calculate Poisson gene selection\n",
    "df_poisson = scvi.data.poisson_gene_selection(\n",
    "    adata_3, n_top_genes=5000, batch_key=\"Batch\", inplace=False\n",
    ")\n",
    "\n",
    "df_poisson[df_poisson.highly_variable].sort_values('prob_zero_enrichment_rank')\n",
    "\n",
    "pd.crosstab(df_poisson.highly_variable, adata_3.var.highly_variable)\n",
    "\n",
    "is_hvg = df_poisson.highly_variable\n",
    "\n",
    "adata_3.varm['df_poisson']= df_poisson\n",
    "\n",
    "adata_query = adata_3[:, is_hvg].copy()\n",
    "print(adata_query)"
   ]
  },
  {
   "cell_type": "code",
   "execution_count": null,
   "id": "97efc286-9bb6-439d-a430-67e5203af0a6",
   "metadata": {},
   "outputs": [],
   "source": [
    "scvi.model.SCVI.setup_anndata(\n",
    "    adata_query,\n",
    "    layer=\"counts\",\n",
    "    batch_key='Batch',\n",
    "    continuous_covariate_keys=[\"pct_counts_mito\"]\n",
    ")\n",
    "\n",
    "model = scvi.model.SCVI(adata_query)"
   ]
  },
  {
   "cell_type": "code",
   "execution_count": null,
   "id": "336559eb-2647-4d43-ac15-389922070887",
   "metadata": {},
   "outputs": [],
   "source": [
    "#Train and run scvi\n",
    "\n",
    "#Training parameters\n",
    "train_kwargs = dict(\n",
    "    early_stopping=True,\n",
    "    early_stopping_patience=20,\n",
    "    enable_model_summary=True,\n",
    "    enable_progress_bar=True,\n",
    "    enable_checkpointing=True,\n",
    "    max_epochs=500\n",
    ")\n",
    "\n",
    "#Train and run model\n",
    "#Be sure GPU is enabled to run this\n",
    "model.train(**train_kwargs)"
   ]
  },
  {
   "cell_type": "code",
   "execution_count": null,
   "id": "2081f7e5-4f5e-44fe-a5f8-d2186214bb5f",
   "metadata": {},
   "outputs": [],
   "source": [
    "#Fit model to data\n",
    "#Get latent representation of model to apply to UMAP\n",
    "latent = model.get_latent_representation()\n",
    "\n",
    "adata_3.obsm[\"X_scVI_1.3\"] = latent"
   ]
  },
  {
   "cell_type": "code",
   "execution_count": null,
   "id": "181606ad-f772-4585-a222-7df0adc94e3c",
   "metadata": {},
   "outputs": [],
   "source": [
    "#Calculate neighbors using scVI model input\n",
    "sc.pp.neighbors(adata_3, use_rep=\"X_scVI_1.3\")\n",
    "sc.tl.umap(adata_3, min_dist=1)\n",
    "\n",
    "#Run leiden clustering based on neighbors\n",
    "sc.tl.leiden(adata_3, key_added=\"leiden_scVI_1.3\", resolution=0.5)"
   ]
  },
  {
   "cell_type": "markdown",
   "id": "e50f7d45-9c4c-4efb-9f18-259837bab08f",
   "metadata": {},
   "source": [
    "### Visualize clusters, sample distribution, and QC metrics"
   ]
  },
  {
   "cell_type": "code",
   "execution_count": null,
   "id": "ac4a9c74-b065-43c3-ba58-891a779e1e56",
   "metadata": {},
   "outputs": [],
   "source": [
    "fig, ax = plt.subplots(figsize=(8, 6))\n",
    "sc.pl.umap(adata_3, color=\"leiden_scVI_1.3\", legend_loc=\"on data\", legend_fontsize='large',ax=ax, s=30, frameon=False, save=False)\n",
    "fig, ax = plt.subplots(figsize=(8, 6))\n",
    "sc.pl.umap(adata_3, color=\"UnID\", legend_loc=\"right margin\", ax=ax, s=30, frameon=False, save=False)\n",
    "fig, ax = plt.subplots(figsize=(8, 6))\n",
    "sc.pl.umap(adata_3, color=\"GenoCT\", legend_loc=\"right margin\", ax=ax, s=30, frameon=False, save=False)\n",
    "\n",
    "\n",
    "#Additional QC bar graphs\n",
    "adata_3.obs['cluster'] = adata_3.obs[\"leiden_scVI_1.3\"].copy()\n",
    "\n",
    "#Plot Log1p total counts\n",
    "fig, ax = plt.subplots(figsize=(20,6))\n",
    "sns.boxenplot(data=adata_3.obs, x=\"cluster\", y=\"log1p_total_counts\", ax=ax)\n",
    "\n",
    "#Plot Pct counts mito\n",
    "fig, ax = plt.subplots(figsize=(20,6))\n",
    "sns.boxenplot(data=adata_3.obs, x=\"cluster\", y=\"pct_counts_mito\", ax=ax)"
   ]
  },
  {
   "cell_type": "code",
   "execution_count": null,
   "id": "06238826-1c45-4d7d-9ce5-17b96edbdcd1",
   "metadata": {},
   "outputs": [],
   "source": [
    "# Dot plot key cell type markers\n",
    "more_types=[\"Col14a1\", \"Acta2\",\"Myh11\",\"Tagln\",\"Mustn1\", #fibroblast\n",
    "              \"Lpl\",\"Lipa\",\"Pparg\",\"Plin2\",\"Ear1\",\"Spp1\", #lipofibroblast/osteoblastic\n",
    "              \"Ptprc\",\"Mertk\",\"Mrc1\",\"Ly75\",\"Adgre1\",\"Itgax\",\"Cd68\",\"Csf1r\",\"Mafb\",\"Msr1\",\"Arg1\",\"Adgre4\", #Macs/Myeloid\n",
    "              \"Cx3cr1\",\"Itgam\",\"Cd14\", #Monocytes\n",
    "              \"S100a9\",\"S100a8\",\"Mmp9\",\"Csf3r\",\"Cxcr2\",\"Ly6g\", #Neuts\n",
    "              \"Batf3\",\"Xcr1\",\"Clec9a\",\"Ccl17\",\"Ccl22\", #DC\n",
    "              \"Cd3d\",\"Cd3e\",\"Cd3g\",\"Cd28\",\"Cd8a\",\"Cd4\",\"Foxp3\", # Tcell\n",
    "              \"Gzma\",\"Ncr1\",\"Gzmb\", #NK\n",
    "              \"Fcmr\",\"Cd19\",\"Fcer2a\",\"Pax5\",\"Cd22\",\"Cd79b\",\"Cd79a\", #B cells\n",
    "              \"Slamf7\", \"Prdm1\", #Plasma\n",
    "              \"Mcam\",\"Pecam1\",\"Icam2\",\"Cd36\",\"Cd93\", #Endothelial\n",
    "    \"Pdpn\",\"Cav1\",\"Cav2\",\"Hopx\",\"Timp3\",\"Sema3f\",\"Serpine1\", #AT1\n",
    "              \"Abca3\",\"Muc1\",\"Sftpa1\",\"Sftpb\",\"Sftpd\",\"Scd1\", #AT2\n",
    "              \"Scgb1a1\",\"Cyp2f2\",\"Scgb3a2\", \"Scgb3a1\",\"Lypd2\",#Club\n",
    "              \"Muc5ac\",\"Muc5b\", # Goblet\n",
    "              \"Tubb4a\",\"Foxa3\",\"Foxj1\",\"Rfx2\",\"Rfx3\",\"Trp73\", #Ciliated\n",
    "              'Krt5', 'Krt17','Krt15','Trp63','Id1','Icam1','Epas1','Aqp3','Sfn','Perp','Fxyd3','Sdc1','Gstm2','F3','Abi3bp','Adh7', # Basal\n",
    "              'Bex2','Ascl1','Meis2','Hes6','Hoxb5','Foxa2','Sox4','Rora','Isl1','Id4', 'Neurod1','Neurod4','Nhlh1','Nhlh2',#NE/neuronal\n",
    "              'Pou2f3','Trpm5','Ascl2','Ehf',\n",
    "              'Lrmp','Gng13','Ltc4s','Alox5ap','Avil','Alox5','Atp2a3','Plk2', #tuft\n",
    "              \"Cftr\",\"Ascl3\", 'Stap1','Atp6v1c2','Pparg','Rasd1','Slc12a2', #ionocyte\n",
    "              \"Gja1\",\"Nkx2-1\",\"Epcam\", # Lung lineage\n",
    "              'Yap1','Wwtr1','Sox2','Cd44','Hes1', # Stem-like\n",
    "             \"Venus\",\"fLuc\", \"Top2a\",\"Mki67\",\n",
    "            'GFP.CDS','CellTag.UTR'] # Tumor markers\n",
    "\n",
    "sc.set_figure_params(scanpy=True, fontsize=20) \n",
    "sc.pl.dotplot(\n",
    "    adata_3,figsize=[28,5],\n",
    "    var_names=more_types,\n",
    "    groupby='leiden_scVI_1.3',\n",
    "    use_raw=False,\n",
    "    layer=\"norm\",show=False,\n",
    "    color_map=\"cmo.dense\", var_group_rotation=35,standard_scale='var',\n",
    "    save=False)"
   ]
  },
  {
   "cell_type": "code",
   "execution_count": null,
   "id": "64e52cff-aef4-4bd9-b6f0-2baee7ca37e2",
   "metadata": {},
   "outputs": [],
   "source": [
    "#feature plots\n",
    "more_types=[\"Ascl1\", \"Neurod1\",\"Atoh1\",\"Pou2f3\",\"Trp63\",\"fLuc\", \"GFP.CDS\",\"CellTag.UTR\"] #Endothelial\n",
    "\n",
    "sc.pl.umap(\n",
    "    adata_3,\n",
    "    color=more_types,\n",
    "    use_raw=False,\n",
    "    legend_loc= \"on data\",\n",
    "    color_map=\"cmo.dense\",\n",
    "    ncols=4,s=30,\n",
    "    frameon=False,\n",
    "    vmax=\"p99.5\",\n",
    "    layer=\"norm\",\n",
    "    save=False\n",
    ")"
   ]
  },
  {
   "cell_type": "code",
   "execution_count": null,
   "id": "621fb863-0c94-4c69-9409-7f817d304490",
   "metadata": {
    "tags": []
   },
   "outputs": [],
   "source": [
    "# Find cluster markers for each leiden cluster to confirm tumour clusters\n",
    "sc.tl.rank_genes_groups(adata_3, 'leiden_scVI_1.3', method='wilcoxon', layer='norm', use_raw=False)\n",
    "pd.DataFrame(adata_3.uns['rank_genes_groups']['names']).head(50)"
   ]
  },
  {
   "cell_type": "code",
   "execution_count": null,
   "id": "e7c7999d-5961-4548-b156-b9c09adef7e2",
   "metadata": {},
   "outputs": [],
   "source": [
    "# Extract the ranked genes (names) for all clusters\n",
    "marker_genes = pd.DataFrame(adata_3.uns['rank_genes_groups']['names'])\n",
    "\n",
    "# Save to CSV\n",
    "marker_genes.to_csv('050225_adata3_RPM_Orgs_Allo_OGandAllo3_leiden_cluster_markers.csv', index=False)"
   ]
  },
  {
   "cell_type": "code",
   "execution_count": null,
   "id": "a7064d97-35b5-4e89-8e45-d5747d3476a6",
   "metadata": {},
   "outputs": [],
   "source": [
    "adata_3.write_h5ad(\"050325_RPM_Orgs_Allos_Updated_adata3.h5ad\")"
   ]
  },
  {
   "cell_type": "markdown",
   "id": "5f96df78-3b4b-463d-abb6-5ee4a9d15080",
   "metadata": {},
   "source": [
    "## End of analysis in Scanpy, move to Seurat in R for calculation of gene signatures and additional plot generation/visualization. To do this, convert resulting h5ad anndata object from this script as a Seurat object in R."
   ]
  },
  {
   "cell_type": "code",
   "execution_count": null,
   "id": "0d4fbfc5-a2f9-46d7-a1a7-7921c14b9691",
   "metadata": {},
   "outputs": [],
   "source": []
  }
 ],
 "metadata": {
  "kernelspec": {
   "display_name": "Python 3",
   "language": "python",
   "name": "python3"
  },
  "language_info": {
   "codemirror_mode": {
    "name": "ipython",
    "version": 3
   },
   "file_extension": ".py",
   "mimetype": "text/x-python",
   "name": "python",
   "nbconvert_exporter": "python",
   "pygments_lexer": "ipython3",
   "version": "3.8.8"
  }
 },
 "nbformat": 4,
 "nbformat_minor": 5
}
