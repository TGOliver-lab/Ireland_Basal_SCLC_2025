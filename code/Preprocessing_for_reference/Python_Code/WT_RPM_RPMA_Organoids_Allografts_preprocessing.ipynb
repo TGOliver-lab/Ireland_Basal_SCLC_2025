{
 "cells": [
  {
   "cell_type": "markdown",
   "id": "c3ef92dc-9134-47a8-bf20-c4d4ad8daa12",
   "metadata": {},
   "source": [
    "# Clustering WT, RPM, and RPMA organoids for clonal tracing in vitro to in vivo\n",
    "Modified from [ExtFig7_RPM_RPMA_Organoid_Allo_Final_Clean.ipynb](https://github.com/TGOliver-lab/Ireland_Basal_SCLC_2025/blob/main/Python_Code/ExtFig7_RPM_RPMA_Organoid_Allo_Final_Clean.ipynb)  \n",
    "\n",
    "Related to Extended Data Fig. 7"
   ]
  },
  {
   "cell_type": "code",
   "execution_count": null,
   "id": "1e95e3e2-bf04-4d5c-8ceb-fb4cd32308f6",
   "metadata": {},
   "outputs": [],
   "source": [
    "#Import other relevant packages\n",
    "import numpy as np\n",
    "import pandas as pd\n",
    "from matplotlib import rcParams\n",
    "import os\n",
    "import scanpy as sc\n",
    "\n",
    "import matplotlib as mpl\n",
    "import matplotlib.pyplot as plt\n",
    "\n",
    "#For nice color schemes\n",
    "import cmocean\n",
    "\n",
    "#For barplots\n",
    "import seaborn as sns\n",
    "\n",
    "#Import scVI\n",
    "import scvi\n",
    "from scvi.model.utils import mde\n",
    "\n",
    "scvi.settings.verbosity = 40\n",
    "\n",
    "#Import scVI\n",
    "import scvi\n",
    "from scvi.model.utils import mde\n",
    "\n",
    "scvi.settings.verbosity = 40"
   ]
  },
  {
   "cell_type": "code",
   "execution_count": null,
   "id": "28a448e0-133f-49a9-8c4d-e59a8d6c695a",
   "metadata": {},
   "outputs": [],
   "source": [
    "sc.settings.verbosity = 3             # verbosity: errors (0), warnings (1), info (2), hints (3)\n",
    "sc.logging.print_header()\n",
    "sc.settings.set_figure_params(dpi=80, facecolor='white')"
   ]
  },
  {
   "cell_type": "code",
   "execution_count": null,
   "id": "e2474e8d-4a4c-4124-9e14-757c6aa1f351",
   "metadata": {},
   "outputs": [],
   "source": [
    "# Read \n",
    "os.chdir('/work/asi16')"
   ]
  },
  {
   "cell_type": "markdown",
   "id": "45d6a1ce-9d68-4764-bce9-9592d96a8da1",
   "metadata": {},
   "source": [
    "## 1. Read in WT tracheal-basal derived organoids"
   ]
  },
  {
   "cell_type": "code",
   "execution_count": null,
   "id": "a3d8885b-49a0-4fa6-a496-45be8f493c47",
   "metadata": {},
   "outputs": [],
   "source": [
    "orgs_nocre=sc.read_10x_mtx('TBO_Pool_NoCre_NotCellPlexed/042024_custom_count_TBOpoolNoCellPlex/filtered_feature_bc_matrix/', var_names='gene_symbols', cache=True)"
   ]
  },
  {
   "cell_type": "code",
   "execution_count": null,
   "id": "febfb47d-71b0-4fa8-ba94-6b6a3e7d1635",
   "metadata": {},
   "outputs": [],
   "source": [
    "# Add metadata ID's\n",
    "orgs_nocre.obs['Genotype'] = 'WT'\n",
    "orgs_nocre.obs['Model'] = 'Organoid'\n",
    "orgs_nocre.obs['Cre'] = 'No_Cre'\n",
    "orgs_nocre.obs['UnID'] = 'WT_Org_NoCre'\n",
    "orgs_nocre.obs['Batch'] = 'Org_No_Cre'"
   ]
  },
  {
   "cell_type": "code",
   "execution_count": null,
   "id": "fb6b1dea-92de-419a-9be3-fc3c1948234d",
   "metadata": {},
   "outputs": [],
   "source": [
    "orgs_nocre"
   ]
  },
  {
   "cell_type": "code",
   "execution_count": null,
   "id": "66b82ab0-2974-4762-8ee1-e43b49974ec4",
   "metadata": {},
   "outputs": [],
   "source": [
    "# Subsample Orgs no cre to have a more comparable number to compare to transformed organoids\n",
    "orgs_nocre_subset=sc.pp.subsample(orgs_nocre, n_obs=5000, copy=True)"
   ]
  },
  {
   "cell_type": "markdown",
   "id": "6f53abb2-323f-46c3-b604-8edb82ddd2a0",
   "metadata": {},
   "source": [
    "## 2. Read in Cre-transformed RPM and RPMA \"CellTagged pre-Cre\" organoids"
   ]
  },
  {
   "cell_type": "code",
   "execution_count": null,
   "id": "c54d2911-848e-4ade-ae50-1a585080e4f3",
   "metadata": {
    "tags": []
   },
   "outputs": [],
   "source": [
    "rpm_org=sc.read_10x_mtx('TBO_Pool_CMV/per_sample_outs/RPM/count/sample_filtered_feature_bc_matrix/', var_names='gene_symbols', cache=True)\n",
    "rpma_org=sc.read_10x_mtx('TBO_Pool_CMV/per_sample_outs/RPMA/count/sample_filtered_feature_bc_matrix/', var_names='gene_symbols', cache=True)\n"
   ]
  },
  {
   "cell_type": "code",
   "execution_count": null,
   "id": "0dab14e4-b6ab-4ac4-a906-3fd95e668047",
   "metadata": {},
   "outputs": [],
   "source": [
    "# Add appropriate metadata to samples\n",
    "rpm_org.obs['Genotype'] = 'RPM'\n",
    "rpm_org.obs['Model'] = 'Organoid'\n",
    "rpm_org.obs['Cre'] = 'Cre'\n",
    "rpm_org.obs['UnID'] = 'RPM_Org_Cre'\n",
    "rpm_org.obs['Batch'] = 'Org_Cre'\n",
    "\n",
    "rpma_org.obs['Genotype'] = 'RPMA'\n",
    "rpma_org.obs['Model'] = 'Organoid'\n",
    "rpma_org.obs['Cre'] = 'Cre'\n",
    "rpma_org.obs['UnID'] = 'RPMA_Org_Cre'\n",
    "rpma_org.obs['Batch'] = 'Org_Cre'"
   ]
  },
  {
   "cell_type": "code",
   "execution_count": null,
   "id": "5d162d2b-c940-4fb4-88ca-405a1a13e96e",
   "metadata": {},
   "outputs": [],
   "source": [
    "rpm_org"
   ]
  },
  {
   "cell_type": "code",
   "execution_count": null,
   "id": "bdc87744-109b-48e2-89f9-72caad6115a1",
   "metadata": {},
   "outputs": [],
   "source": [
    "rpma_org"
   ]
  },
  {
   "cell_type": "markdown",
   "id": "5063623f-1d02-4f01-a32b-df061a537e75",
   "metadata": {},
   "source": [
    "## 2. Concatenate WT and transformed organoid datasets"
   ]
  },
  {
   "cell_type": "code",
   "execution_count": null,
   "id": "5ce38fe5-2d5c-4cfd-8696-6f05f0baaa5e",
   "metadata": {},
   "outputs": [],
   "source": [
    "#Concatenate datasets\n",
    "adata= orgs_nocre_subset.concatenate([rpm_org, rpma_org], \n",
    "                              index_unique=None, join=\"outer\")"
   ]
  },
  {
   "cell_type": "code",
   "execution_count": null,
   "id": "2844085b-4217-462f-af65-e1e095ba2b13",
   "metadata": {},
   "outputs": [],
   "source": [
    "adata.obs_names_make_unique()"
   ]
  },
  {
   "cell_type": "code",
   "execution_count": null,
   "id": "672f9f76-10d7-4e5d-a4e7-4ca3aa6c2281",
   "metadata": {},
   "outputs": [],
   "source": [
    "adata.obs.groupby([\"UnID\"]).apply(len)"
   ]
  },
  {
   "cell_type": "markdown",
   "id": "4b3ab555-a5e6-4966-9111-8a83c343e55b",
   "metadata": {},
   "source": [
    "## 3. Perform QC"
   ]
  },
  {
   "cell_type": "code",
   "execution_count": null,
   "id": "3dbf977a-bb12-408f-8d69-a1dff5a0030a",
   "metadata": {},
   "outputs": [],
   "source": [
    "#QC filtering\n",
    "adata.var['mito'] = adata.var_names.str.startswith('mt-')  # annotate the group of mitochondrial genes as 'mt'\n",
    "sc.pp.calculate_qc_metrics(adata, qc_vars=['mito'], percent_top=None, log1p=False, inplace=True)\n",
    "\n",
    "sc.pp.filter_cells(adata, min_genes=200)\n",
    "#sc.pp.filter_genes(orgs_all, min_cells=3)\n",
    "\n",
    "adata.var['mito'] = adata.var_names.str.startswith('mt-')  # annotate the group of mitochondrial genes as 'mt'\n",
    "sc.pp.calculate_qc_metrics(adata, qc_vars=['mito'], percent_top=None, log1p=False, inplace=True)"
   ]
  },
  {
   "cell_type": "code",
   "execution_count": null,
   "id": "ce5057a6-97b1-41f7-bd21-9163d981463b",
   "metadata": {},
   "outputs": [],
   "source": [
    "sc.pl.violin(adata, ['n_genes_by_counts', 'total_counts', 'pct_counts_mito'],\n",
    "             jitter=0.4, multi_panel=True)\n",
    "sc.pl.scatter(adata, x='total_counts', y='pct_counts_mito')\n",
    "sc.pl.scatter(adata, x='total_counts', y='n_genes_by_counts')"
   ]
  },
  {
   "cell_type": "code",
   "execution_count": null,
   "id": "63b8f48c-e460-4f10-991f-91caf4a614bb",
   "metadata": {},
   "outputs": [],
   "source": [
    "#Filter data by slicing anndata object\n",
    "adata = adata[adata.obs.n_genes_by_counts < 7000, :]\n",
    "adata = adata[adata.obs.n_genes_by_counts > 2000, :]\n",
    "adata = adata[adata.obs.total_counts > 2000, :]\n",
    "adata = adata[adata.obs.pct_counts_mito < 15, :]"
   ]
  },
  {
   "cell_type": "code",
   "execution_count": null,
   "id": "9694bcd8-2d2d-4c55-af5d-668c389d5897",
   "metadata": {},
   "outputs": [],
   "source": [
    "adata.obs.groupby([\"UnID\"]).apply(len)"
   ]
  },
  {
   "cell_type": "markdown",
   "id": "55b548d6-2077-4cdd-89fd-455fd71cacde",
   "metadata": {},
   "source": [
    "## 4. ID HVG and generate SCVI model for clustering with batch correction"
   ]
  },
  {
   "cell_type": "code",
   "execution_count": null,
   "id": "d4c46e9d-2f69-4d64-bd26-8aa776e724e8",
   "metadata": {},
   "outputs": [],
   "source": [
    "#Prep for HVG and scvi\n",
    "#log1p the data\n",
    "adata.obs[\"log1p_total_counts\"] = np.log1p(adata.obs[\"total_counts\"])\n",
    "#Create layers\n",
    "adata.layers[\"counts\"] = adata.X.copy()\n",
    "adata.layers['norm'] = adata.X.copy(); sc.pp.normalize_total(adata, target_sum=1e4, layer=\"norm\")"
   ]
  },
  {
   "cell_type": "code",
   "execution_count": null,
   "id": "87be9cad-29d8-46c9-ac41-ae9cd75530a5",
   "metadata": {
    "tags": []
   },
   "outputs": [],
   "source": [
    "#HVG via Scanpy\n",
    "#Note here that if you run with a batch_key with few cells, will get b'reciprocal condition number error\n",
    "sc.pp.highly_variable_genes(\n",
    "    adata,n_top_genes=5000,\n",
    "    subset=False,\n",
    "    layer=\"counts\",\n",
    "    flavor=\"seurat_v3\"\n",
    ")"
   ]
  },
  {
   "cell_type": "code",
   "execution_count": null,
   "id": "cfa49753-b668-488e-aa5e-b8bdd5f9cc38",
   "metadata": {},
   "outputs": [],
   "source": [
    "adata.var['mean_'] = np.array(adata.X.mean(0))[0]\n",
    "adata.var['frac_zero'] = 1 - np.array((adata.X > 0).sum(0))[0] / adata.shape[0]\n",
    "\n",
    "fig, ax = plt.subplots(figsize=(9,6))\n",
    "ax.scatter(adata.var.mean_, adata.var.frac_zero, s=1)\n",
    "ax.set_xscale(\"log\")"
   ]
  },
  {
   "cell_type": "code",
   "execution_count": null,
   "id": "4547de22-724b-4ec3-a116-e8c6c16199b0",
   "metadata": {},
   "outputs": [],
   "source": [
    "#Calculate Poisson gene selection\n",
    "df_poisson = scvi.data.poisson_gene_selection(\n",
    "    adata, n_top_genes=5000, batch_key=\"Batch\", inplace=False\n",
    ")\n",
    "\n",
    "df_poisson[df_poisson.highly_variable].sort_values('prob_zero_enrichment_rank')\n",
    "\n",
    "pd.crosstab(df_poisson.highly_variable, adata.var.highly_variable)\n",
    "\n",
    "is_hvg = df_poisson.highly_variable\n",
    "\n",
    "adata.varm['df_poisson']= df_poisson\n",
    "\n",
    "adata_query = adata[:, is_hvg].copy()\n",
    "print(adata_query)"
   ]
  },
  {
   "cell_type": "code",
   "execution_count": null,
   "id": "c951f343-7464-40c2-b675-0d6eedb8d769",
   "metadata": {},
   "outputs": [],
   "source": [
    "scvi.model.SCVI.setup_anndata(\n",
    "    adata_query,\n",
    "    layer=\"counts\",\n",
    "    batch_key='Batch',\n",
    "    continuous_covariate_keys=[\"pct_counts_mito\"]\n",
    ")\n",
    "\n",
    "model = scvi.model.SCVI(adata_query)"
   ]
  },
  {
   "cell_type": "code",
   "execution_count": null,
   "id": "8fcd146b-b7e4-4e9c-92a9-e782c71615eb",
   "metadata": {},
   "outputs": [],
   "source": [
    "#Train and run scvi\n",
    "\n",
    "#Training parameters\n",
    "train_kwargs = dict(\n",
    "    early_stopping=True,\n",
    "    early_stopping_patience=20,\n",
    "    enable_model_summary=True,\n",
    "    enable_progress_bar=True,\n",
    "    enable_checkpointing=True,\n",
    "    max_epochs=500\n",
    ")\n",
    "\n",
    "#Train and run model\n",
    "#Be sure GPU is enabled to run this\n",
    "model.train(**train_kwargs)"
   ]
  },
  {
   "cell_type": "code",
   "execution_count": null,
   "id": "e257e45b-5318-4f1e-a103-26d029651325",
   "metadata": {},
   "outputs": [],
   "source": [
    "#Fit model to data\n",
    "#Get latent representation of model to apply to UMAP\n",
    "latent = model.get_latent_representation()\n",
    "\n",
    "adata.obsm[\"X_scVI_1.1\"] = latent"
   ]
  },
  {
   "cell_type": "markdown",
   "id": "edc5cded-da9f-4164-af0a-ec97b2383a65",
   "metadata": {},
   "source": [
    "## 5. Perform leiden clustering"
   ]
  },
  {
   "cell_type": "code",
   "execution_count": null,
   "id": "8c314f9e-27c3-4bf9-ac8d-cee19ad8c953",
   "metadata": {},
   "outputs": [],
   "source": [
    "#Calculate neighbors using scVI model input\n",
    "sc.pp.neighbors(adata, use_rep=\"X_scVI_1.1\")\n",
    "sc.tl.umap(adata, min_dist=0.5)\n",
    "\n",
    "#Run leiden clustering based on neighbors\n",
    "sc.tl.leiden(adata, key_added=\"leiden_scVI_1.1\", resolution=1)"
   ]
  },
  {
   "cell_type": "markdown",
   "id": "e615f72c-7830-4777-ac84-06c9f2e4669f",
   "metadata": {},
   "source": [
    "## 6. Visualize clustering and QC metrics by UMAP"
   ]
  },
  {
   "cell_type": "code",
   "execution_count": null,
   "id": "7980e2d5-67a4-4a0f-a7a5-03a2fe15d22c",
   "metadata": {},
   "outputs": [],
   "source": [
    "#QC UMAPs\n",
    "sc.pl.umap(\n",
    "    adata,\n",
    "    color=[\"n_genes_by_counts\", \"total_counts\", \"pct_counts_mito\", \"log1p_total_counts\"],\n",
    "    cmap=\"cubehelix_r\",\n",
    "    s=3,\n",
    "    ncols=2,\n",
    ")"
   ]
  },
  {
   "cell_type": "code",
   "execution_count": null,
   "id": "7c36ac48-018f-46d3-9ddc-ecb0fd65afb7",
   "metadata": {},
   "outputs": [],
   "source": [
    "fig, ax = plt.subplots(figsize=(8, 6))\n",
    "sc.pl.umap(adata, color=\"Cre\", cmap=\"cmo.matter\", s=30, ax=ax, vmax=\"p99.99\", frameon=False, save=False)\n",
    "fig, ax = plt.subplots(figsize=(8, 6))\n",
    "sc.pl.umap(adata, color=\"leiden_scVI_1.1\", legend_loc=\"on data\", legend_fontsize='large',ax=ax, s=30, frameon=False, save=False)\n",
    "fig, ax = plt.subplots(figsize=(8, 6))\n",
    "sc.pl.umap(adata, color=\"UnID\", legend_loc=\"right margin\", ax=ax, s=30, frameon=False, save=False)\n",
    "fig, ax = plt.subplots(figsize=(8, 6))\n",
    "sc.pl.umap(adata, color=\"Genotype\", legend_loc=\"right margin\", ax=ax, s=30, frameon=False, save=False)\n",
    "fig, ax = plt.subplots(figsize=(8, 6))\n",
    "sc.pl.umap(adata, color=\"Model\", legend_loc=\"right margin\", ax=ax, s=30, frameon=False, save=False)\n",
    "\n",
    "#Additional QC bar graphs\n",
    "adata.obs['cluster'] = adata.obs[\"leiden_scVI_1.1\"].copy()\n",
    "\n",
    "#Plot Log1p total counts\n",
    "fig, ax = plt.subplots(figsize=(20,6))\n",
    "sns.boxenplot(data=adata.obs, x=\"cluster\", y=\"log1p_total_counts\", ax=ax)\n",
    "\n",
    "#Plot Pct counts mito\n",
    "fig, ax = plt.subplots(figsize=(20,6))\n",
    "sns.boxenplot(data=adata.obs, x=\"cluster\", y=\"pct_counts_mito\", ax=ax)\n"
   ]
  },
  {
   "cell_type": "code",
   "execution_count": null,
   "id": "64255d5c-01a0-4197-bd3a-0e6ed0652b3e",
   "metadata": {},
   "outputs": [],
   "source": [
    "# Dot plot key cell type markers\n",
    "more_types=[\"Col14a1\", \"Acta2\",\"Myh11\",\"Tagln\",\"Mustn1\", #fibroblast\n",
    "              \"Lpl\",\"Lipa\",\"Pparg\",\"Plin2\",\"Ear1\",\"Spp1\", #lipofibroblast/osteoblastic\n",
    "              \"Ptprc\",\"Mertk\",\"Mrc1\",\"Ly75\",\"Adgre1\",\"Itgax\",\"Cd68\",\"Csf1r\",\"Mafb\",\"Msr1\",\"Arg1\",\"Adgre4\", #Macs/Myeloid\n",
    "              \"Cx3cr1\",\"Itgam\",\"Cd14\", #Monocytes\n",
    "              \"S100a9\",\"S100a8\",\"Mmp9\",\"Csf3r\",\"Cxcr2\",\"Ly6g\", #Neuts\n",
    "              \"Batf3\",\"Xcr1\",\"Clec9a\",\"Ccl17\",\"Ccl22\", #DC\n",
    "              \"Cd3d\",\"Cd3e\",\"Cd3g\",\"Cd28\",\"Cd8a\",\"Cd4\",\"Foxp3\", # Tcell\n",
    "              \"Gzma\",\"Ncr1\",\"Gzmb\", #NK\n",
    "              \"Fcmr\",\"Cd19\",\"Fcer2a\",\"Pax5\",\"Cd22\",\"Cd79b\",\"Cd79a\", #B cells\n",
    "              \"Slamf7\", \"Prdm1\", #Plasma\n",
    "              \"Mcam\",\"Pecam1\",\"Icam2\",\"Cd36\",\"Cd93\", #Endothelial\n",
    "    \"Pdpn\",\"Cav1\",\"Cav2\",\"Hopx\",\"Timp3\",\"Sema3f\",\"Serpine1\", #AT1\n",
    "              \"Abca3\",\"Muc1\",\"Sftpa1\",\"Sftpb\",\"Sftpd\",\"Scd1\", #AT2\n",
    "              \"Scgb1a1\",\"Cyp2f2\",\"Scgb3a2\", \"Scgb3a1\",\"Lypd2\",#Club\n",
    "              \"Muc5ac\",\"Muc5b\", # Goblet\n",
    "              \"Tubb4a\",\"Foxa3\",\"Foxj1\",\"Rfx2\",\"Rfx3\",\"Trp73\", #Ciliated\n",
    "              'Krt5', 'Krt17','Krt15','Trp63','Id1','Icam1','Epas1','Aqp3','Sfn','Perp','Fxyd3','Sdc1','Gstm2','F3','Abi3bp','Adh7', # Basal\n",
    "              'Bex2','Ascl1','Meis2','Hes6','Hoxb5','Foxa2','Sox4','Rora','Isl1','Id4', 'Neurod1','Neurod4','Nhlh1','Nhlh2',#NE/neuronal\n",
    "              'Pou2f3','Trpm5','Ascl2','Ehf',\n",
    "              'Lrmp','Gng13','Ltc4s','Alox5ap','Avil','Alox5','Atp2a3','Plk2', #tuft\n",
    "              \"Cftr\",\"Ascl3\", 'Stap1','Atp6v1c2','Pparg','Rasd1','Slc12a2', #ionocyte\n",
    "              \"Gja1\",\"Nkx2-1\",\"Epcam\", # Lung lineage\n",
    "              'Yap1','Wwtr1','Sox2','Cd44','Hes1', # Stem-like\n",
    "             \"Venus\",\"fLuc\", \"Top2a\",\"Mki67\",\n",
    "            'GFP.CDS','CellTag.UTR'] # Tumor markers\n",
    "\n",
    "sc.set_figure_params(scanpy=True, fontsize=20) \n",
    "sc.pl.dotplot(\n",
    "    adata,figsize=[28,10],\n",
    "    var_names=more_types,\n",
    "    groupby='leiden_scVI_1.1',\n",
    "    use_raw=False,\n",
    "    layer=\"norm\",show=False,\n",
    "    color_map=\"cmo.dense\", var_group_rotation=35,standard_scale='var',\n",
    "    save=False)"
   ]
  },
  {
   "cell_type": "code",
   "execution_count": null,
   "id": "a86e2114-b167-4588-9ec8-dd41a8f95c36",
   "metadata": {},
   "outputs": [],
   "source": []
  },
  {
   "cell_type": "code",
   "execution_count": null,
   "id": "766b230b-039b-4e0d-89f3-543d219faf20",
   "metadata": {},
   "outputs": [],
   "source": [
    "# Exclude 14 as doublets\n",
    "bad_clust=['14']\n",
    "\n",
    "#Filter out bad clusters\n",
    "to_keep=(~adata.obs['leiden_scVI_1.1'].isin(bad_clust))\n",
    "\n",
    "#Copy over to new anndata object\n",
    "adata2 = adata[to_keep].copy()"
   ]
  },
  {
   "cell_type": "markdown",
   "id": "8acc5fb4-fe8d-4693-9f90-a723b0be33d5",
   "metadata": {},
   "source": [
    "### From here, continue iterating through runs of scvi modeling until no clear low quality cell clusters or non-tumor cells are observed.\n",
    "### Start back up at \"set up and train scvi model\" and run through subsetting out \"bad clusters\".\n",
    "### Each time clusters are removed, model is run again to recluster."
   ]
  },
  {
   "cell_type": "markdown",
   "id": "be0ed3f4-2ddc-4594-9b72-4be7803b5675",
   "metadata": {},
   "source": [
    "## ITERATION 2\n",
    "### Final iteration for Extended Data Fig. 7a"
   ]
  },
  {
   "cell_type": "code",
   "execution_count": null,
   "id": "103c9de7-01d0-4a4e-a8d9-e1606b6d7476",
   "metadata": {},
   "outputs": [],
   "source": [
    "#HVG via Scanpy\n",
    "#Note here that if you run with a batch_key with few cells, will get b'reciprocal condition number error\n",
    "sc.pp.highly_variable_genes(\n",
    "    adata2,n_top_genes=5000,\n",
    "    subset=False,\n",
    "    layer=\"counts\",\n",
    "    flavor=\"seurat_v3\"\n",
    ")"
   ]
  },
  {
   "cell_type": "code",
   "execution_count": null,
   "id": "8b055347-bbc6-4a04-b8df-465466c7d049",
   "metadata": {},
   "outputs": [],
   "source": [
    "adata2.var['mean_'] = np.array(adata2.X.mean(0))[0]\n",
    "adata2.var['frac_zero'] = 1 - np.array((adata2.X > 0).sum(0))[0] / adata2.shape[0]\n",
    "\n",
    "fig, ax = plt.subplots(figsize=(9,6))\n",
    "ax.scatter(adata2.var.mean_, adata2.var.frac_zero, s=1)\n",
    "ax.set_xscale(\"log\")"
   ]
  },
  {
   "cell_type": "code",
   "execution_count": null,
   "id": "ce67d307-76d7-4fe4-aac1-d4e027628474",
   "metadata": {},
   "outputs": [],
   "source": [
    "#Calculate Poisson gene selection\n",
    "df_poisson = scvi.data.poisson_gene_selection(\n",
    "    adata2, n_top_genes=5000, batch_key=\"Batch\", inplace=False\n",
    ")\n",
    "\n",
    "df_poisson[df_poisson.highly_variable].sort_values('prob_zero_enrichment_rank')\n",
    "\n",
    "pd.crosstab(df_poisson.highly_variable, adata2.var.highly_variable)\n",
    "\n",
    "is_hvg = df_poisson.highly_variable\n",
    "\n",
    "adata2.varm['df_poisson']= df_poisson\n",
    "\n",
    "adata_query = adata2[:, is_hvg].copy()\n",
    "print(adata_query)"
   ]
  },
  {
   "cell_type": "code",
   "execution_count": null,
   "id": "c715f43d-9f30-4b96-97fe-15c0a192be7c",
   "metadata": {},
   "outputs": [],
   "source": [
    "scvi.model.SCVI.setup_anndata(\n",
    "    adata_query,\n",
    "    layer=\"counts\",\n",
    "    batch_key='Batch',\n",
    "    continuous_covariate_keys=[\"pct_counts_mito\"]\n",
    ")\n",
    "\n",
    "model = scvi.model.SCVI(adata_query)"
   ]
  },
  {
   "cell_type": "code",
   "execution_count": null,
   "id": "e556a2d6-529d-41cb-b075-570d2f90efc9",
   "metadata": {},
   "outputs": [],
   "source": [
    "#Train and run scvi\n",
    "\n",
    "#Training parameters\n",
    "train_kwargs = dict(\n",
    "    early_stopping=True,\n",
    "    early_stopping_patience=20,\n",
    "    enable_model_summary=True,\n",
    "    enable_progress_bar=True,\n",
    "    enable_checkpointing=True,\n",
    "    max_epochs=500\n",
    ")\n",
    "\n",
    "#Train and run model\n",
    "#Be sure GPU is enabled to run this\n",
    "model.train(**train_kwargs)"
   ]
  },
  {
   "cell_type": "code",
   "execution_count": null,
   "id": "a9f085c0-9d68-4125-9e7b-3b3be6a98a64",
   "metadata": {},
   "outputs": [],
   "source": [
    "#Fit model to data\n",
    "#Get latent representation of model to apply to UMAP\n",
    "latent = model.get_latent_representation()\n",
    "\n",
    "adata2.obsm[\"X_scVI_1.2\"] = latent"
   ]
  },
  {
   "cell_type": "code",
   "execution_count": null,
   "id": "dc3ccf93-b890-4496-b3a2-7440cd3b3251",
   "metadata": {},
   "outputs": [],
   "source": [
    "#Calculate neighbors using scVI model input\n",
    "sc.pp.neighbors(adata2, use_rep=\"X_scVI_1.2\")\n",
    "sc.tl.umap(adata2, min_dist=0.5)\n",
    "\n",
    "#Run leiden clustering based on neighbors\n",
    "sc.tl.leiden(adata2, key_added=\"leiden_scVI_1.2\", resolution=0.5)\n"
   ]
  },
  {
   "cell_type": "markdown",
   "id": "fa466d03-df4a-41e2-b8b9-1e48737028de",
   "metadata": {},
   "source": [
    "### Visualize UMAP and final leiden clusters as in Ext. Data Fig. 7a,b"
   ]
  },
  {
   "cell_type": "code",
   "execution_count": null,
   "id": "8cf3596d-085d-4735-b286-ac7ecb2f88b3",
   "metadata": {},
   "outputs": [],
   "source": [
    "#Add cluster label\n",
    "adata2.obs['cluster'] = adata2.obs[\"leiden_scVI_1.2\"].copy()\n",
    "\n",
    "#Plot Log1p total counts\n",
    "fig, ax = plt.subplots(figsize=(20,6))\n",
    "sns.boxenplot(data=adata2.obs, x=\"cluster\", y=\"log1p_total_counts\", ax=ax)\n",
    "\n",
    "#Plot Pct counts mito\n",
    "fig, ax = plt.subplots(figsize=(20,6))\n",
    "sns.boxenplot(data=adata2.obs, x=\"cluster\", y=\"pct_counts_mito\", ax=ax)\n"
   ]
  },
  {
   "cell_type": "code",
   "execution_count": null,
   "id": "88b4f5d2-81ee-4dde-aff1-4c52b93b9c17",
   "metadata": {},
   "outputs": [],
   "source": [
    "sc.set_figure_params(scanpy=True, fontsize=20) \n",
    "sc.pl.dotplot(\n",
    "    adata2,figsize=[28,10],\n",
    "    var_names=more_types,\n",
    "    groupby='leiden_scVI_1.2',\n",
    "    use_raw=False,\n",
    "    layer=\"norm\",show=False,\n",
    "    color_map=\"cmo.dense\", var_group_rotation=35,standard_scale='var',\n",
    "    save=False)"
   ]
  },
  {
   "cell_type": "code",
   "execution_count": null,
   "id": "4e935abc-00fe-4b42-9d3d-729135de6547",
   "metadata": {},
   "outputs": [],
   "source": [
    "adata2.obs.groupby([\"UnID\"]).apply(len)"
   ]
  },
  {
   "cell_type": "code",
   "execution_count": null,
   "id": "04010b2a-9c9c-4206-8e2f-8fa6c56563a1",
   "metadata": {},
   "outputs": [],
   "source": [
    "# Reorder\n",
    "lin = ('WT_Org_NoCre','RPM_Org_Cre','RPMA_Org_Cre')\n",
    "adata2.obs['UnID'] = adata2.obs['UnID'].cat.reorder_categories(list(lin))"
   ]
  },
  {
   "cell_type": "code",
   "execution_count": null,
   "id": "3f4665cf-4d8b-48f3-928c-93525704f6e8",
   "metadata": {},
   "outputs": [],
   "source": [
    "adata2.obs.groupby([\"UnID\"]).apply(len)"
   ]
  },
  {
   "cell_type": "markdown",
   "id": "d2fac2da-13e9-4009-a3a2-8568f7230e4c",
   "metadata": {},
   "source": [
    "### Determine cluster marker genes to aid in basal cell state determination and for supplementary tables"
   ]
  },
  {
   "cell_type": "code",
   "execution_count": null,
   "id": "eda1ee6f-c1c0-45e2-b3e0-fd10dcf5f990",
   "metadata": {},
   "outputs": [],
   "source": [
    "#Generate signatures from these basal cells organoids and allografts\n",
    "sc.pp.normalize_total(adata2)\n",
    "sc.pp.log1p(adata2)\n",
    "\n",
    "# Extract top 500 marker genes for leiden clusters from data \n",
    "sc.tl.rank_genes_groups(adata2,'leiden_scVI_1.2', method='wilcoxon', n_genes=500)\n",
    "\n",
    "result = adata2.uns['rank_genes_groups']\n",
    "groups = result['names'].dtype.names\n",
    "markergenes=pd.DataFrame(\n",
    "    {group + '_' + key[:1]: result[key][group]\n",
    "    for group in groups for key in ['names', 'pvals']})\n",
    "\n",
    "markergenes.to_csv('030525_adata2_RPM_RPMA_WT_organoids_leiden_1.2_clustermarkers.csv' )"
   ]
  },
  {
   "cell_type": "code",
   "execution_count": null,
   "id": "a701cd20-5ee3-41a9-a287-d91f769081a5",
   "metadata": {},
   "outputs": [],
   "source": [
    "# Assign basal cell states / basal heterogeneity \n",
    "sc.pp.pca(adata2, n_comps=50)"
   ]
  },
  {
   "cell_type": "code",
   "execution_count": null,
   "id": "7f9518e1-4ee5-4d76-bee1-b3cdff7441fc",
   "metadata": {},
   "outputs": [],
   "source": [
    "sc.tl.rank_genes_groups(adata2, groupby=\"leiden_scVI_1.2\", method=\"wilcoxon\")"
   ]
  },
  {
   "cell_type": "code",
   "execution_count": null,
   "id": "9148e7b8-8253-4b46-b32e-c9a6c2416cf1",
   "metadata": {},
   "outputs": [],
   "source": [
    "# Run dendrogram explicitly with specific parameters\n",
    "sc.tl.dendrogram(adata2, groupby=\"leiden_scVI_1.2\", use_rep='X_pca', n_pcs=50)"
   ]
  },
  {
   "cell_type": "code",
   "execution_count": null,
   "id": "b81e42e2-8277-4863-a275-06f2135cf25a",
   "metadata": {},
   "outputs": [],
   "source": [
    "# Plot top 10 marker genes by cluster\n",
    "sc.pl.rank_genes_groups_dotplot(adata2, n_genes=10,figsize=[30,3], standard_scale='var')"
   ]
  },
  {
   "cell_type": "code",
   "execution_count": null,
   "id": "83cebd9b-0524-4a29-9a4f-29979b5ae5a1",
   "metadata": {},
   "outputs": [],
   "source": [
    "# 4 is prolif basal\n",
    "# 2 is hillock-like"
   ]
  },
  {
   "cell_type": "markdown",
   "id": "67b2e9db-b249-4b00-b960-95b9b7a79a54",
   "metadata": {},
   "source": [
    "### Apply basal state signatures from Lin et al, Nature, 2024 and Goldfarbmuren, Nat Comm, 2020"
   ]
  },
  {
   "cell_type": "code",
   "execution_count": null,
   "id": "c766820f-753c-4e87-a2eb-4a4d0e7c8965",
   "metadata": {},
   "outputs": [],
   "source": [
    "## Apply signatures and look at enrichments \n",
    "hillock=pd.read_csv('../data/luminal_basal_hillock.csv')\n",
    "luminal=hillock.Luminal_hillock\n",
    "basal=hillock.Basal_hillock\n",
    "\n",
    "luminal=luminal.squeeze().str.strip().to_list()\n",
    "basal=basal.squeeze().str.strip().to_list()\n"
   ]
  },
  {
   "cell_type": "code",
   "execution_count": null,
   "id": "97f3d5ec-79a5-41cc-aad7-fe0baf56dce8",
   "metadata": {
    "tags": []
   },
   "outputs": [],
   "source": [
    "sc.tl.score_genes(adata2, luminal, score_name='Luminal_hillock')\n",
    "sc.tl.score_genes(adata2, basal, score_name='Basal_hillock')\n"
   ]
  },
  {
   "cell_type": "code",
   "execution_count": null,
   "id": "48d5b26a-3229-40ff-9e3c-65cc0f875f74",
   "metadata": {},
   "outputs": [],
   "source": [
    "## Apply signatures and look at enrichments \n",
    "ct=pd.read_csv('../data/Goldfarbmuren_CellSigs_mhomologs.csv')\n",
    "ct\n",
    "\n",
    "prolif_basal=ct.Proliferating_basal\n",
    "proteo_basal=ct.Proteasomal_basal\n",
    "diff_basal=ct.Differentiating_basal\n",
    "krt8high=ct.KRT8high\n",
    "mucus_sec=ct.Mucus_secretory\n",
    "ciliated=ct.Ciliated\n",
    "pnec=ct.PNEC\n",
    "iono_tuft=ct.Iono_tuft\n",
    "smg_basal=ct.SMG_basal\n",
    "smg_sec=ct.SMG_secretory\n",
    "\n",
    "prolif_basal=prolif_basal.squeeze().str.strip().to_list()\n",
    "proteo_basal=proteo_basal.squeeze().str.strip().to_list()\n",
    "diff_basal=diff_basal.squeeze().str.strip().to_list()\n",
    "krt8high=krt8high.squeeze().str.strip().to_list()\n",
    "mucus_sec=mucus_sec.squeeze().str.strip().to_list()\n",
    "ciliated=ciliated.squeeze().str.strip().to_list()\n",
    "pnec=pnec.squeeze().str.strip().to_list()\n",
    "iono_tuft=iono_tuft.squeeze().str.strip().to_list()\n",
    "smg_basal=smg_basal.squeeze().str.strip().to_list()\n",
    "smg_sec=smg_sec.squeeze().str.strip().to_list()\n",
    "\n"
   ]
  },
  {
   "cell_type": "code",
   "execution_count": null,
   "id": "c95d07ec-fd89-4105-9ca3-1f2abcb91f86",
   "metadata": {
    "tags": []
   },
   "outputs": [],
   "source": [
    "sc.tl.score_genes(adata2, prolif_basal, score_name='prolif_basal')\n",
    "sc.tl.score_genes(adata2, proteo_basal, score_name='proteo_basal')\n",
    "sc.tl.score_genes(adata2, diff_basal, score_name='diff_basal')\n",
    "sc.tl.score_genes(adata2, krt8high, score_name='krt8high')\n",
    "sc.tl.score_genes(adata2, mucus_sec, score_name='mucus_sec')\n",
    "sc.tl.score_genes(adata2, ciliated, score_name='ciliated')\n",
    "sc.tl.score_genes(adata2, pnec, score_name='pnec')\n",
    "sc.tl.score_genes(adata2, iono_tuft, score_name='iono_tuft')\n",
    "sc.tl.score_genes(adata2, smg_basal, score_name='smg_basal')\n",
    "sc.tl.score_genes(adata2, smg_sec, score_name='smg_sec')"
   ]
  },
  {
   "cell_type": "markdown",
   "id": "266daa4d-5b41-4061-9510-339639b39704",
   "metadata": {},
   "source": [
    "### Visualize basal state heterogeneity signatures for Ext. Data Fig. 7c"
   ]
  },
  {
   "cell_type": "code",
   "execution_count": null,
   "id": "c93e1963-cefa-405c-ba3b-1e89af1e0edd",
   "metadata": {},
   "outputs": [],
   "source": [
    "sigs=[\"Basal_hillock\",\"Luminal_hillock\",\"prolif_basal\",\"proteo_basal\",\"diff_basal\",\n",
    "                           \"krt8high\",\"mucus_sec\",\"ciliated\",\"pnec\",\"iono_tuft\",\"smg_basal\",\"smg_sec\"]\n"
   ]
  },
  {
   "cell_type": "code",
   "execution_count": null,
   "id": "4939efa7-9676-4364-aca5-401129e789a0",
   "metadata": {},
   "outputs": [],
   "source": [
    "# Based on signature enrichment patterns and top DEGs...\n",
    "\n",
    "# 0,6   is proteosomal basal\n",
    "# 1,5 is diff basal\n",
    "# 2 is luminal hillock/secretory\n",
    "# 3,7 is hillock/krt8 intermediate\n",
    "# 4 is prolif basal\n",
    "\n"
   ]
  },
  {
   "cell_type": "code",
   "execution_count": null,
   "id": "1f3a28d0-c134-4104-a0b7-21b6f3c158fc",
   "metadata": {},
   "outputs": [],
   "source": [
    "adata2.obs[\"CellType_Sig_Based\"]=adata2.obs[\"leiden_scVI_1.2\"]"
   ]
  },
  {
   "cell_type": "code",
   "execution_count": null,
   "id": "299c42e3-a1c2-4811-99a5-0b1ffe7bc4eb",
   "metadata": {},
   "outputs": [],
   "source": [
    "# Define based on sigs above and DEGS below\n",
    "\n",
    "# Define the column in .obs and the mapping for replacement\n",
    "column_to_modify = \"CellType_Sig_Based\"  # Replace with the actual column name in adata.obs\n",
    "replacement_dict = {\n",
    "    \"0\": \"Proteosomal_Basal\",\n",
    "    \"1\": \"Differentiating_Basal\",\n",
    "    \"2\": \"Luminal_Hillock/Secretory\",\n",
    "    \"3\": \"Krt8_Interm/Hillock\",\n",
    "    \"4\": \"Proliferative_Basal\",\n",
    "    \"5\": \"Differentiating_Basal\",\n",
    "    \"6\": \"Proteosomal_Basal\",\n",
    "    \"7\": \"Krt8_Interm/Hillock\"\n",
    "}\n",
    "\n",
    "# Ensure the column exists\n",
    "if column_to_modify in adata2.obs:\n",
    "    # Replace values using the mapping\n",
    "    adata2.obs[column_to_modify] = adata2.obs[column_to_modify].replace(replacement_dict)\n",
    "    print(\"Replacement completed.\")\n",
    "else:\n",
    "    print(f\"Column '{column_to_modify}' not found in adata.obs.\")\n",
    "\n"
   ]
  },
  {
   "cell_type": "markdown",
   "id": "f65739bd-d34f-482b-b648-fc024680d0e3",
   "metadata": {},
   "source": [
    "### Validate assigned states by looking at top cluster markers by state"
   ]
  },
  {
   "cell_type": "code",
   "execution_count": null,
   "id": "c11c5f50-6b4d-4a3e-b402-f33658a25789",
   "metadata": {},
   "outputs": [],
   "source": [
    "sc.tl.rank_genes_groups(adata2, groupby=\"CellType_Sig_Based\", method=\"wilcoxon\")\n",
    "\n",
    "# Run dendrogram explicitly with specific parameters\n",
    "sc.tl.dendrogram(adata2, groupby=\"CellType_Sig_Based\", use_rep='X_pca', n_pcs=50)\n"
   ]
  },
  {
   "cell_type": "code",
   "execution_count": null,
   "id": "14144eba-12bd-4bae-942e-77c38bb4fce6",
   "metadata": {},
   "outputs": [],
   "source": [
    "sc.pl.rank_genes_groups_dotplot(adata2, n_genes=15,figsize=[30,3], standard_scale='var', color_map=\"cmo.dense\",)"
   ]
  },
  {
   "cell_type": "code",
   "execution_count": null,
   "id": "92119570-8550-4a11-94a4-6aa8882ba75c",
   "metadata": {},
   "outputs": [],
   "source": [
    "adata2.write_h5ad(\"030525_RPM_RPMA_WT_Organoids_forCellTagwStates.h5ad\")"
   ]
  },
  {
   "cell_type": "markdown",
   "id": "c6f1d0ee-a369-44f7-843d-b5e11c360900",
   "metadata": {},
   "source": [
    "## End of analysis in Scanpy, move to Seurat in R for annotation of CellTag data and final analyses.\n",
    "## To do this, convert resulting h5ad anndata object from this script as a Seurat object in R."
   ]
  },
  {
   "cell_type": "code",
   "execution_count": null,
   "id": "a8797367-8433-4148-a27a-1a6ba3645e87",
   "metadata": {},
   "outputs": [],
   "source": []
  }
 ],
 "metadata": {
  "kernelspec": {
   "display_name": "Python 3",
   "language": "python",
   "name": "python3"
  },
  "language_info": {
   "codemirror_mode": {
    "name": "ipython",
    "version": 3
   },
   "file_extension": ".py",
   "mimetype": "text/x-python",
   "name": "python",
   "nbconvert_exporter": "python",
   "pygments_lexer": "ipython3",
   "version": "3.8.8"
  }
 },
 "nbformat": 4,
 "nbformat_minor": 5
}
